{
 "cells": [
  {
   "cell_type": "code",
   "execution_count": 3,
   "metadata": {},
   "outputs": [],
   "source": [
    "import importlib\n",
    "import sys,os,math,time\n",
    "\n",
    "import networkx as nx\n",
    "import geopandas as gpd\n",
    "import numpy as np\n",
    "import osmnx as ox\n",
    "import pandas as pd\n",
    "import rasterio\n",
    "import pylab as plt\n",
    "import json\n",
    "#import pycrs\n",
    "import seaborn as sns\n",
    "\n",
    "from shapely.geometry import Point\n",
    "from rasterio.plot import show, show_hist\n",
    "from rasterio.mask import mask\n",
    "\n",
    "import GOSTnet as gn\n",
    "from pandana.loaders import osm;\n",
    "\n",
    "from osgeo import gdal, gdalconst, gdal_array\n",
    "#from rasterstats import point_query, zonal_stats\n",
    "from make_fishnet import make_fishnet"
   ]
  },
  {
   "cell_type": "code",
   "execution_count": 4,
   "metadata": {},
   "outputs": [],
   "source": [
    "boundary_GDF = ox.gdf_from_place('Kampala',which_result=2)\n",
    "boundary_GDF\n",
    "boundary_poly = boundary_GDF.loc[0,'geometry']    # boundary as shapely polygon"
   ]
  },
  {
   "cell_type": "code",
   "execution_count": 5,
   "metadata": {},
   "outputs": [],
   "source": [
    "pop_raster = rasterio.open('data/kampala_pop_2.tiff')\n",
    "coords = (pop_raster.bounds[1], pop_raster.bounds[0], pop_raster.bounds[3], pop_raster.bounds[2])"
   ]
  },
  {
   "cell_type": "code",
   "execution_count": 6,
   "metadata": {},
   "outputs": [],
   "source": [
    "path = 'data'\n",
    "tif_10_proj_path = os.path.join(path, '10yr_Kampala_proj.tif')\n",
    "tif_50_proj_path = os.path.join(path, '50yr_Kampala_proj.tif')\n",
    "tif_100_proj_path = os.path.join(path, '100yr_Kampala_proj.tif')"
   ]
  },
  {
   "cell_type": "markdown",
   "metadata": {},
   "source": [
    "#### 3. Sample rasters for flood depth"
   ]
  },
  {
   "cell_type": "code",
   "execution_count": 7,
   "metadata": {},
   "outputs": [
    {
     "ename": "DataDirError",
     "evalue": "Valid PROJ.4 data directory not found.Either set the path using the environmental variable PROJ_LIB or with `pyproj.datadir.set_data_dir`.",
     "output_type": "error",
     "traceback": [
      "\u001b[0;31m---------------------------------------------------------------------------\u001b[0m",
      "\u001b[0;31mDataDirError\u001b[0m                              Traceback (most recent call last)",
      "\u001b[0;32m/anaconda3/envs/geo6/lib/python3.6/site-packages/pyproj/datadir.py\u001b[0m in \u001b[0;36mget_data_dir\u001b[0;34m()\u001b[0m\n\u001b[1;32m     97\u001b[0m     \u001b[0;32mif\u001b[0m \u001b[0m_VALIDATED_PROJ_DATA\u001b[0m \u001b[0;32mis\u001b[0m \u001b[0;32mNone\u001b[0m\u001b[0;34m:\u001b[0m\u001b[0;34m\u001b[0m\u001b[0;34m\u001b[0m\u001b[0m\n\u001b[1;32m     98\u001b[0m         raise DataDirError(\n\u001b[0;32m---> 99\u001b[0;31m             \u001b[0;34m\"Valid PROJ.4 data directory not found.\"\u001b[0m\u001b[0;34m\u001b[0m\u001b[0;34m\u001b[0m\u001b[0m\n\u001b[0m\u001b[1;32m    100\u001b[0m             \u001b[0;34m\"Either set the path using the environmental variable PROJ_LIB or \"\u001b[0m\u001b[0;34m\u001b[0m\u001b[0;34m\u001b[0m\u001b[0m\n\u001b[1;32m    101\u001b[0m             \u001b[0;34m\"with `pyproj.datadir.set_data_dir`.\"\u001b[0m\u001b[0;34m\u001b[0m\u001b[0;34m\u001b[0m\u001b[0m\n",
      "\u001b[0;31mDataDirError\u001b[0m: Valid PROJ.4 data directory not found.Either set the path using the environmental variable PROJ_LIB or with `pyproj.datadir.set_data_dir`."
     ]
    },
    {
     "name": "stderr",
     "output_type": "stream",
     "text": [
      "Exception ignored in: 'pyproj._datadir.get_pyproj_context'\n",
      "Traceback (most recent call last):\n",
      "  File \"/anaconda3/envs/geo6/lib/python3.6/site-packages/pyproj/datadir.py\", line 99, in get_data_dir\n",
      "    \"Valid PROJ.4 data directory not found.\"\n",
      "pyproj.exceptions.DataDirError: Valid PROJ.4 data directory not found.Either set the path using the environmental variable PROJ_LIB or with `pyproj.datadir.set_data_dir`.\n"
     ]
    },
    {
     "ename": "CRSError",
     "evalue": "Invalid projection: +init=epsg:4326 +type=crs",
     "output_type": "error",
     "traceback": [
      "\u001b[0;31m---------------------------------------------------------------------------\u001b[0m",
      "\u001b[0;31mCRSError\u001b[0m                                  Traceback (most recent call last)",
      "\u001b[0;32m<ipython-input-7-0ef400461b8b>\u001b[0m in \u001b[0;36m<module>\u001b[0;34m\u001b[0m\n\u001b[1;32m      1\u001b[0m \u001b[0;31m# Create graph\u001b[0m\u001b[0;34m\u001b[0m\u001b[0;34m\u001b[0m\u001b[0;34m\u001b[0m\u001b[0m\n\u001b[0;32m----> 2\u001b[0;31m \u001b[0mG\u001b[0m \u001b[0;34m=\u001b[0m \u001b[0mox\u001b[0m\u001b[0;34m.\u001b[0m\u001b[0mgraph_from_polygon\u001b[0m\u001b[0;34m(\u001b[0m\u001b[0mboundary_poly\u001b[0m\u001b[0;34m,\u001b[0m \u001b[0mnetwork_type\u001b[0m \u001b[0;34m=\u001b[0m \u001b[0;34m'drive'\u001b[0m\u001b[0;34m)\u001b[0m\u001b[0;34m\u001b[0m\u001b[0;34m\u001b[0m\u001b[0m\n\u001b[0m",
      "\u001b[0;32m/anaconda3/envs/geo6/lib/python3.6/site-packages/osmnx/core.py\u001b[0m in \u001b[0;36mgraph_from_polygon\u001b[0;34m(polygon, network_type, simplify, retain_all, truncate_by_edge, name, timeout, memory, max_query_area_size, clean_periphery, infrastructure, custom_filter)\u001b[0m\n\u001b[1;32m   1741\u001b[0m         \u001b[0;31m# create a new buffered polygon 0.5km around the desired one\u001b[0m\u001b[0;34m\u001b[0m\u001b[0;34m\u001b[0m\u001b[0;34m\u001b[0m\u001b[0m\n\u001b[1;32m   1742\u001b[0m         \u001b[0mbuffer_dist\u001b[0m \u001b[0;34m=\u001b[0m \u001b[0;36m500\u001b[0m\u001b[0;34m\u001b[0m\u001b[0;34m\u001b[0m\u001b[0m\n\u001b[0;32m-> 1743\u001b[0;31m         \u001b[0mpolygon_utm\u001b[0m\u001b[0;34m,\u001b[0m \u001b[0mcrs_utm\u001b[0m \u001b[0;34m=\u001b[0m \u001b[0mproject_geometry\u001b[0m\u001b[0;34m(\u001b[0m\u001b[0mgeometry\u001b[0m\u001b[0;34m=\u001b[0m\u001b[0mpolygon\u001b[0m\u001b[0;34m)\u001b[0m\u001b[0;34m\u001b[0m\u001b[0;34m\u001b[0m\u001b[0m\n\u001b[0m\u001b[1;32m   1744\u001b[0m         \u001b[0mpolygon_proj_buff\u001b[0m \u001b[0;34m=\u001b[0m \u001b[0mpolygon_utm\u001b[0m\u001b[0;34m.\u001b[0m\u001b[0mbuffer\u001b[0m\u001b[0;34m(\u001b[0m\u001b[0mbuffer_dist\u001b[0m\u001b[0;34m)\u001b[0m\u001b[0;34m\u001b[0m\u001b[0;34m\u001b[0m\u001b[0m\n\u001b[1;32m   1745\u001b[0m         \u001b[0mpolygon_buffered\u001b[0m\u001b[0;34m,\u001b[0m \u001b[0m_\u001b[0m \u001b[0;34m=\u001b[0m \u001b[0mproject_geometry\u001b[0m\u001b[0;34m(\u001b[0m\u001b[0mgeometry\u001b[0m\u001b[0;34m=\u001b[0m\u001b[0mpolygon_proj_buff\u001b[0m\u001b[0;34m,\u001b[0m \u001b[0mcrs\u001b[0m\u001b[0;34m=\u001b[0m\u001b[0mcrs_utm\u001b[0m\u001b[0;34m,\u001b[0m \u001b[0mto_latlong\u001b[0m\u001b[0;34m=\u001b[0m\u001b[0;32mTrue\u001b[0m\u001b[0;34m)\u001b[0m\u001b[0;34m\u001b[0m\u001b[0;34m\u001b[0m\u001b[0m\n",
      "\u001b[0;32m/anaconda3/envs/geo6/lib/python3.6/site-packages/osmnx/projection.py\u001b[0m in \u001b[0;36mproject_geometry\u001b[0;34m(geometry, crs, to_crs, to_latlong)\u001b[0m\n\u001b[1;32m     51\u001b[0m     \u001b[0mgdf\u001b[0m\u001b[0;34m[\u001b[0m\u001b[0;34m'geometry'\u001b[0m\u001b[0;34m]\u001b[0m \u001b[0;34m=\u001b[0m \u001b[0;32mNone\u001b[0m\u001b[0;34m\u001b[0m\u001b[0;34m\u001b[0m\u001b[0m\n\u001b[1;32m     52\u001b[0m     \u001b[0mgdf\u001b[0m\u001b[0;34m.\u001b[0m\u001b[0mloc\u001b[0m\u001b[0;34m[\u001b[0m\u001b[0;36m0\u001b[0m\u001b[0;34m,\u001b[0m \u001b[0;34m'geometry'\u001b[0m\u001b[0;34m]\u001b[0m \u001b[0;34m=\u001b[0m \u001b[0mgeometry\u001b[0m\u001b[0;34m\u001b[0m\u001b[0;34m\u001b[0m\u001b[0m\n\u001b[0;32m---> 53\u001b[0;31m     \u001b[0mgdf_proj\u001b[0m \u001b[0;34m=\u001b[0m \u001b[0mproject_gdf\u001b[0m\u001b[0;34m(\u001b[0m\u001b[0mgdf\u001b[0m\u001b[0;34m,\u001b[0m \u001b[0mto_crs\u001b[0m\u001b[0;34m=\u001b[0m\u001b[0mto_crs\u001b[0m\u001b[0;34m,\u001b[0m \u001b[0mto_latlong\u001b[0m\u001b[0;34m=\u001b[0m\u001b[0mto_latlong\u001b[0m\u001b[0;34m)\u001b[0m\u001b[0;34m\u001b[0m\u001b[0;34m\u001b[0m\u001b[0m\n\u001b[0m\u001b[1;32m     54\u001b[0m     \u001b[0mgeometry_proj\u001b[0m \u001b[0;34m=\u001b[0m \u001b[0mgdf_proj\u001b[0m\u001b[0;34m[\u001b[0m\u001b[0;34m'geometry'\u001b[0m\u001b[0;34m]\u001b[0m\u001b[0;34m.\u001b[0m\u001b[0miloc\u001b[0m\u001b[0;34m[\u001b[0m\u001b[0;36m0\u001b[0m\u001b[0;34m]\u001b[0m\u001b[0;34m\u001b[0m\u001b[0;34m\u001b[0m\u001b[0m\n\u001b[1;32m     55\u001b[0m     \u001b[0;32mreturn\u001b[0m \u001b[0mgeometry_proj\u001b[0m\u001b[0;34m,\u001b[0m \u001b[0mgdf_proj\u001b[0m\u001b[0;34m.\u001b[0m\u001b[0mcrs\u001b[0m\u001b[0;34m\u001b[0m\u001b[0;34m\u001b[0m\u001b[0m\n",
      "\u001b[0;32m/anaconda3/envs/geo6/lib/python3.6/site-packages/osmnx/projection.py\u001b[0m in \u001b[0;36mproject_gdf\u001b[0;34m(gdf, to_crs, to_latlong)\u001b[0m\n\u001b[1;32m    117\u001b[0m \u001b[0;34m\u001b[0m\u001b[0m\n\u001b[1;32m    118\u001b[0m             \u001b[0;31m# project the GeoDataFrame to the UTM CRS\u001b[0m\u001b[0;34m\u001b[0m\u001b[0;34m\u001b[0m\u001b[0;34m\u001b[0m\u001b[0m\n\u001b[0;32m--> 119\u001b[0;31m             \u001b[0mprojected_gdf\u001b[0m \u001b[0;34m=\u001b[0m \u001b[0mgdf\u001b[0m\u001b[0;34m.\u001b[0m\u001b[0mto_crs\u001b[0m\u001b[0;34m(\u001b[0m\u001b[0mutm_crs\u001b[0m\u001b[0;34m)\u001b[0m\u001b[0;34m\u001b[0m\u001b[0;34m\u001b[0m\u001b[0m\n\u001b[0m\u001b[1;32m    120\u001b[0m             \u001b[0mlog\u001b[0m\u001b[0;34m(\u001b[0m\u001b[0;34m'Projected the GeoDataFrame \"{}\" to UTM-{} in {:,.2f} seconds'\u001b[0m\u001b[0;34m.\u001b[0m\u001b[0mformat\u001b[0m\u001b[0;34m(\u001b[0m\u001b[0mgdf\u001b[0m\u001b[0;34m.\u001b[0m\u001b[0mgdf_name\u001b[0m\u001b[0;34m,\u001b[0m \u001b[0mutm_zone\u001b[0m\u001b[0;34m,\u001b[0m \u001b[0mtime\u001b[0m\u001b[0;34m.\u001b[0m\u001b[0mtime\u001b[0m\u001b[0;34m(\u001b[0m\u001b[0;34m)\u001b[0m\u001b[0;34m-\u001b[0m\u001b[0mstart_time\u001b[0m\u001b[0;34m)\u001b[0m\u001b[0;34m)\u001b[0m\u001b[0;34m\u001b[0m\u001b[0;34m\u001b[0m\u001b[0m\n\u001b[1;32m    121\u001b[0m \u001b[0;34m\u001b[0m\u001b[0m\n",
      "\u001b[0;32m/anaconda3/envs/geo6/lib/python3.6/site-packages/geopandas/geodataframe.py\u001b[0m in \u001b[0;36mto_crs\u001b[0;34m(self, crs, epsg, inplace)\u001b[0m\n\u001b[1;32m    441\u001b[0m         \u001b[0;32melse\u001b[0m\u001b[0;34m:\u001b[0m\u001b[0;34m\u001b[0m\u001b[0;34m\u001b[0m\u001b[0m\n\u001b[1;32m    442\u001b[0m             \u001b[0mdf\u001b[0m \u001b[0;34m=\u001b[0m \u001b[0mself\u001b[0m\u001b[0;34m.\u001b[0m\u001b[0mcopy\u001b[0m\u001b[0;34m(\u001b[0m\u001b[0;34m)\u001b[0m\u001b[0;34m\u001b[0m\u001b[0;34m\u001b[0m\u001b[0m\n\u001b[0;32m--> 443\u001b[0;31m         \u001b[0mgeom\u001b[0m \u001b[0;34m=\u001b[0m \u001b[0mdf\u001b[0m\u001b[0;34m.\u001b[0m\u001b[0mgeometry\u001b[0m\u001b[0;34m.\u001b[0m\u001b[0mto_crs\u001b[0m\u001b[0;34m(\u001b[0m\u001b[0mcrs\u001b[0m\u001b[0;34m=\u001b[0m\u001b[0mcrs\u001b[0m\u001b[0;34m,\u001b[0m \u001b[0mepsg\u001b[0m\u001b[0;34m=\u001b[0m\u001b[0mepsg\u001b[0m\u001b[0;34m)\u001b[0m\u001b[0;34m\u001b[0m\u001b[0;34m\u001b[0m\u001b[0m\n\u001b[0m\u001b[1;32m    444\u001b[0m         \u001b[0mdf\u001b[0m\u001b[0;34m.\u001b[0m\u001b[0mgeometry\u001b[0m \u001b[0;34m=\u001b[0m \u001b[0mgeom\u001b[0m\u001b[0;34m\u001b[0m\u001b[0;34m\u001b[0m\u001b[0m\n\u001b[1;32m    445\u001b[0m         \u001b[0mdf\u001b[0m\u001b[0;34m.\u001b[0m\u001b[0mcrs\u001b[0m \u001b[0;34m=\u001b[0m \u001b[0mgeom\u001b[0m\u001b[0;34m.\u001b[0m\u001b[0mcrs\u001b[0m\u001b[0;34m\u001b[0m\u001b[0;34m\u001b[0m\u001b[0m\n",
      "\u001b[0;32m/anaconda3/envs/geo6/lib/python3.6/site-packages/geopandas/geoseries.py\u001b[0m in \u001b[0;36mto_crs\u001b[0;34m(self, crs, epsg)\u001b[0m\n\u001b[1;32m    302\u001b[0m             \u001b[0;32mexcept\u001b[0m \u001b[0mTypeError\u001b[0m\u001b[0;34m:\u001b[0m\u001b[0;34m\u001b[0m\u001b[0;34m\u001b[0m\u001b[0m\n\u001b[1;32m    303\u001b[0m                 \u001b[0;32mraise\u001b[0m \u001b[0mTypeError\u001b[0m\u001b[0;34m(\u001b[0m\u001b[0;34m'Must set either crs or epsg for output.'\u001b[0m\u001b[0;34m)\u001b[0m\u001b[0;34m\u001b[0m\u001b[0;34m\u001b[0m\u001b[0m\n\u001b[0;32m--> 304\u001b[0;31m         \u001b[0mproj_in\u001b[0m \u001b[0;34m=\u001b[0m \u001b[0mpyproj\u001b[0m\u001b[0;34m.\u001b[0m\u001b[0mProj\u001b[0m\u001b[0;34m(\u001b[0m\u001b[0mself\u001b[0m\u001b[0;34m.\u001b[0m\u001b[0mcrs\u001b[0m\u001b[0;34m,\u001b[0m \u001b[0mpreserve_units\u001b[0m\u001b[0;34m=\u001b[0m\u001b[0;32mTrue\u001b[0m\u001b[0;34m)\u001b[0m\u001b[0;34m\u001b[0m\u001b[0;34m\u001b[0m\u001b[0m\n\u001b[0m\u001b[1;32m    305\u001b[0m         \u001b[0mproj_out\u001b[0m \u001b[0;34m=\u001b[0m \u001b[0mpyproj\u001b[0m\u001b[0;34m.\u001b[0m\u001b[0mProj\u001b[0m\u001b[0;34m(\u001b[0m\u001b[0mcrs\u001b[0m\u001b[0;34m,\u001b[0m \u001b[0mpreserve_units\u001b[0m\u001b[0;34m=\u001b[0m\u001b[0;32mTrue\u001b[0m\u001b[0;34m)\u001b[0m\u001b[0;34m\u001b[0m\u001b[0;34m\u001b[0m\u001b[0m\n\u001b[1;32m    306\u001b[0m         \u001b[0mproject\u001b[0m \u001b[0;34m=\u001b[0m \u001b[0mpartial\u001b[0m\u001b[0;34m(\u001b[0m\u001b[0mpyproj\u001b[0m\u001b[0;34m.\u001b[0m\u001b[0mtransform\u001b[0m\u001b[0;34m,\u001b[0m \u001b[0mproj_in\u001b[0m\u001b[0;34m,\u001b[0m \u001b[0mproj_out\u001b[0m\u001b[0;34m)\u001b[0m\u001b[0;34m\u001b[0m\u001b[0;34m\u001b[0m\u001b[0m\n",
      "\u001b[0;32m/anaconda3/envs/geo6/lib/python3.6/site-packages/pyproj/proj.py\u001b[0m in \u001b[0;36m__init__\u001b[0;34m(self, projparams, preserve_units, **kwargs)\u001b[0m\n\u001b[1;32m    293\u001b[0m         \u001b[0;34m'116.366 39.867'\u001b[0m\u001b[0;34m\u001b[0m\u001b[0;34m\u001b[0m\u001b[0m\n\u001b[1;32m    294\u001b[0m         \"\"\"\n\u001b[0;32m--> 295\u001b[0;31m         \u001b[0mself\u001b[0m\u001b[0;34m.\u001b[0m\u001b[0mcrs\u001b[0m \u001b[0;34m=\u001b[0m \u001b[0mCRS\u001b[0m\u001b[0;34m.\u001b[0m\u001b[0mfrom_user_input\u001b[0m\u001b[0;34m(\u001b[0m\u001b[0mprojparams\u001b[0m \u001b[0;32mif\u001b[0m \u001b[0mprojparams\u001b[0m \u001b[0;32mis\u001b[0m \u001b[0;32mnot\u001b[0m \u001b[0;32mNone\u001b[0m \u001b[0;32melse\u001b[0m \u001b[0mkwargs\u001b[0m\u001b[0;34m)\u001b[0m\u001b[0;34m\u001b[0m\u001b[0;34m\u001b[0m\u001b[0m\n\u001b[0m\u001b[1;32m    296\u001b[0m         \u001b[0;31m# make sure units are meters if preserve_units is False.\u001b[0m\u001b[0;34m\u001b[0m\u001b[0;34m\u001b[0m\u001b[0;34m\u001b[0m\u001b[0m\n\u001b[1;32m    297\u001b[0m         \u001b[0;32mif\u001b[0m \u001b[0;32mnot\u001b[0m \u001b[0mpreserve_units\u001b[0m \u001b[0;32mand\u001b[0m \u001b[0;34m\"foot\"\u001b[0m \u001b[0;32min\u001b[0m \u001b[0mself\u001b[0m\u001b[0;34m.\u001b[0m\u001b[0mcrs\u001b[0m\u001b[0;34m.\u001b[0m\u001b[0maxis_info\u001b[0m\u001b[0;34m[\u001b[0m\u001b[0;36m0\u001b[0m\u001b[0;34m]\u001b[0m\u001b[0;34m.\u001b[0m\u001b[0munit_name\u001b[0m\u001b[0;34m:\u001b[0m\u001b[0;34m\u001b[0m\u001b[0;34m\u001b[0m\u001b[0m\n",
      "\u001b[0;32m/anaconda3/envs/geo6/lib/python3.6/site-packages/pyproj/crs.py\u001b[0m in \u001b[0;36mfrom_user_input\u001b[0;34m(cls, value)\u001b[0m\n\u001b[1;32m    222\u001b[0m             \u001b[0;32mreturn\u001b[0m \u001b[0mcls\u001b[0m\u001b[0;34m.\u001b[0m\u001b[0mfrom_epsg\u001b[0m\u001b[0;34m(\u001b[0m\u001b[0mvalue\u001b[0m\u001b[0;34m)\u001b[0m\u001b[0;34m\u001b[0m\u001b[0;34m\u001b[0m\u001b[0m\n\u001b[1;32m    223\u001b[0m         \u001b[0;32melif\u001b[0m \u001b[0misinstance\u001b[0m\u001b[0;34m(\u001b[0m\u001b[0mvalue\u001b[0m\u001b[0;34m,\u001b[0m \u001b[0mdict\u001b[0m\u001b[0;34m)\u001b[0m\u001b[0;34m:\u001b[0m\u001b[0;34m\u001b[0m\u001b[0;34m\u001b[0m\u001b[0m\n\u001b[0;32m--> 224\u001b[0;31m             \u001b[0;32mreturn\u001b[0m \u001b[0mcls\u001b[0m\u001b[0;34m(\u001b[0m\u001b[0;34m**\u001b[0m\u001b[0mvalue\u001b[0m\u001b[0;34m)\u001b[0m\u001b[0;34m\u001b[0m\u001b[0;34m\u001b[0m\u001b[0m\n\u001b[0m\u001b[1;32m    225\u001b[0m         \u001b[0;32melif\u001b[0m \u001b[0misinstance\u001b[0m\u001b[0;34m(\u001b[0m\u001b[0mvalue\u001b[0m\u001b[0;34m,\u001b[0m \u001b[0mstring_types\u001b[0m\u001b[0;34m)\u001b[0m\u001b[0;34m:\u001b[0m\u001b[0;34m\u001b[0m\u001b[0;34m\u001b[0m\u001b[0m\n\u001b[1;32m    226\u001b[0m             \u001b[0;32mreturn\u001b[0m \u001b[0mcls\u001b[0m\u001b[0;34m.\u001b[0m\u001b[0mfrom_string\u001b[0m\u001b[0;34m(\u001b[0m\u001b[0mvalue\u001b[0m\u001b[0;34m)\u001b[0m\u001b[0;34m\u001b[0m\u001b[0;34m\u001b[0m\u001b[0m\n",
      "\u001b[0;32m/anaconda3/envs/geo6/lib/python3.6/site-packages/pyproj/crs.py\u001b[0m in \u001b[0;36m__init__\u001b[0;34m(self, projparams, **kwargs)\u001b[0m\n\u001b[1;32m    144\u001b[0m         \u001b[0;31m# on case-insensitive filesystems).\u001b[0m\u001b[0;34m\u001b[0m\u001b[0;34m\u001b[0m\u001b[0;34m\u001b[0m\u001b[0m\n\u001b[1;32m    145\u001b[0m         \u001b[0mprojstring\u001b[0m \u001b[0;34m=\u001b[0m \u001b[0mprojstring\u001b[0m\u001b[0;34m.\u001b[0m\u001b[0mreplace\u001b[0m\u001b[0;34m(\u001b[0m\u001b[0;34m\"+init=EPSG\"\u001b[0m\u001b[0;34m,\u001b[0m \u001b[0;34m\"+init=epsg\"\u001b[0m\u001b[0;34m)\u001b[0m\u001b[0;34m.\u001b[0m\u001b[0mstrip\u001b[0m\u001b[0;34m(\u001b[0m\u001b[0;34m)\u001b[0m\u001b[0;34m\u001b[0m\u001b[0;34m\u001b[0m\u001b[0m\n\u001b[0;32m--> 146\u001b[0;31m         \u001b[0msuper\u001b[0m\u001b[0;34m(\u001b[0m\u001b[0mCRS\u001b[0m\u001b[0;34m,\u001b[0m \u001b[0mself\u001b[0m\u001b[0;34m)\u001b[0m\u001b[0;34m.\u001b[0m\u001b[0m__init__\u001b[0m\u001b[0;34m(\u001b[0m\u001b[0mprojstring\u001b[0m\u001b[0;34m)\u001b[0m\u001b[0;34m\u001b[0m\u001b[0;34m\u001b[0m\u001b[0m\n\u001b[0m\u001b[1;32m    147\u001b[0m \u001b[0;34m\u001b[0m\u001b[0m\n\u001b[1;32m    148\u001b[0m     \u001b[0;34m@\u001b[0m\u001b[0mclassmethod\u001b[0m\u001b[0;34m\u001b[0m\u001b[0;34m\u001b[0m\u001b[0m\n",
      "\u001b[0;32mpyproj/_crs.pyx\u001b[0m in \u001b[0;36mpyproj._crs._CRS.__init__\u001b[0;34m()\u001b[0m\n",
      "\u001b[0;31mCRSError\u001b[0m: Invalid projection: +init=epsg:4326 +type=crs"
     ]
    }
   ],
   "source": [
    "# Create graph\n",
    "G = ox.graph_from_polygon(boundary_poly, network_type = 'drive')"
   ]
  },
  {
   "cell_type": "code",
   "execution_count": 8,
   "metadata": {},
   "outputs": [
    {
     "ename": "NameError",
     "evalue": "name 'G' is not defined",
     "output_type": "error",
     "traceback": [
      "\u001b[0;31m---------------------------------------------------------------------------\u001b[0m",
      "\u001b[0;31mNameError\u001b[0m                                 Traceback (most recent call last)",
      "\u001b[0;32m<ipython-input-8-8a014b961822>\u001b[0m in \u001b[0;36m<module>\u001b[0;34m\u001b[0m\n\u001b[1;32m      4\u001b[0m \u001b[0mnode_dict\u001b[0m \u001b[0;34m=\u001b[0m \u001b[0;34m{\u001b[0m\u001b[0;34m}\u001b[0m\u001b[0;34m\u001b[0m\u001b[0;34m\u001b[0m\u001b[0m\n\u001b[1;32m      5\u001b[0m \u001b[0;34m\u001b[0m\u001b[0m\n\u001b[0;32m----> 6\u001b[0;31m \u001b[0mG2\u001b[0m \u001b[0;34m=\u001b[0m \u001b[0mG\u001b[0m\u001b[0;34m.\u001b[0m\u001b[0mcopy\u001b[0m\u001b[0;34m(\u001b[0m\u001b[0;34m)\u001b[0m\u001b[0;34m\u001b[0m\u001b[0;34m\u001b[0m\u001b[0m\n\u001b[0m\u001b[1;32m      7\u001b[0m \u001b[0;34m\u001b[0m\u001b[0m\n\u001b[1;32m      8\u001b[0m \u001b[0;32mfor\u001b[0m \u001b[0mu\u001b[0m\u001b[0;34m,\u001b[0m \u001b[0mdata\u001b[0m \u001b[0;32min\u001b[0m \u001b[0mG2\u001b[0m\u001b[0;34m.\u001b[0m\u001b[0mnodes\u001b[0m\u001b[0;34m(\u001b[0m\u001b[0mdata\u001b[0m \u001b[0;34m=\u001b[0m \u001b[0;32mTrue\u001b[0m\u001b[0;34m)\u001b[0m\u001b[0;34m:\u001b[0m\u001b[0;34m\u001b[0m\u001b[0;34m\u001b[0m\u001b[0m\n",
      "\u001b[0;31mNameError\u001b[0m: name 'G' is not defined"
     ]
    }
   ],
   "source": [
    "from shapely.geometry import Point\n",
    "from shapely.geometry import LineString\n",
    "\n",
    "node_dict = {}\n",
    "\n",
    "G2 = G.copy()\n",
    "\n",
    "for u, data in G2.nodes(data = True):\n",
    "    node_dict[u] = Point(data['x'],data['y'])\n",
    "        \n",
    "for u, v, data in G2.edges(data = True):\n",
    "    \n",
    "    if 'Wkt' not in data.keys():\n",
    "        strt = node_dict[u]\n",
    "        fini = node_dict[v]\n",
    "        data['Wkt'] = LineString([strt, fini])\n",
    "    \n",
    "    if 'geometry' in data.keys():\n",
    "        data['Wkt'] = data['geometry']\n",
    "        data.pop('geometry')"
   ]
  },
  {
   "cell_type": "code",
   "execution_count": 7,
   "metadata": {},
   "outputs": [
    {
     "name": "stdout",
     "output_type": "stream",
     "text": [
      "peartree version: 0.6.1 \n",
      "networkx version: 2.2 \n",
      "matplotlib version: 3.0.2 \n",
      "osmnx version: 0.9 \n",
      "Identified 12199 unique edge(s) longer than 50. \n",
      "Beginning new node creation...\n",
      "80684 new edges added and 23927 removed to bring total edges to 88479\n",
      "28143 new nodes added to bring total nodes to 41775\n"
     ]
    }
   ],
   "source": [
    "importlib.reload(gn)\n",
    "G3 = gn.salt_long_lines(G2,\n",
    "                       source = 'epsg:4326',\n",
    "                      target = 'epsg:32636',\n",
    "                      thresh = 50,\n",
    "                      factor = 1)"
   ]
  },
  {
   "cell_type": "code",
   "execution_count": 8,
   "metadata": {},
   "outputs": [],
   "source": [
    "G3 = gn.sample_raster(G3, tif_10_proj_path, property_name = 'flood_depth_10_yr')\n",
    "G3 = gn.sample_raster(G3, tif_50_proj_path, property_name = 'flood_depth_50_yr')\n",
    "G3 = gn.sample_raster(G3, tif_100_proj_path, property_name = 'flood_depth_100_yr')"
   ]
  },
  {
   "cell_type": "code",
   "execution_count": 9,
   "metadata": {},
   "outputs": [
    {
     "name": "stdout",
     "output_type": "stream",
     "text": [
      "(6241026052, {'y': 0.3487386, 'x': 32.5916098, 'osmid': 6241026052, 'flood_depth_10_yr': -32767.0, 'flood_depth_50_yr': -32767.0, 'flood_depth_100_yr': -32767.0})\n"
     ]
    }
   ],
   "source": [
    "gn.example_node(G3)"
   ]
  },
  {
   "cell_type": "markdown",
   "metadata": {},
   "source": [
    "#### 4. Create the degraded road networks"
   ]
  },
  {
   "cell_type": "code",
   "execution_count": 16,
   "metadata": {},
   "outputs": [],
   "source": [
    "node_gdf = gn.node_gdf_from_graph(G3)\n",
    "edge_gdf = gn.edge_gdf_from_graph(G3)"
   ]
  },
  {
   "cell_type": "code",
   "execution_count": 17,
   "metadata": {},
   "outputs": [
    {
     "data": {
      "text/plain": [
       "<matplotlib.axes._subplots.AxesSubplot at 0x1a3459dd68>"
      ]
     },
     "execution_count": 17,
     "metadata": {},
     "output_type": "execute_result"
    },
    {
     "data": {
      "image/png": "[encoded data removed]",
      "text/plain": [
       "<Figure size 432x288 with 1 Axes>"
      ]
     },
     "metadata": {},
     "output_type": "display_data"
    }
   ],
   "source": [
    "edge_gdf.highway[:5000].value_counts().plot(kind='pie')"
   ]
  },
  {
   "cell_type": "code",
   "execution_count": 161,
   "metadata": {},
   "outputs": [],
   "source": [
    "speed_dict = {  'residential': 20,  # kmph\n",
    "                'primary': 40, # kmph\n",
    "                'primary_link':35,\n",
    "                'motorway':45,\n",
    "                'motorway_link': 40,\n",
    "                'trunk': 40,\n",
    "                'trunk_link':35,\n",
    "                'secondary': 30, # kmph\n",
    "                'secondary_link':25,\n",
    "                'tertiary':25,\n",
    "                'tertiary_link': 25,\n",
    "                'unclassified':20, \n",
    "                'road':20,\n",
    "                'crossing':20,\n",
    "                'living_street':20\n",
    "                }\n",
    "\n",
    "speed_dict_flooded = { 'residential': 17, 'primary': 35, 'primary_link':31, 'motorway':40, 'motorway_link': 35, 'trunk': 35, 'trunk_link':31.5, 'secondary': 28.5, 'secondary_link':22, 'tertiary':22, 'tertiary_link': 22, 'unclassified':19, 'road':19, 'crossing':19, 'living_street':19 }"
   ]
  },
  {
   "cell_type": "code",
   "execution_count": 92,
   "metadata": {},
   "outputs": [],
   "source": [
    "G3 = gn.convert_network_to_time(G3, distance_tag = 'length', speed_dict = speed_dict)"
   ]
  },
  {
   "cell_type": "code",
   "execution_count": 162,
   "metadata": {},
   "outputs": [],
   "source": [
    "G_flood10 = gn.convert_network_to_time(G3.copy(), distance_tag = 'length', speed_dict = speed_dict_flooded)\n",
    "G_flood50 = gn.convert_network_to_time(G3.copy(), distance_tag = 'length', speed_dict = speed_dict_flooded)\n",
    "G_flood100 = gn.convert_network_to_time(G3.copy(), distance_tag = 'length', speed_dict = speed_dict_flooded)"
   ]
  },
  {
   "cell_type": "code",
   "execution_count": 293,
   "metadata": {},
   "outputs": [],
   "source": [
    "gdf_50 = gn.node_gdf_from_graph(G_flood50)"
   ]
  },
  {
   "cell_type": "code",
   "execution_count": 378,
   "metadata": {},
   "outputs": [
    {
     "data": {
      "text/plain": [
       "<matplotlib.axes._subplots.AxesSubplot at 0x1a4aafdb00>"
      ]
     },
     "execution_count": 378,
     "metadata": {},
     "output_type": "execute_result"
    },
    {
     "data": {
      "image/png": "[encoded data removed]",
      "text/plain": [
       "<Figure size 432x432 with 1 Axes>"
      ]
     },
     "metadata": {},
     "output_type": "display_data"
    }
   ],
   "source": [
    "raster = rasterio.open(tif_50_proj_path)\n",
    "ax = boundary_GDF.plot(alpha = 0.5, figsize=[6,6])\n",
    "show(raster, ax = ax)\n",
    "threshold=0.5\n",
    "\n",
    "#grid_clipped.plot(ax=ax,alpha=0.5)\n",
    "#POIs_health.plot(ax=ax,color='r')\n",
    "plt.setp(plt.gcf().get_axes(), xticks=[], yticks=[]);\n",
    "plt.title('Kampala: nodes interrupted with {} m threshold'.format(threshold));\n",
    "gdf_50[gdf_50.flood_depth_50_yr>threshold].plot(figsize=[8,8],color='r',ax=ax,alpha = 0.5)"
   ]
  },
  {
   "cell_type": "code",
   "execution_count": 380,
   "metadata": {},
   "outputs": [
    {
     "data": {
      "text/plain": [
       "<matplotlib.axes._subplots.AxesSubplot at 0x1a430b47f0>"
      ]
     },
     "execution_count": 380,
     "metadata": {},
     "output_type": "execute_result"
    },
    {
     "data": {
      "image/png": "[encoded data removed]",
      "text/plain": [
       "<Figure size 864x864 with 1 Axes>"
      ]
     },
     "metadata": {
      "needs_background": "light"
     },
     "output_type": "display_data"
    }
   ],
   "source": [
    "threshold = 0.5\n",
    "ax = boundary_GDF.plot(alpha = 0.5, figsize=[12,12])\n",
    "gdf_50[gdf_50.flood_depth_50_yr<threshold].plot(color='b',ax=ax)\n",
    "gdf_50[gdf_50.flood_depth_50_yr>threshold].plot(color='r',ax=ax)"
   ]
  },
  {
   "cell_type": "code",
   "execution_count": 163,
   "metadata": {},
   "outputs": [
    {
     "name": "stdout",
     "output_type": "stream",
     "text": [
      "10 year:\n",
      "nodes disrupted: 917\n",
      "edges disrupted: 2688\n",
      "\n",
      "50 year:\n",
      "nodes disrupted: 1236\n",
      "edges disrupted: 3486\n",
      "\n",
      "100 year:\n",
      "nodes disrupted: 1377\n",
      "edges disrupted: 3837\n"
     ]
    }
   ],
   "source": [
    "my_flood_depth = 0.15\n",
    "fail_value = 999999999999999\n",
    "\n",
    "print(\"10 year:\")\n",
    "G_flood10 = gn.disrupt_network(G_flood10, 'flood_depth_10_yr', my_flood_depth, fail_value)\n",
    "\n",
    "print()\n",
    "print(\"50 year:\")\n",
    "G_flood50 = gn.disrupt_network(G_flood50, 'flood_depth_50_yr', my_flood_depth, fail_value)\n",
    "\n",
    "print()\n",
    "print(\"100 year:\")\n",
    "G_flood100 = gn.disrupt_network(G_flood100, 'flood_depth_100_yr', my_flood_depth, fail_value)\n"
   ]
  },
  {
   "cell_type": "code",
   "execution_count": 76,
   "metadata": {},
   "outputs": [
    {
     "name": "stdout",
     "output_type": "stream",
     "text": [
      "Threshold 0.15 meters:\n",
      "10-year flood disrupts 2.21 % of nodes and 3.05 % of edges\n",
      "50-year flood disrupts 2.97 % of nodes and 3.95 % of edges\n",
      "100-year flood disrupts 3.31 % of nodes and 4.35 % of edges\n"
     ]
    }
   ],
   "source": [
    "n_nodes = node_gdf.shape[0]\n",
    "n_edges = edge_gdf.shape[0]\n",
    "print(\"Threshold {} meters:\".format(my_flood_depth))\n",
    "print(\"10-year flood disrupts {:.2f} % of nodes and {:.2f} % of edges\".format (919/n_nodes * 100, 2684/n_edges * 100))\n",
    "print(\"50-year flood disrupts {:.2f} % of nodes and {:.2f} % of edges\".format (1236/n_nodes * 100, 3480/n_edges * 100))\n",
    "print(\"100-year flood disrupts {:.2f} % of nodes and {:.2f} % of edges\".format (1377/n_nodes * 100, 3831/n_edges * 100))"
   ]
  },
  {
   "cell_type": "markdown",
   "metadata": {},
   "source": [
    "#### 6. Get origin points\n",
    "* fishnet of the city\n",
    "* sample of 307 firms from the employment survey"
   ]
  },
  {
   "cell_type": "code",
   "execution_count": 22,
   "metadata": {},
   "outputs": [],
   "source": [
    "make_fishnet('grid_KM.shp',coords[1], coords[3], coords[0], coords[2],500,500) # takes xmin, xmax, ymin, ymax"
   ]
  },
  {
   "cell_type": "code",
   "execution_count": 10,
   "metadata": {},
   "outputs": [],
   "source": [
    "grid=gpd.read_file('grid_KM.shp')"
   ]
  },
  {
   "cell_type": "code",
   "execution_count": 80,
   "metadata": {},
   "outputs": [],
   "source": [
    "ES_points = gpd.read_file('data/points_ES_clipped')"
   ]
  },
  {
   "cell_type": "markdown",
   "metadata": {},
   "source": [
    "#### 7. Get destinations (POIs and employment density)"
   ]
  },
  {
   "cell_type": "code",
   "execution_count": 81,
   "metadata": {},
   "outputs": [],
   "source": [
    "# Hospitals"
   ]
  },
  {
   "cell_type": "code",
   "execution_count": 11,
   "metadata": {},
   "outputs": [
    {
     "name": "stderr",
     "output_type": "stream",
     "text": [
      "/anaconda3/envs/geo5/lib/python3.6/site-packages/geopandas/tools/sjoin.py:44: UserWarning: CRS of frames being joined does not match!\n",
      "  warn('CRS of frames being joined does not match!')\n"
     ]
    }
   ],
   "source": [
    "bbox = pop_raster.bounds\n",
    "\n",
    "amenities_hospital = ['hospital']\n",
    "POIs_health = osm.node_query(bbox[1],bbox[0],bbox[3],bbox[2],tags = '\"amenity\"~\"{}\"'.format('|'.join(amenities_hospital)))\n",
    "\n",
    "POIs_health = POIs_health[['amenity','name','lat','lon']]\n",
    "POIs_health = gpd.GeoDataFrame(POIs_health)\n",
    "POIs_health['geometry'] = (list(zip(POIs_health.lon,POIs_health.lat)))\n",
    "POIs_health['geometry'] = POIs_health.geometry.apply(lambda x: Point(x))\n",
    "\n",
    "POIs_health = gpd.sjoin(POIs_health,boundary_GDF,how='inner')"
   ]
  },
  {
   "cell_type": "code",
   "execution_count": 27,
   "metadata": {},
   "outputs": [],
   "source": [
    "# Business amenities (3300 businesses, stores, gas or mobile phone suppliers, from notebook 4)"
   ]
  },
  {
   "cell_type": "code",
   "execution_count": 83,
   "metadata": {},
   "outputs": [],
   "source": [
    "POIs_biz = gpd.read_file('data/KM_pois/KM_biz_amenities1')"
   ]
  },
  {
   "cell_type": "code",
   "execution_count": 29,
   "metadata": {},
   "outputs": [],
   "source": [
    "# Employment density points"
   ]
  },
  {
   "cell_type": "code",
   "execution_count": 84,
   "metadata": {},
   "outputs": [
    {
     "name": "stdout",
     "output_type": "stream",
     "text": [
      "There are 6228 grid cells for the employment density data. Mean percent of total jobs in a grid cell is 0.016 and largest is 2.33\n"
     ]
    }
   ],
   "source": [
    "employment_points = gpd.read_file('data/jobdensity_kampala_points.shp')\n",
    "employment_points['percent_jobs'] = employment_points.density/ employment_points.density.sum() * 100\n",
    "\n",
    "print(\"There are {} grid cells for the employment density data. Mean percent of total jobs in a grid cell is {:.3f} and largest is {:.2f}\".format(\n",
    "    employment_points.shape[0], employment_points.percent_jobs.mean(), employment_points.percent_jobs.max()))"
   ]
  },
  {
   "cell_type": "markdown",
   "metadata": {},
   "source": [
    "#### 9. Snap Os and Ds to graph"
   ]
  },
  {
   "cell_type": "code",
   "execution_count": 246,
   "metadata": {},
   "outputs": [],
   "source": [
    "grid['geometry'] = grid.centroid\n",
    "grid.set_geometry('geometry',inplace=True)"
   ]
  },
  {
   "cell_type": "code",
   "execution_count": 247,
   "metadata": {},
   "outputs": [
    {
     "name": "stderr",
     "output_type": "stream",
     "text": [
      "/Users/nicholasjones/Desktop/code/network_analysis/GOSTnet.py:1572: FutureWarning: Method .as_matrix will be removed in a future version. Use .values instead.\n",
      "  G_tree = spatial.KDTree(node_gdf[['x','y']].as_matrix())\n",
      "/Users/nicholasjones/Desktop/code/network_analysis/GOSTnet.py:1574: FutureWarning: Method .as_matrix will be removed in a future version. Use .values instead.\n",
      "  distances, indices = G_tree.query(in_df[['x','y']].as_matrix())\n"
     ]
    }
   ],
   "source": [
    "grid = gn.pandana_snap(G3, grid)"
   ]
  },
  {
   "cell_type": "code",
   "execution_count": 239,
   "metadata": {},
   "outputs": [
    {
     "name": "stderr",
     "output_type": "stream",
     "text": [
      "/Users/nicholasjones/Desktop/code/network_analysis/GOSTnet.py:1572: FutureWarning: Method .as_matrix will be removed in a future version. Use .values instead.\n",
      "  G_tree = spatial.KDTree(node_gdf[['x','y']].as_matrix())\n",
      "/Users/nicholasjones/Desktop/code/network_analysis/GOSTnet.py:1574: FutureWarning: Method .as_matrix will be removed in a future version. Use .values instead.\n",
      "  distances, indices = G_tree.query(in_df[['x','y']].as_matrix())\n"
     ]
    }
   ],
   "source": [
    "# Origins\n",
    "ES_points = gn.pandana_snap(G3, ES_points)\n",
    "grid = gn.pandana_snap(G3, grid)\n",
    "\n",
    "# Destinations\n",
    "POIs_biz = gn.pandana_snap(G3, POIs_biz)\n",
    "employment_points = gn.pandana_snap(G3, employment_points)\n",
    "POIs_health = gn.pandana_snap(G3, POIs_health)\n"
   ]
  },
  {
   "cell_type": "code",
   "execution_count": 87,
   "metadata": {},
   "outputs": [],
   "source": [
    "list_of_nearest_nodes_ES = list(ES_points.NN)\n",
    "#list_of_nearest_nodes_grid = list(grid_nn.NN)\n",
    "list_of_nearest_nodes_POIs_biz = list(POIs_biz.NN)\n",
    "list_of_nearest_nodes_employment_points = list(employment_points.NN)"
   ]
  },
  {
   "cell_type": "markdown",
   "metadata": {},
   "source": [
    "## ANALYSIS"
   ]
  },
  {
   "cell_type": "markdown",
   "metadata": {},
   "source": [
    "#### 10. Firm connectivity: travel time between ES points"
   ]
  },
  {
   "cell_type": "code",
   "execution_count": 34,
   "metadata": {},
   "outputs": [],
   "source": [
    "baseline_OD_firms = gn.calculate_OD(G3, list(ES_points.NN), list(ES_points.NN), fail_value, weight='time')"
   ]
  },
  {
   "cell_type": "code",
   "execution_count": 164,
   "metadata": {},
   "outputs": [],
   "source": [
    "flood_OD_firms_10yr = gn.calculate_OD(G_flood10, list(ES_points.NN), list(ES_points.NN), fail_value, weight='time')\n",
    "flood_OD_firms_50yr = gn.calculate_OD(G_flood50, list(ES_points.NN), list(ES_points.NN), fail_value, weight='time')\n",
    "flood_OD_firms_100yr = gn.calculate_OD(G_flood100, list(ES_points.NN), list(ES_points.NN), fail_value, weight='time')"
   ]
  },
  {
   "cell_type": "code",
   "execution_count": 165,
   "metadata": {},
   "outputs": [],
   "source": [
    "travel_times_base = baseline_OD_firms[baseline_OD_firms < fail_value] / 60\n",
    "travel_times_10 = flood_OD_firms_10yr[flood_OD_firms_10yr < fail_value] / 60\n",
    "travel_times_50 = flood_OD_firms_50yr[flood_OD_firms_50yr < fail_value] / 60\n",
    "travel_times_100 = flood_OD_firms_100yr[flood_OD_firms_100yr < fail_value] / 60"
   ]
  },
  {
   "cell_type": "code",
   "execution_count": 221,
   "metadata": {},
   "outputs": [
    {
     "data": {
      "text/plain": [
       "(94249,)"
      ]
     },
     "execution_count": 221,
     "metadata": {},
     "output_type": "execute_result"
    }
   ],
   "source": [
    "pd.Series(flood_OD_firms_10yr.ravel()).shape"
   ]
  },
  {
   "cell_type": "code",
   "execution_count": 230,
   "metadata": {},
   "outputs": [
    {
     "data": {
      "text/plain": [
       "(73795,)"
      ]
     },
     "execution_count": 230,
     "metadata": {},
     "output_type": "execute_result"
    }
   ],
   "source": [
    "travel_times_50.ravel().shape"
   ]
  },
  {
   "cell_type": "code",
   "execution_count": 232,
   "metadata": {},
   "outputs": [
    {
     "data": {
      "text/plain": [
       "21.70208702479602"
      ]
     },
     "execution_count": 232,
     "metadata": {},
     "output_type": "execute_result"
    }
   ],
   "source": [
    "(94249 - 73795) /94249 *100"
   ]
  },
  {
   "cell_type": "code",
   "execution_count": 166,
   "metadata": {},
   "outputs": [
    {
     "name": "stdout",
     "output_type": "stream",
     "text": [
      "(6241026052, 577386967, {'osmid': 278571313, 'highway': 'residential', 'oneway': False, 'length': 42.742000000000004, 'Wkt': <shapely.geometry.linestring.LineString object at 0x1a23206208>, 'time': 7.693560000000001, 'mode': 'drive'})\n"
     ]
    }
   ],
   "source": [
    "gn.example_edge(G3)"
   ]
  },
  {
   "cell_type": "code",
   "execution_count": 167,
   "metadata": {},
   "outputs": [
    {
     "data": {
      "image/png": "[encoded data removed]",
      "text/plain": [
       "<Figure size 576x432 with 1 Axes>"
      ]
     },
     "metadata": {
      "needs_background": "light"
     },
     "output_type": "display_data"
    }
   ],
   "source": [
    "# Histogram of post-flood travel times between firms\n",
    "bins = 50\n",
    "\n",
    "fig,ax = plt.subplots(figsize=[8,6])\n",
    "ax.hist(travel_times_base,color='g',alpha=0.5,density=True,bins=bins)\n",
    "ax.hist(travel_times_10,color='y',alpha=0.5,density=True,bins=bins)\n",
    "#ax.hist(travel_times_50,color='',alpha=0.5,density=True,bins=100)\n",
    "ax.hist(travel_times_100_test,color='r',alpha=0.5,density=True,bins=bins)\n",
    "plt.title('Kampala: Travel times between firms')\n",
    "plt.ylabel('percent of firms')\n",
    "plt.legend(['No flood','10-year flood','100-year flood'])\n",
    "plt.xlabel('Minutes travel');\n",
    "\n",
    "plt.xlim(0,50)\n",
    "\n",
    "ticks = ax.get_yticks()*100\n",
    "ticks = [round(n,1) for n in (list(ticks))]\n",
    "ax.set_yticklabels(ticks);"
   ]
  },
  {
   "cell_type": "code",
   "execution_count": 236,
   "metadata": {},
   "outputs": [
    {
     "data": {
      "image/png": "[encoded data removed]",
      "text/plain": [
       "<Figure size 432x288 with 1 Axes>"
      ]
     },
     "metadata": {
      "needs_background": "light"
     },
     "output_type": "display_data"
    }
   ],
   "source": [
    "# Histogram of post-flood travel times between firms\n",
    "bins = 50\n",
    "\n",
    "fig,ax = plt.subplots(figsize=[6,4])\n",
    "ax.hist(travel_times_base,color='g',alpha=0.5,density=True,bins=bins)\n",
    "ax.hist(travel_times_10,color='y',alpha=0.5,density=True,bins=bins)\n",
    "#ax.hist(travel_times_50,color='',alpha=0.5,density=True,bins=100)\n",
    "ax.hist(travel_times_100,color='r',alpha=0.5,density=True,bins=bins)\n",
    "plt.title('Travel times between firms in downtown Kampala')\n",
    "plt.ylabel('percent of journey pairs')\n",
    "plt.legend(['No flood','10-year flood','100-year flood'])\n",
    "plt.xlabel('Minutes');\n",
    "\n",
    "plt.xlim(0,50)\n",
    "\n",
    "ticks = ax.get_yticks()*100\n",
    "ticks = [round(n,1) for n in (list(ticks))]\n",
    "ax.set_yticklabels(ticks);"
   ]
  },
  {
   "cell_type": "code",
   "execution_count": 233,
   "metadata": {},
   "outputs": [
    {
     "data": {
      "image/png": "[encoded data removed]",
      "text/plain": [
       "<Figure size 432x288 with 1 Axes>"
      ]
     },
     "metadata": {
      "needs_background": "light"
     },
     "output_type": "display_data"
    }
   ],
   "source": [
    "bw = 'scott'\n",
    "fig,ax = plt.subplots(figsize=[6,4])\n",
    "\n",
    "sns.kdeplot(travel_times_base,ax = ax, color = 'b', shade=True,bw=bw)\n",
    "sns.kdeplot(travel_times_10, ax=ax, color='g',shade=True,bw=bw)\n",
    "#sns.kdeplot(travel_times_50, ax=ax, color='y',shade=True)\n",
    "sns.kdeplot(travel_times_100, ax=ax, color='r',shade=True,bw=bw)\n",
    "\n",
    "ax.set_title('Travel times between firms in downtown Kampala')\n",
    "plt.legend(['No flood','10-year flood','100-year flood'])\n",
    "ax.set(xlabel=\"minutes\", ylabel='percent of journey pairs');\n",
    "plt.xlim(0,50)\n",
    "\n",
    "ticks = ax.get_yticks()*100\n",
    "ticks = [round(n,1) for n in (list(ticks))]\n",
    "ax.set_yticklabels(ticks);"
   ]
  },
  {
   "cell_type": "code",
   "execution_count": 16,
   "metadata": {},
   "outputs": [
    {
     "ename": "NameError",
     "evalue": "name 'travel_times_base' is not defined",
     "output_type": "error",
     "traceback": [
      "\u001b[0;31m---------------------------------------------------------------------------\u001b[0m",
      "\u001b[0;31mNameError\u001b[0m                                 Traceback (most recent call last)",
      "\u001b[0;32m<ipython-input-16-33e4c1c56a49>\u001b[0m in \u001b[0;36m<module>\u001b[0;34m\u001b[0m\n\u001b[1;32m      2\u001b[0m \u001b[0mfig\u001b[0m\u001b[0;34m,\u001b[0m\u001b[0max\u001b[0m \u001b[0;34m=\u001b[0m \u001b[0mplt\u001b[0m\u001b[0;34m.\u001b[0m\u001b[0msubplots\u001b[0m\u001b[0;34m(\u001b[0m\u001b[0mfigsize\u001b[0m\u001b[0;34m=\u001b[0m\u001b[0;34m[\u001b[0m\u001b[0;36m6\u001b[0m\u001b[0;34m,\u001b[0m\u001b[0;36m4\u001b[0m\u001b[0;34m]\u001b[0m\u001b[0;34m)\u001b[0m\u001b[0;34m\u001b[0m\u001b[0;34m\u001b[0m\u001b[0m\n\u001b[1;32m      3\u001b[0m \u001b[0;34m\u001b[0m\u001b[0m\n\u001b[0;32m----> 4\u001b[0;31m \u001b[0msns\u001b[0m\u001b[0;34m.\u001b[0m\u001b[0mkdeplot\u001b[0m\u001b[0;34m(\u001b[0m\u001b[0mtravel_times_base\u001b[0m\u001b[0;34m,\u001b[0m\u001b[0max\u001b[0m \u001b[0;34m=\u001b[0m \u001b[0max\u001b[0m\u001b[0;34m,\u001b[0m \u001b[0mcolor\u001b[0m \u001b[0;34m=\u001b[0m \u001b[0;34m'b'\u001b[0m\u001b[0;34m,\u001b[0m \u001b[0mshade\u001b[0m\u001b[0;34m=\u001b[0m\u001b[0;32mTrue\u001b[0m\u001b[0;34m,\u001b[0m\u001b[0mbw\u001b[0m\u001b[0;34m=\u001b[0m\u001b[0mbw\u001b[0m\u001b[0;34m)\u001b[0m\u001b[0;34m\u001b[0m\u001b[0;34m\u001b[0m\u001b[0m\n\u001b[0m\u001b[1;32m      5\u001b[0m \u001b[0msns\u001b[0m\u001b[0;34m.\u001b[0m\u001b[0mkdeplot\u001b[0m\u001b[0;34m(\u001b[0m\u001b[0mtravel_times_10\u001b[0m\u001b[0;34m,\u001b[0m \u001b[0max\u001b[0m\u001b[0;34m=\u001b[0m\u001b[0max\u001b[0m\u001b[0;34m,\u001b[0m \u001b[0mcolor\u001b[0m\u001b[0;34m=\u001b[0m\u001b[0;34m'g'\u001b[0m\u001b[0;34m,\u001b[0m\u001b[0mshade\u001b[0m\u001b[0;34m=\u001b[0m\u001b[0;32mTrue\u001b[0m\u001b[0;34m,\u001b[0m\u001b[0mbw\u001b[0m\u001b[0;34m=\u001b[0m\u001b[0mbw\u001b[0m\u001b[0;34m)\u001b[0m\u001b[0;34m\u001b[0m\u001b[0;34m\u001b[0m\u001b[0m\n\u001b[1;32m      6\u001b[0m \u001b[0;31m#sns.kdeplot(travel_times_50, ax=ax, color='y',shade=True)\u001b[0m\u001b[0;34m\u001b[0m\u001b[0;34m\u001b[0m\u001b[0;34m\u001b[0m\u001b[0m\n",
      "\u001b[0;31mNameError\u001b[0m: name 'travel_times_base' is not defined"
     ]
    },
    {
     "data": {
      "image/png": "[encoded data removed]",
      "text/plain": [
       "<Figure size 432x288 with 1 Axes>"
      ]
     },
     "metadata": {
      "needs_background": "light"
     },
     "output_type": "display_data"
    }
   ],
   "source": [
    "bw = 'scott'\n",
    "fig,ax = plt.subplots(figsize=[6,4])\n",
    "\n",
    "sns.kdeplot(travel_times_base,ax = ax, color = 'b', shade=True,bw=bw)\n",
    "sns.kdeplot(travel_times_10, ax=ax, color='g',shade=True,bw=bw)\n",
    "#sns.kdeplot(travel_times_50, ax=ax, color='y',shade=True)\n",
    "sns.kdeplot(travel_times_100, ax=ax, color='r',shade=True,bw=bw)\n",
    "\n",
    "ax.set_title('Travel times between firms in downtown Kampala')\n",
    "plt.legend(['No flood','10-year flood','100-year flood'])\n",
    "ax.set(xlabel=\"minutes\", ylabel='percent of journey pairs');\n",
    "plt.xlim(0,50)\n",
    "\n",
    "ticks = ax.get_yticks()*100\n",
    "ticks = [round(n,1) for n in (list(ticks))]\n",
    "ax.set_yticklabels(ticks);"
   ]
  },
  {
   "cell_type": "code",
   "execution_count": 170,
   "metadata": {},
   "outputs": [],
   "source": [
    "baseline_mean = travel_times_base.mean()\n",
    "flood_10_mean = travel_times_10.mean()\n",
    "flood_50_mean = travel_times_50.mean()\n",
    "flood_100_mean = travel_times_100.mean()\n"
   ]
  },
  {
   "cell_type": "code",
   "execution_count": 171,
   "metadata": {},
   "outputs": [],
   "source": [
    "change_df = pd.DataFrame({\"mean times\":[baseline_mean, flood_10_mean, flood_100_mean]},index=\n",
    "                        ['no flood','10-year flood','100-year flood'])"
   ]
  },
  {
   "cell_type": "code",
   "execution_count": 172,
   "metadata": {},
   "outputs": [
    {
     "data": {
      "text/html": [
       "<div>\n",
       "<style scoped>\n",
       "    .dataframe tbody tr th:only-of-type {\n",
       "        vertical-align: middle;\n",
       "    }\n",
       "\n",
       "    .dataframe tbody tr th {\n",
       "        vertical-align: top;\n",
       "    }\n",
       "\n",
       "    .dataframe thead th {\n",
       "        text-align: right;\n",
       "    }\n",
       "</style>\n",
       "<table border=\"1\" class=\"dataframe\">\n",
       "  <thead>\n",
       "    <tr style=\"text-align: right;\">\n",
       "      <th></th>\n",
       "      <th>mean times</th>\n",
       "      <th>percent difference</th>\n",
       "    </tr>\n",
       "  </thead>\n",
       "  <tbody>\n",
       "    <tr>\n",
       "      <th>no flood</th>\n",
       "      <td>10.437851</td>\n",
       "      <td>0.000000</td>\n",
       "    </tr>\n",
       "    <tr>\n",
       "      <th>10-year flood</th>\n",
       "      <td>16.056173</td>\n",
       "      <td>53.826420</td>\n",
       "    </tr>\n",
       "    <tr>\n",
       "      <th>100-year flood</th>\n",
       "      <td>17.624052</td>\n",
       "      <td>68.847508</td>\n",
       "    </tr>\n",
       "  </tbody>\n",
       "</table>\n",
       "</div>"
      ],
      "text/plain": [
       "                mean times  percent difference\n",
       "no flood         10.437851            0.000000\n",
       "10-year flood    16.056173           53.826420\n",
       "100-year flood   17.624052           68.847508"
      ]
     },
     "execution_count": 172,
     "metadata": {},
     "output_type": "execute_result"
    }
   ],
   "source": [
    "change_df['percent difference'] = (change_df['mean times'] - change_df['mean times'][0]) / change_df['mean times'][0] * 100\n",
    "change_df"
   ]
  },
  {
   "cell_type": "code",
   "execution_count": 180,
   "metadata": {},
   "outputs": [],
   "source": [
    "baseline_OD_firms_DF = pd.DataFrame(baseline_OD_firms)\n",
    "flood_OD_firms_10yr_df = pd.DataFrame(flood_OD_firms_10yr)\n",
    "flood_OD_firms_50yr_df = pd.DataFrame(flood_OD_firms_50yr)\n",
    "flood_OD_firms_100yr_df = pd.DataFrame(flood_OD_firms_100yr)"
   ]
  },
  {
   "cell_type": "code",
   "execution_count": null,
   "metadata": {},
   "outputs": [],
   "source": []
  },
  {
   "cell_type": "code",
   "execution_count": 181,
   "metadata": {},
   "outputs": [],
   "source": [
    "baseline_mean = baseline_OD_firms_DF.mean(axis=1)\n",
    "flood_10yr_mean = flood_OD_firms_10yr_df[flood_OD_firms_10yr_df < 999999].mean(axis=1)\n",
    "flood_50yr_mean = flood_OD_firms_50yr_df[flood_OD_firms_50yr_df < 999999].mean(axis=1)\n",
    "flood_100yr_mean = flood_OD_firms_100yr_df[flood_OD_firms_100yr_df < 999999].mean(axis=1)\n"
   ]
  },
  {
   "cell_type": "code",
   "execution_count": 182,
   "metadata": {},
   "outputs": [],
   "source": [
    "mean_times_by_firm = pd.DataFrame({'baseline_mean' : baseline_OD_firms_DF.mean(axis=1),\n",
    "                                  'flood_10yr_mean' : flood_OD_firms_10yr_df[flood_OD_firms_10yr_df < 999999].mean(axis=1),\n",
    "                                  'flood_50yr_mean' : flood_OD_firms_50yr_df[flood_OD_firms_50yr_df < 999999].mean(axis=1),\n",
    "                                  'flood_100yr_mean' : flood_OD_firms_100yr_df[flood_OD_firms_100yr_df < 999999].mean(axis=1)})"
   ]
  },
  {
   "cell_type": "code",
   "execution_count": 183,
   "metadata": {},
   "outputs": [],
   "source": [
    "def percent_change(changed, original):\n",
    "    return (changed - original)/original * 100\n",
    "\n",
    "mean_times_by_firm['diff_10'] = percent_change(mean_times_by_firm.flood_10yr_mean, mean_times_by_firm.baseline_mean)\n",
    "mean_times_by_firm['diff_50'] = percent_change(mean_times_by_firm.flood_50yr_mean, mean_times_by_firm.baseline_mean)\n",
    "mean_times_by_firm['diff_100'] = percent_change(mean_times_by_firm.flood_100yr_mean, mean_times_by_firm.baseline_mean)"
   ]
  },
  {
   "cell_type": "code",
   "execution_count": 184,
   "metadata": {},
   "outputs": [
    {
     "data": {
      "text/html": [
       "<div>\n",
       "<style scoped>\n",
       "    .dataframe tbody tr th:only-of-type {\n",
       "        vertical-align: middle;\n",
       "    }\n",
       "\n",
       "    .dataframe tbody tr th {\n",
       "        vertical-align: top;\n",
       "    }\n",
       "\n",
       "    .dataframe thead th {\n",
       "        text-align: right;\n",
       "    }\n",
       "</style>\n",
       "<table border=\"1\" class=\"dataframe\">\n",
       "  <thead>\n",
       "    <tr style=\"text-align: right;\">\n",
       "      <th></th>\n",
       "      <th>baseline_mean</th>\n",
       "      <th>flood_10yr_mean</th>\n",
       "      <th>flood_50yr_mean</th>\n",
       "      <th>flood_100yr_mean</th>\n",
       "      <th>diff_10</th>\n",
       "      <th>diff_50</th>\n",
       "      <th>diff_100</th>\n",
       "    </tr>\n",
       "  </thead>\n",
       "  <tbody>\n",
       "    <tr>\n",
       "      <th>0</th>\n",
       "      <td>481.707436</td>\n",
       "      <td>747.453261</td>\n",
       "      <td>798.272104</td>\n",
       "      <td>800.368868</td>\n",
       "      <td>55.167474</td>\n",
       "      <td>65.717206</td>\n",
       "      <td>66.152483</td>\n",
       "    </tr>\n",
       "    <tr>\n",
       "      <th>1</th>\n",
       "      <td>545.153380</td>\n",
       "      <td>836.380700</td>\n",
       "      <td>997.381427</td>\n",
       "      <td>990.358828</td>\n",
       "      <td>53.421171</td>\n",
       "      <td>82.954277</td>\n",
       "      <td>81.666090</td>\n",
       "    </tr>\n",
       "    <tr>\n",
       "      <th>2</th>\n",
       "      <td>456.449555</td>\n",
       "      <td>631.367893</td>\n",
       "      <td>670.726377</td>\n",
       "      <td>664.760967</td>\n",
       "      <td>38.321505</td>\n",
       "      <td>46.944250</td>\n",
       "      <td>45.637335</td>\n",
       "    </tr>\n",
       "    <tr>\n",
       "      <th>3</th>\n",
       "      <td>780.678131</td>\n",
       "      <td>1197.742391</td>\n",
       "      <td>1243.708643</td>\n",
       "      <td>1228.985721</td>\n",
       "      <td>53.423331</td>\n",
       "      <td>59.311321</td>\n",
       "      <td>57.425406</td>\n",
       "    </tr>\n",
       "    <tr>\n",
       "      <th>4</th>\n",
       "      <td>521.487917</td>\n",
       "      <td>837.308113</td>\n",
       "      <td>1163.926214</td>\n",
       "      <td>1159.423359</td>\n",
       "      <td>60.561364</td>\n",
       "      <td>123.193324</td>\n",
       "      <td>122.329861</td>\n",
       "    </tr>\n",
       "  </tbody>\n",
       "</table>\n",
       "</div>"
      ],
      "text/plain": [
       "   baseline_mean  flood_10yr_mean  flood_50yr_mean  flood_100yr_mean  \\\n",
       "0     481.707436       747.453261       798.272104        800.368868   \n",
       "1     545.153380       836.380700       997.381427        990.358828   \n",
       "2     456.449555       631.367893       670.726377        664.760967   \n",
       "3     780.678131      1197.742391      1243.708643       1228.985721   \n",
       "4     521.487917       837.308113      1163.926214       1159.423359   \n",
       "\n",
       "     diff_10     diff_50    diff_100  \n",
       "0  55.167474   65.717206   66.152483  \n",
       "1  53.421171   82.954277   81.666090  \n",
       "2  38.321505   46.944250   45.637335  \n",
       "3  53.423331   59.311321   57.425406  \n",
       "4  60.561364  123.193324  122.329861  "
      ]
     },
     "execution_count": 184,
     "metadata": {},
     "output_type": "execute_result"
    }
   ],
   "source": [
    "mean_times_by_firm.head()"
   ]
  },
  {
   "cell_type": "code",
   "execution_count": 185,
   "metadata": {},
   "outputs": [
    {
     "data": {
      "image/png": "[encoded data removed]",
      "text/plain": [
       "<Figure size 432x288 with 1 Axes>"
      ]
     },
     "metadata": {
      "needs_background": "light"
     },
     "output_type": "display_data"
    }
   ],
   "source": [
    "# Histogram of post-flood travel times between firms\n",
    "bins = 100\n",
    "\n",
    "fig,ax = plt.subplots(figsize=[6,4])\n",
    "ax.hist(mean_times_by_firm.diff_10,color='g',alpha=0.5,density=True,bins=bins)\n",
    "ax.hist(mean_times_by_firm.diff_50,color='y',alpha=0.5,density=True,bins=bins)\n",
    "ax.hist(mean_times_by_firm.diff_100,color='r',alpha=0.5,density=True,bins=bins)\n",
    "plt.title('Kampala: Travel times between firms')\n",
    "plt.ylabel('percent of firms')\n",
    "plt.legend(['10-year flood','50-year flood','100-year flood'])\n",
    "plt.xlabel('percent increase travel time');\n",
    "\n",
    "plt.xlim(0,300)\n",
    "\n",
    "ticks = ax.get_yticks()*100\n",
    "ticks = [round(n,1) for n in (list(ticks))]\n",
    "ax.set_yticklabels(ticks);"
   ]
  },
  {
   "cell_type": "code",
   "execution_count": 416,
   "metadata": {},
   "outputs": [
    {
     "data": {
      "image/png": "[encoded data removed]",
      "text/plain": [
       "<Figure size 432x288 with 1 Axes>"
      ]
     },
     "metadata": {
      "needs_background": "light"
     },
     "output_type": "display_data"
    }
   ],
   "source": [
    "f,ax = plt.subplots(figsize=[6,4])\n",
    "\n",
    "cols_to_show=['diff_10','diff_50','diff_100']\n",
    "cols = ['g','y','r']\n",
    "\n",
    "for n, column in enumerate(mean_times_by_firm[cols_to_show]):\n",
    "    plt.hist(mean_times_by_firm[column],alpha=0.5,color=cols[n],bins=100)\n",
    "    \n",
    "ax.set_title('Journey time increase due to flooding')\n",
    "plt.legend(cols_to_show)\n",
    "plt.legend(['10-year flood','50-year flood','100-year flood'])\n",
    "plt.xlim(0,225)\n",
    "\n",
    "ax.set(xlabel=\"percent increase over unflooded trip\", ylabel='percent of journey pairs');\n",
    "\n",
    "ticks = ax.get_yticks()*100\n",
    "ticks = [round(n,1) for n in (list(ticks))]\n",
    "ax.set_yticklabels(ticks);"
   ]
  },
  {
   "cell_type": "code",
   "execution_count": null,
   "metadata": {},
   "outputs": [],
   "source": []
  },
  {
   "cell_type": "code",
   "execution_count": 192,
   "metadata": {},
   "outputs": [
    {
     "data": {
      "text/plain": [
       "272"
      ]
     },
     "execution_count": 192,
     "metadata": {},
     "output_type": "execute_result"
    }
   ],
   "source": [
    "n_firms = mean_times_by_firm.shape[0]\n",
    "\n",
    "sum(mean_times_by_firm.diff_50 < 100)\n"
   ]
  },
  {
   "cell_type": "code",
   "execution_count": 392,
   "metadata": {},
   "outputs": [
    {
     "name": "stdout",
     "output_type": "stream",
     "text": [
      "Number of firms:\n",
      "Travel times increase up to 25%: 1\n",
      "Travel times increase up to 50%: 162\n",
      "Travel times increase up to 100%: 39\n",
      "Travel times increase more than 100%: 82\n"
     ]
    }
   ],
   "source": [
    "return_period = 'diff_10'\n",
    "\n",
    "threshold1 = 25\n",
    "threshold2 = 50\n",
    "threshold3 = 100\n",
    "\n",
    "print(\"Number of firms:\")\n",
    "print(\"Travel times increase up to {}%: {}\".format(threshold1, sum((mean_times_by_firm[return_period] > 0) & \n",
    "                                                    (mean_times_by_firm[return_period] < threshold1))))\n",
    "print(\"Travel times increase up to {}%: {}\".format(threshold2, sum((mean_times_by_firm[return_period] > threshold1) & \n",
    "                                                    (mean_times_by_firm[return_period] < threshold2))))\n",
    "print(\"Travel times increase up to {}%: {}\".format(threshold3, sum((mean_times_by_firm[return_period] > threshold2) & \n",
    "                                                    (mean_times_by_firm[return_period] < threshold3))))\n",
    "print(\"Travel times increase more than {}%: {}\".format(threshold3, sum((mean_times_by_firm[return_period] > threshold3) & \n",
    "                                                    (mean_times_by_firm[return_period] > threshold3))))"
   ]
  },
  {
   "cell_type": "code",
   "execution_count": 195,
   "metadata": {},
   "outputs": [],
   "source": [
    "mean_times_by_firm.to_csv('data/mean_times_by_firm.csv')"
   ]
  },
  {
   "cell_type": "code",
   "execution_count": 414,
   "metadata": {},
   "outputs": [
    {
     "name": "stdout",
     "output_type": "stream",
     "text": [
      "Percent of firms:\n",
      "Travel times increase up to 25%: 0.0\n",
      "Travel times increase up to 50%: 42.3\n",
      "Travel times increase up to 75%: 14.7\n",
      "Travel times increase up to 100%: 3.9\n",
      "Travel times increase more than 100%: 27.4\n"
     ]
    }
   ],
   "source": [
    "return_period = 'diff_50'\n",
    "\n",
    "print(\"Percent of firms:\")\n",
    "print(\"Travel times increase up to {}%: {:.1f}\".format(threshold1, sum((mean_times_by_firm[return_period] > 0) & \n",
    "                                                    (mean_times_by_firm[return_period] < threshold1))/ n_firms * 100))\n",
    "print(\"Travel times increase up to {}%: {:.1f}\".format(threshold2, sum((mean_times_by_firm[return_period] > threshold1) & \n",
    "                                                    (mean_times_by_firm[return_period] < threshold2))/ n_firms * 100))\n",
    "print(\"Travel times increase up to 75%: {:.1f}\".format(sum((mean_times_by_firm[return_period] > 50) & \n",
    "                                                    (mean_times_by_firm[return_period] < 75))/ n_firms * 100))\n",
    "print(\"Travel times increase up to {}%: {:.1f}\".format(threshold3, sum((mean_times_by_firm[return_period] > 75) & \n",
    "                                                    (mean_times_by_firm[return_period] < 100))/ n_firms * 100))\n",
    "print(\"Travel times increase more than {}%: {:.1f}\".format(threshold3, sum(mean_times_by_firm[return_period] > threshold3)/ n_firms * 100))"
   ]
  },
  {
   "cell_type": "code",
   "execution_count": 408,
   "metadata": {},
   "outputs": [],
   "source": [
    "mean_times_by_firm['diff_100'][mean_times_by_firm['diff_100']<0] = 0"
   ]
  },
  {
   "cell_type": "code",
   "execution_count": 402,
   "metadata": {},
   "outputs": [
    {
     "data": {
      "text/plain": [
       "count    272.000000\n",
       "mean      84.329470\n",
       "std       67.890269\n",
       "min      -92.957980\n",
       "25%       36.849424\n",
       "50%       51.875881\n",
       "75%      120.960433\n",
       "max      313.512499\n",
       "Name: diff_50, dtype: float64"
      ]
     },
     "execution_count": 402,
     "metadata": {},
     "output_type": "execute_result"
    }
   ],
   "source": [
    "mean_times_by_firm['diff_50'].describe()"
   ]
  },
  {
   "cell_type": "code",
   "execution_count": 55,
   "metadata": {},
   "outputs": [
    {
     "data": {
      "text/html": [
       "<div>\n",
       "<style scoped>\n",
       "    .dataframe tbody tr th:only-of-type {\n",
       "        vertical-align: middle;\n",
       "    }\n",
       "\n",
       "    .dataframe tbody tr th {\n",
       "        vertical-align: top;\n",
       "    }\n",
       "\n",
       "    .dataframe thead th {\n",
       "        text-align: right;\n",
       "    }\n",
       "</style>\n",
       "<table border=\"1\" class=\"dataframe\">\n",
       "  <thead>\n",
       "    <tr style=\"text-align: right;\">\n",
       "      <th></th>\n",
       "      <th>Travel time change by number firms</th>\n",
       "    </tr>\n",
       "  </thead>\n",
       "  <tbody>\n",
       "    <tr>\n",
       "      <th>Up to 25% increase</th>\n",
       "      <td>124</td>\n",
       "    </tr>\n",
       "    <tr>\n",
       "      <th>Travel times increase 25% to 50%</th>\n",
       "      <td>143</td>\n",
       "    </tr>\n",
       "    <tr>\n",
       "      <th>Travel times increase 50% to 75%</th>\n",
       "      <td>25</td>\n",
       "    </tr>\n",
       "    <tr>\n",
       "      <th>Up to 100% increase</th>\n",
       "      <td>2</td>\n",
       "    </tr>\n",
       "    <tr>\n",
       "      <th>More than 100% increase</th>\n",
       "      <td>13</td>\n",
       "    </tr>\n",
       "  </tbody>\n",
       "</table>\n",
       "</div>"
      ],
      "text/plain": [
       "                                  Travel time change by number firms\n",
       "Up to 25% increase                                               124\n",
       "Travel times increase 25% to 50%                                 143\n",
       "Travel times increase 50% to 75%                                  25\n",
       "Up to 100% increase                                                2\n",
       "More than 100% increase                                           13"
      ]
     },
     "execution_count": 55,
     "metadata": {},
     "output_type": "execute_result"
    }
   ],
   "source": [
    "pd.DataFrame(data={'Up to 25% increase':sum(mean_times_by_firm.diff_10 < 25),\n",
    "              'Travel times increase 25% to 50%':sum((mean_times_by_firm.diff_10 > 25) & (mean_times_by_firm.diff_10 < 50)),\n",
    "              'Travel times increase 50% to 75%':sum((mean_times_by_firm.diff_10 > 50) & (mean_times_by_firm.diff_10 < 75)),\n",
    "              'Up to 100% increase':sum((mean_times_by_firm.diff_10 > 75) & (mean_times_by_firm.diff_10 < 100)),\n",
    "               'More than 100% increase':sum((mean_times_by_firm.diff_10 > 100) & (mean_times_by_firm.diff_10 < 400)),\n",
    "                  }, index=['Travel time change by number firms']).T"
   ]
  },
  {
   "cell_type": "code",
   "execution_count": 391,
   "metadata": {},
   "outputs": [
    {
     "data": {
      "text/html": [
       "<div>\n",
       "<style scoped>\n",
       "    .dataframe tbody tr th:only-of-type {\n",
       "        vertical-align: middle;\n",
       "    }\n",
       "\n",
       "    .dataframe tbody tr th {\n",
       "        vertical-align: top;\n",
       "    }\n",
       "\n",
       "    .dataframe thead th {\n",
       "        text-align: right;\n",
       "    }\n",
       "</style>\n",
       "<table border=\"1\" class=\"dataframe\">\n",
       "  <thead>\n",
       "    <tr style=\"text-align: right;\">\n",
       "      <th></th>\n",
       "      <th>Travel time change by percent firms</th>\n",
       "    </tr>\n",
       "  </thead>\n",
       "  <tbody>\n",
       "    <tr>\n",
       "      <th>Up to 25% increase</th>\n",
       "      <td>0.651466</td>\n",
       "    </tr>\n",
       "    <tr>\n",
       "      <th>Travel times increase 25% to 50%</th>\n",
       "      <td>52.768730</td>\n",
       "    </tr>\n",
       "    <tr>\n",
       "      <th>Travel times increase 50% to 75%</th>\n",
       "      <td>9.771987</td>\n",
       "    </tr>\n",
       "    <tr>\n",
       "      <th>Up to 100% increase</th>\n",
       "      <td>0.000000</td>\n",
       "    </tr>\n",
       "    <tr>\n",
       "      <th>More than 100% increase</th>\n",
       "      <td>26.710098</td>\n",
       "    </tr>\n",
       "  </tbody>\n",
       "</table>\n",
       "</div>"
      ],
      "text/plain": [
       "                                  Travel time change by percent firms\n",
       "Up to 25% increase                                           0.651466\n",
       "Travel times increase 25% to 50%                            52.768730\n",
       "Travel times increase 50% to 75%                             9.771987\n",
       "Up to 100% increase                                          0.000000\n",
       "More than 100% increase                                     26.710098"
      ]
     },
     "execution_count": 391,
     "metadata": {},
     "output_type": "execute_result"
    }
   ],
   "source": [
    "pd.DataFrame(data={'Up to 25% increase':sum(mean_times_by_firm.diff_10 < 25) / n_firms * 100,\n",
    "              'Travel times increase 25% to 50%':sum((mean_times_by_firm.diff_10 > 25) & (mean_times_by_firm.diff_10 < 50)) / n_firms * 100,\n",
    "              'Travel times increase 50% to 75%':sum((mean_times_by_firm.diff_10 > 50) & (mean_times_by_firm.diff_10 < 75)) / n_firms * 100,\n",
    "              'Up to 100% increase':sum((mean_times_by_firm.diff_10 > 75) & (mean_times_by_firm.diff_10 < 10)) / n_firms * 100,\n",
    "               'More than 100% increase':sum((mean_times_by_firm.diff_10 > 100) & (mean_times_by_firm.diff_10 < 400)) / n_firms * 100,\n",
    "                  }, index=['Travel time change by percent firms']).T"
   ]
  },
  {
   "cell_type": "markdown",
   "metadata": {},
   "source": [
    "#### 10. Travel times grid to hospitals"
   ]
  },
  {
   "cell_type": "code",
   "execution_count": 13,
   "metadata": {},
   "outputs": [
    {
     "name": "stderr",
     "output_type": "stream",
     "text": [
      "/anaconda3/envs/geo5/lib/python3.6/site-packages/geopandas/tools/sjoin.py:44: UserWarning: CRS of frames being joined does not match!\n",
      "  warn('CRS of frames being joined does not match!')\n"
     ]
    }
   ],
   "source": [
    "grid_clipped = gpd.sjoin(grid,boundary_GDF,how='inner')"
   ]
  },
  {
   "cell_type": "code",
   "execution_count": 14,
   "metadata": {},
   "outputs": [
    {
     "data": {
      "image/png": "[encoded data removed]",
      "text/plain": [
       "<Figure size 432x432 with 1 Axes>"
      ]
     },
     "metadata": {},
     "output_type": "display_data"
    }
   ],
   "source": [
    "ax = boundary_GDF.plot(alpha = 0.1, figsize=[6,6])\n",
    "#show(raster, ax = ax)\n",
    "\n",
    "grid_clipped.plot(ax=ax,alpha=0.5)\n",
    "POIs_health.plot(ax=ax,color='r')\n",
    "plt.setp(plt.gcf().get_axes(), xticks=[], yticks=[]);\n",
    "plt.title('Kampala: grid cells and hospitals');"
   ]
  },
  {
   "cell_type": "code",
   "execution_count": 15,
   "metadata": {},
   "outputs": [
    {
     "ename": "NameError",
     "evalue": "name 'pois_health' is not defined",
     "output_type": "error",
     "traceback": [
      "\u001b[0;31m---------------------------------------------------------------------------\u001b[0m",
      "\u001b[0;31mNameError\u001b[0m                                 Traceback (most recent call last)",
      "\u001b[0;32m<ipython-input-15-2e700e4d5d2b>\u001b[0m in \u001b[0;36m<module>\u001b[0;34m\u001b[0m\n\u001b[0;32m----> 1\u001b[0;31m \u001b[0mpois_health\u001b[0m\u001b[0;34m.\u001b[0m\u001b[0mshape\u001b[0m\u001b[0;34m\u001b[0m\u001b[0;34m\u001b[0m\u001b[0m\n\u001b[0m",
      "\u001b[0;31mNameError\u001b[0m: name 'pois_health' is not defined"
     ]
    }
   ],
   "source": [
    "pois_health.shape"
   ]
  },
  {
   "cell_type": "code",
   "execution_count": null,
   "metadata": {},
   "outputs": [],
   "source": []
  },
  {
   "cell_type": "code",
   "execution_count": 316,
   "metadata": {},
   "outputs": [],
   "source": [
    "baseline_OD_hosp = gn.calculate_OD(G3, list(grid_clipped.NN), list(POIs_health.NN), fail_value, weight='time')"
   ]
  },
  {
   "cell_type": "code",
   "execution_count": 317,
   "metadata": {},
   "outputs": [],
   "source": [
    "flood_OD_hosp_access_10yr = gn.calculate_OD(G_flood10, list(grid_clipped.NN), list(POIs_health.NN), fail_value, weight='time')\n",
    "flood_OD_hosp_access_50yr = gn.calculate_OD(G_flood50, list(grid_clipped.NN), list(POIs_health.NN), fail_value, weight='time')\n",
    "flood_OD_hosp_access_100yr = gn.calculate_OD(G_flood100, list(grid_clipped.NN), list(POIs_health.NN), fail_value, weight='time')"
   ]
  },
  {
   "cell_type": "code",
   "execution_count": 318,
   "metadata": {},
   "outputs": [],
   "source": [
    "flood_OD_hosp_access_10yr[flood_OD_hosp_access_10yr > 10000] = np.nan\n",
    "flood_OD_hosp_access_50yr[flood_OD_hosp_access_50yr > 10000] = np.nan\n",
    "flood_OD_hosp_access_100yr[flood_OD_hosp_access_100yr > 10000] = np.nan"
   ]
  },
  {
   "cell_type": "code",
   "execution_count": 319,
   "metadata": {},
   "outputs": [],
   "source": [
    "baseline_df_hosp = pd.DataFrame(baseline_OD_hosp/60)\n",
    "flood_df_hosp_10 = pd.DataFrame(flood_OD_hosp_access_10yr/60)\n",
    "flood_df_hosp_50 = pd.DataFrame(flood_OD_hosp_access_50yr/60)\n",
    "flood_df_hosp_100 = pd.DataFrame(flood_OD_hosp_access_100yr/60)"
   ]
  },
  {
   "cell_type": "code",
   "execution_count": 320,
   "metadata": {},
   "outputs": [],
   "source": [
    "time_to_nearest_hospital = pd.DataFrame({\"Baseline\":baseline_df_hosp.min(axis = 1),\n",
    "              \"Flood_10\":flood_df_hosp_10.min(axis=1),\n",
    "              \"Flood_50\":flood_df_hosp_50.min(axis=1),\n",
    "              \"Flood_100\":flood_df_hosp_100.min(axis=1)})"
   ]
  },
  {
   "cell_type": "code",
   "execution_count": 324,
   "metadata": {},
   "outputs": [
    {
     "data": {
      "image/png": "[encoded data removed]",
      "text/plain": [
       "<Figure size 648x432 with 1 Axes>"
      ]
     },
     "metadata": {
      "needs_background": "light"
     },
     "output_type": "display_data"
    }
   ],
   "source": [
    "f,ax = plt.subplots(figsize=[9,6])\n",
    "cols = ['b','g','y','r']\n",
    "\n",
    "for n, column in enumerate(time_to_nearest_hospital.columns):\n",
    "    sns.kdeplot(time_to_nearest_hospital[column],shade=True,color=cols[n])\n",
    "\n",
    "ax.set_title('Travel times to nearest hospital')\n",
    "plt.legend(['No flood','10-year flood','50-year flood','100-year flood'])\n",
    "#ax.set_yticklabels([])\n",
    "ax.set(xlabel=\"time\", ylabel='frequency')\n",
    "\n",
    "ticks = ax.get_yticks()*100\n",
    "ticks = [round(n,1) for n in (list(ticks))]\n",
    "ax.set_yticklabels(ticks);"
   ]
  },
  {
   "cell_type": "code",
   "execution_count": 323,
   "metadata": {},
   "outputs": [],
   "source": [
    "time_to_hospital_mean = pd.DataFrame({\"Baseline\":baseline_df_hosp.mean(axis = 1),\n",
    "              \"Flood_10\":flood_df_hosp_10.mean(axis=1),\n",
    "              \"Flood_50\":flood_df_hosp_50.mean(axis=1),\n",
    "              \"Flood_100\":flood_df_hosp_100.mean(axis=1)})"
   ]
  },
  {
   "cell_type": "code",
   "execution_count": 388,
   "metadata": {},
   "outputs": [
    {
     "data": {
      "image/png": "[encoded data removed]",
      "text/plain": [
       "<Figure size 432x288 with 1 Axes>"
      ]
     },
     "metadata": {
      "needs_background": "light"
     },
     "output_type": "display_data"
    }
   ],
   "source": [
    "f,ax = plt.subplots(figsize=[6,4])\n",
    "cols = ['b','g','r']\n",
    "cols_to_show = ['Baseline','Flood_10','Flood_50']\n",
    "\n",
    "for n, column in enumerate(cols_to_show):\n",
    "    sns.kdeplot(time_to_hospital_mean[column],shade=True,color=cols[n])\n",
    "\n",
    "ax.set_title('Mean travel times to hospitals')\n",
    "plt.legend(['No flood','10-year flood','50-year flood'])\n",
    "plt.xlim(0)\n",
    "#ax.set_yticklabels([])\n",
    "ax.set(xlabel=\"minutes\", ylabel='percent of city locations')\n",
    "\n",
    "ticks = ax.get_yticks()*100\n",
    "ticks = [round(n,1) for n in (list(ticks))]\n",
    "plt.axvline(x=30, color='grey', linestyle='dotted', linewidth = 3)\n",
    "ax.set_yticklabels(ticks);"
   ]
  },
  {
   "cell_type": "code",
   "execution_count": 340,
   "metadata": {},
   "outputs": [
    {
     "data": {
      "text/plain": [
       "7.770700636942675"
      ]
     },
     "execution_count": 340,
     "metadata": {},
     "output_type": "execute_result"
    }
   ],
   "source": [
    "time_to_hospital_mean.Flood_50.isnull().sum() / time_to_hospital_mean.shape[0] * 100"
   ]
  },
  {
   "cell_type": "code",
   "execution_count": 342,
   "metadata": {},
   "outputs": [
    {
     "data": {
      "text/plain": [
       "Index(['Baseline', 'Flood_10', 'Flood_50', 'Flood_100'], dtype='object')"
      ]
     },
     "execution_count": 342,
     "metadata": {},
     "output_type": "execute_result"
    }
   ],
   "source": [
    "time_to_hospital_mean.columns"
   ]
  },
  {
   "cell_type": "code",
   "execution_count": 335,
   "metadata": {},
   "outputs": [
    {
     "name": "stdout",
     "output_type": "stream",
     "text": [
      "Mean time to hospital (Baseline): 17.1\n",
      "Mean time to hospital (Flood_10): 26.6\n",
      "Mean time to hospital (Flood_50): 29.7\n",
      "Mean time to hospital (Flood_100): 29.7\n"
     ]
    }
   ],
   "source": [
    "for column in time_to_hospital_mean.columns:\n",
    "    print(\"Mean time to hospital ({}): {:.1f}\".format(column, time_to_hospital_mean[column].mean()))"
   ]
  },
  {
   "cell_type": "code",
   "execution_count": 345,
   "metadata": {},
   "outputs": [],
   "source": [
    "def percent_change(changed, original):\n",
    "    return (changed - original)/original * 100\n",
    "\n",
    "mean_times_by_location = pd.DataFrame()\n",
    "mean_times_by_location['diff_10'] = percent_change(time_to_hospital_mean.Flood_10, time_to_hospital_mean.Baseline)\n",
    "mean_times_by_location['diff_50'] = percent_change(time_to_hospital_mean.Flood_50, time_to_hospital_mean.Baseline)\n",
    "mean_times_by_location['diff_100'] = percent_change(time_to_hospital_mean.Flood_100, time_to_hospital_mean.Baseline)"
   ]
  },
  {
   "cell_type": "code",
   "execution_count": 349,
   "metadata": {},
   "outputs": [
    {
     "data": {
      "text/plain": [
       "(785, 12)"
      ]
     },
     "execution_count": 349,
     "metadata": {},
     "output_type": "execute_result"
    }
   ],
   "source": [
    "grid_clipped.shape"
   ]
  },
  {
   "cell_type": "code",
   "execution_count": 371,
   "metadata": {},
   "outputs": [
    {
     "name": "stdout",
     "output_type": "stream",
     "text": [
      "Baseline - Number of city locations for which travel time to hospital exceeds 30 minutes: 4\n",
      "Percent of city locations for which travel time to hospital  exceeds 30 minutes: 0.5\n"
     ]
    }
   ],
   "source": [
    "print(\"Baseline - Number of city locations for which travel time to hospital exceeds 30 minutes: {}\".format(\n",
    "      time_to_hospital_mean.Baseline[time_to_hospital_mean.Baseline > 30].count()))\n",
    "\n",
    "print(\"Percent of city locations for which travel time to hospital  exceeds 30 minutes: {:.1f}\".format(\n",
    "      time_to_hospital_mean.Baseline[time_to_hospital_mean.Baseline > 30].count()\n",
    "       / time_to_hospital_mean.Baseline.shape[0] * 100))"
   ]
  },
  {
   "cell_type": "code",
   "execution_count": 372,
   "metadata": {},
   "outputs": [
    {
     "name": "stdout",
     "output_type": "stream",
     "text": [
      "10 year flood - Number of city locations for which travel time to hospital exceeds 30 minutes: 237\n",
      "Percent of city locations for which travel time to hospital  exceeds 30 minutes: 30.2\n"
     ]
    }
   ],
   "source": [
    "print(\"10 year flood - Number of city locations for which travel time to hospital exceeds 30 minutes: {}\".format(\n",
    "      time_to_hospital_mean.Flood_10[time_to_hospital_mean.Flood_10 > 30].count()))\n",
    "\n",
    "print(\"Percent of city locations for which travel time to hospital  exceeds 30 minutes: {:.1f}\".format(\n",
    "      time_to_hospital_mean.Flood_10[time_to_hospital_mean.Flood_10 > 30].count()\n",
    "       / time_to_hospital_mean.Flood_10.shape[0] * 100))"
   ]
  },
  {
   "cell_type": "code",
   "execution_count": 370,
   "metadata": {},
   "outputs": [
    {
     "name": "stdout",
     "output_type": "stream",
     "text": [
      "50 year flood - Number of city locations for which travel time to hospital exceeds 30 minutes: 342\n",
      "Percent of city locations for which travel time to hospital  exceeds 30 minutes: 43.6\n"
     ]
    }
   ],
   "source": [
    "print(\"50 year flood - Number of city locations for which travel time to hospital exceeds 30 minutes: {}\".format(\n",
    "      time_to_hospital_mean.Flood_50[time_to_hospital_mean.Flood_50 > 30].count()))\n",
    "\n",
    "print(\"Percent of city locations for which travel time to hospital  exceeds 30 minutes: {:.1f}\".format(\n",
    "      time_to_hospital_mean.Flood_50[time_to_hospital_mean.Flood_50 > 30].count()\n",
    "       / time_to_hospital_mean.Flood_50.shape[0] * 100))"
   ]
  },
  {
   "cell_type": "code",
   "execution_count": 417,
   "metadata": {},
   "outputs": [
    {
     "name": "stdout",
     "output_type": "stream",
     "text": [
      "Number of city locations for which travel time to hospital exceeds 30 minutes: 135\n",
      "Percent of city locations for which travel time to hospital doubles or more: 17.2\n"
     ]
    }
   ],
   "source": [
    "print(\"Number of city locations for which travel time to hospital exceeds 30 minutes: {}\".format(\n",
    "      mean_times_by_location.diff_50[mean_times_by_location.diff_50 > 100].count()))\n",
    "\n",
    "print(\"Percent of city locations for which travel time to hospital doubles or more: {:.1f}\".format(\n",
    "      mean_times_by_location.diff_50[mean_times_by_location.diff_50 > 100].count()\n",
    "       / mean_times_by_location.shape[0] * 100))"
   ]
  },
  {
   "cell_type": "code",
   "execution_count": 355,
   "metadata": {},
   "outputs": [
    {
     "data": {
      "text/plain": [
       "0.17197452229299362"
      ]
     },
     "execution_count": 355,
     "metadata": {},
     "output_type": "execute_result"
    }
   ],
   "source": [
    "135/785"
   ]
  },
  {
   "cell_type": "code",
   "execution_count": 171,
   "metadata": {},
   "outputs": [],
   "source": [
    "change_df = pd.DataFrame({\"mean times\":[baseline_mean, flood_10_mean, flood_100_mean]},index=\n",
    "                        ['no flood','10-year flood','100-year flood'])"
   ]
  },
  {
   "cell_type": "code",
   "execution_count": 172,
   "metadata": {},
   "outputs": [
    {
     "data": {
      "text/html": [
       "<div>\n",
       "<style scoped>\n",
       "    .dataframe tbody tr th:only-of-type {\n",
       "        vertical-align: middle;\n",
       "    }\n",
       "\n",
       "    .dataframe tbody tr th {\n",
       "        vertical-align: top;\n",
       "    }\n",
       "\n",
       "    .dataframe thead th {\n",
       "        text-align: right;\n",
       "    }\n",
       "</style>\n",
       "<table border=\"1\" class=\"dataframe\">\n",
       "  <thead>\n",
       "    <tr style=\"text-align: right;\">\n",
       "      <th></th>\n",
       "      <th>mean times</th>\n",
       "      <th>percent difference</th>\n",
       "    </tr>\n",
       "  </thead>\n",
       "  <tbody>\n",
       "    <tr>\n",
       "      <th>no flood</th>\n",
       "      <td>10.437851</td>\n",
       "      <td>0.000000</td>\n",
       "    </tr>\n",
       "    <tr>\n",
       "      <th>10-year flood</th>\n",
       "      <td>16.056173</td>\n",
       "      <td>53.826420</td>\n",
       "    </tr>\n",
       "    <tr>\n",
       "      <th>100-year flood</th>\n",
       "      <td>17.624052</td>\n",
       "      <td>68.847508</td>\n",
       "    </tr>\n",
       "  </tbody>\n",
       "</table>\n",
       "</div>"
      ],
      "text/plain": [
       "                mean times  percent difference\n",
       "no flood         10.437851            0.000000\n",
       "10-year flood    16.056173           53.826420\n",
       "100-year flood   17.624052           68.847508"
      ]
     },
     "execution_count": 172,
     "metadata": {},
     "output_type": "execute_result"
    }
   ],
   "source": [
    "change_df['percent difference'] = (change_df['mean times'] - change_df['mean times'][0]) / change_df['mean times'][0] * 100\n",
    "change_df"
   ]
  }
 ],
 "metadata": {
  "kernelspec": {
   "display_name": "geo6",
   "language": "python",
   "name": "geo6"
  },
  "language_info": {
   "codemirror_mode": {
    "name": "ipython",
    "version": 3
   },
   "file_extension": ".py",
   "mimetype": "text/x-python",
   "name": "python",
   "nbconvert_exporter": "python",
   "pygments_lexer": "ipython3",
   "version": "3.6.7"
  }
 },
 "nbformat": 4,
 "nbformat_minor": 2
}
