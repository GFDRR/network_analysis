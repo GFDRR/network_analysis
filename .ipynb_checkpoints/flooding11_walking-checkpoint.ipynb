{
 "cells": [
  {
   "cell_type": "code",
   "execution_count": 395,
   "metadata": {},
   "outputs": [],
   "source": [
    "import importlib\n",
    "import sys,os,math,time\n",
    "\n",
    "import networkx as nx\n",
    "import geopandas as gpd\n",
    "import numpy as np\n",
    "import osmnx as ox\n",
    "import pandas as pd\n",
    "import rasterio\n",
    "import pylab as plt\n",
    "import json\n",
    "import pycrs\n",
    "import seaborn as sns\n",
    "\n",
    "from shapely.geometry import Point\n",
    "from rasterio.plot import show, show_hist\n",
    "from rasterio.mask import mask\n",
    "\n",
    "import GOSTnet as gn\n",
    "from pandana.loaders import osm;\n",
    "\n",
    "from osgeo import gdal, gdalconst, gdal_array\n",
    "from rasterstats import point_query, zonal_stats\n",
    "from make_fishnet import make_fishnet"
   ]
  },
  {
   "cell_type": "code",
   "execution_count": 396,
   "metadata": {},
   "outputs": [],
   "source": [
    "boundary_GDF = ox.gdf_from_place('Kampala',which_result=2)\n",
    "boundary_GDF\n",
    "boundary_poly = boundary_GDF.loc[0,'geometry']    # boundary as shapely polygon"
   ]
  },
  {
   "cell_type": "code",
   "execution_count": 397,
   "metadata": {},
   "outputs": [],
   "source": [
    "pop_raster = rasterio.open('data/kampala_pop_2.tiff')\n",
    "coords = (pop_raster.bounds[1], pop_raster.bounds[0], pop_raster.bounds[3], pop_raster.bounds[2])"
   ]
  },
  {
   "cell_type": "code",
   "execution_count": 398,
   "metadata": {},
   "outputs": [],
   "source": [
    "path = 'data'\n",
    "tif_10_proj_path = os.path.join(path, '10yr_Kampala_proj.tif')\n",
    "tif_50_proj_path = os.path.join(path, '50yr_Kampala_proj.tif')\n",
    "tif_100_proj_path = os.path.join(path, '100yr_Kampala_proj.tif')"
   ]
  },
  {
   "cell_type": "markdown",
   "metadata": {},
   "source": [
    "#### 3. Sample rasters for flood depth"
   ]
  },
  {
   "cell_type": "code",
   "execution_count": 399,
   "metadata": {},
   "outputs": [],
   "source": [
    "# Create graph\n",
    "G = ox.graph_from_polygon(boundary_poly, network_type = 'drive')"
   ]
  },
  {
   "cell_type": "code",
   "execution_count": 400,
   "metadata": {},
   "outputs": [],
   "source": [
    "from shapely.geometry import Point\n",
    "from shapely.geometry import LineString\n",
    "\n",
    "node_dict = {}\n",
    "\n",
    "G2 = G.copy()\n",
    "\n",
    "for u, data in G2.nodes(data = True):\n",
    "    node_dict[u] = Point(data['x'],data['y'])\n",
    "        \n",
    "for u, v, data in G2.edges(data = True):\n",
    "    \n",
    "    if 'Wkt' not in data.keys():\n",
    "        strt = node_dict[u]\n",
    "        fini = node_dict[v]\n",
    "        data['Wkt'] = LineString([strt, fini])\n",
    "    \n",
    "    if 'geometry' in data.keys():\n",
    "        data['Wkt'] = data['geometry']\n",
    "        data.pop('geometry')"
   ]
  },
  {
   "cell_type": "code",
   "execution_count": 401,
   "metadata": {},
   "outputs": [
    {
     "name": "stdout",
     "output_type": "stream",
     "text": [
      "peartree version: 0.6.1 \n",
      "networkx version: 2.2 \n",
      "matplotlib version: 3.0.2 \n",
      "osmnx version: 0.9 \n",
      "Identified 12151 unique edge(s) longer than 50. \n",
      "Beginning new node creation...\n",
      "80078 new edges added and 23831 removed to bring total edges to 87867\n",
      "27888 new nodes added to bring total nodes to 41584\n"
     ]
    }
   ],
   "source": [
    "importlib.reload(gn)\n",
    "G3 = gn.salt_long_lines(G2,\n",
    "                       source = 'epsg:4326',\n",
    "                      target = 'epsg:32636',\n",
    "                      thresh = 50,\n",
    "                      factor = 1)"
   ]
  },
  {
   "cell_type": "code",
   "execution_count": 402,
   "metadata": {},
   "outputs": [],
   "source": [
    "G3 = gn.sample_raster(G3, tif_10_proj_path, property_name = 'flood_depth_10_yr')\n",
    "G3 = gn.sample_raster(G3, tif_50_proj_path, property_name = 'flood_depth_50_yr')\n",
    "G3 = gn.sample_raster(G3, tif_100_proj_path, property_name = 'flood_depth_100_yr')"
   ]
  },
  {
   "cell_type": "markdown",
   "metadata": {},
   "source": [
    "#### 4. Create the degraded road networks"
   ]
  },
  {
   "cell_type": "code",
   "execution_count": 403,
   "metadata": {},
   "outputs": [],
   "source": [
    "node_gdf = gn.node_gdf_from_graph(G3)\n",
    "edge_gdf = gn.edge_gdf_from_graph(G3)"
   ]
  },
  {
   "cell_type": "code",
   "execution_count": 495,
   "metadata": {},
   "outputs": [
    {
     "data": {
      "text/plain": [
       "<matplotlib.axes._subplots.AxesSubplot at 0x1ad03cb828>"
      ]
     },
     "execution_count": 495,
     "metadata": {},
     "output_type": "execute_result"
    },
    {
     "data": {
      "image/png": "[encoded data removed]",
      "text/plain": [
       "<Figure size 432x288 with 1 Axes>"
      ]
     },
     "metadata": {},
     "output_type": "display_data"
    }
   ],
   "source": [
    "edge_gdf.highway[:5000].value_counts().plot(kind='pie')"
   ]
  },
  {
   "cell_type": "code",
   "execution_count": 496,
   "metadata": {},
   "outputs": [],
   "source": [
    "speed_dict = {  'residential': 20,  # kmph\n",
    "                'primary': 40, # kmph\n",
    "                'primary_link':35,\n",
    "                'motorway':45,\n",
    "                'motorway_link': 40,\n",
    "                'trunk': 40,\n",
    "                'trunk_link':35,\n",
    "                'secondary': 30, # kmph\n",
    "                'secondary_link':25,\n",
    "                'tertiary':25,\n",
    "                'tertiary_link': 25,\n",
    "                'unclassified':20, \n",
    "                'road':20,\n",
    "                'crossing':20,\n",
    "                'living_street':20\n",
    "                }\n",
    "\n",
    "speed_dict_flooded = { 'residential': 19, 'primary': 36, 'primary_link':31.5, 'motorway':40.5, 'motorway_link': 36, 'trunk': 36, 'trunk_link':31.5, 'secondary': 28.5, 'secondary_link':22, 'tertiary':22, 'tertiary_link': 22, 'unclassified':19, 'road':19, 'crossing':19, 'living_street':19 }"
   ]
  },
  {
   "cell_type": "code",
   "execution_count": 405,
   "metadata": {},
   "outputs": [],
   "source": [
    "G3 = gn.convert_network_to_time(G3, distance_tag = 'length', speed_dict = speed_dict)"
   ]
  },
  {
   "cell_type": "code",
   "execution_count": 472,
   "metadata": {},
   "outputs": [
    {
     "name": "stdout",
     "output_type": "stream",
     "text": [
      "10 year:\n",
      "nodes disrupted: 919\n",
      "edges disrupted: 2684\n",
      "\n",
      "50 year:\n",
      "nodes disrupted: 1236\n",
      "edges disrupted: 3480\n",
      "\n",
      "100 year:\n",
      "nodes disrupted: 1377\n",
      "edges disrupted: 3831\n"
     ]
    }
   ],
   "source": [
    "my_flood_depth = 0.15\n",
    "fail_value = 999999999999999\n",
    "\n",
    "print(\"10 year:\")\n",
    "G_flood10 = gn.disrupt_network(G3.copy(), 'flood_depth_10_yr', my_flood_depth, fail_value)\n",
    "\n",
    "print()\n",
    "print(\"50 year:\")\n",
    "G_flood50 = gn.disrupt_network(G3.copy(), 'flood_depth_50_yr', my_flood_depth, fail_value)\n",
    "\n",
    "print()\n",
    "print(\"100 year:\")\n",
    "G_flood100 = gn.disrupt_network(G3.copy(), 'flood_depth_100_yr', my_flood_depth, fail_value)\n"
   ]
  },
  {
   "cell_type": "code",
   "execution_count": 407,
   "metadata": {},
   "outputs": [
    {
     "name": "stdout",
     "output_type": "stream",
     "text": [
      "Threshold 0.25 meters:\n",
      "10-year flood disrupts 2.21 % of nodes and 3.05 % of edges\n",
      "50-year flood disrupts 2.97 % of nodes and 3.96 % of edges\n",
      "100-year flood disrupts 3.31 % of nodes and 4.36 % of edges\n"
     ]
    }
   ],
   "source": [
    "n_nodes = node_gdf.shape[0]\n",
    "n_edges = edge_gdf.shape[0]\n",
    "print(\"Threshold {} meters:\".format(my_flood_depth))\n",
    "print(\"10-year flood disrupts {:.2f} % of nodes and {:.2f} % of edges\".format (919/n_nodes * 100, 2684/n_edges * 100))\n",
    "print(\"50-year flood disrupts {:.2f} % of nodes and {:.2f} % of edges\".format (1236/n_nodes * 100, 3480/n_edges * 100))\n",
    "print(\"100-year flood disrupts {:.2f} % of nodes and {:.2f} % of edges\".format (1377/n_nodes * 100, 3831/n_edges * 100))"
   ]
  },
  {
   "cell_type": "markdown",
   "metadata": {},
   "source": [
    "#### 6. Get origin points\n",
    "* fishnet of the city\n",
    "* sample of 307 firms from the employment survey"
   ]
  },
  {
   "cell_type": "code",
   "execution_count": 408,
   "metadata": {},
   "outputs": [],
   "source": [
    "make_fishnet('grid_KM.shp',coords[1], coords[3], coords[0], coords[2],500,500) # takes xmin, xmax, ymin, ymax"
   ]
  },
  {
   "cell_type": "code",
   "execution_count": 409,
   "metadata": {},
   "outputs": [],
   "source": [
    "grid=gpd.read_file('grid_KM.shp')"
   ]
  },
  {
   "cell_type": "code",
   "execution_count": 410,
   "metadata": {},
   "outputs": [],
   "source": [
    "ES_points = gpd.read_file('data/points_ES_clipped')"
   ]
  },
  {
   "cell_type": "markdown",
   "metadata": {},
   "source": [
    "#### 7. Get destinations (POIs and employment density)"
   ]
  },
  {
   "cell_type": "code",
   "execution_count": 411,
   "metadata": {},
   "outputs": [],
   "source": [
    "# Hospitals"
   ]
  },
  {
   "cell_type": "code",
   "execution_count": 412,
   "metadata": {},
   "outputs": [
    {
     "name": "stderr",
     "output_type": "stream",
     "text": [
      "/anaconda3/envs/geo5/lib/python3.6/site-packages/geopandas/tools/sjoin.py:44: UserWarning: CRS of frames being joined does not match!\n",
      "  warn('CRS of frames being joined does not match!')\n"
     ]
    }
   ],
   "source": [
    "bbox = pop_raster.bounds\n",
    "\n",
    "amenities_hospital = ['hospital']\n",
    "amenities_hospital = ['hospital']\n",
    "POIs_health = osm.node_query(bbox[1],bbox[0],bbox[3],bbox[2],tags = '\"amenity\"~\"{}\"'.format('|'.join(amenities_hospital)))\n",
    "\n",
    "POIs_health = POIs_health[['amenity','name','lat','lon']]\n",
    "POIs_health = gpd.GeoDataFrame(POIs_health)\n",
    "POIs_health['geometry'] = (list(zip(POIs_health.lon,POIs_health.lat)))\n",
    "POIs_health['geometry'] = POIs_health.geometry.apply(lambda x: Point(x))\n",
    "\n",
    "POIs_health = gpd.sjoin(POIs_health,boundary_GDF,how='inner')"
   ]
  },
  {
   "cell_type": "code",
   "execution_count": 413,
   "metadata": {},
   "outputs": [],
   "source": [
    "# Business amenities (3300 businesses, stores, gas or mobile phone suppliers, from notebook 4)"
   ]
  },
  {
   "cell_type": "code",
   "execution_count": 414,
   "metadata": {},
   "outputs": [],
   "source": [
    "POIs_biz = gpd.read_file('data/KM_pois/KM_biz_amenities1')"
   ]
  },
  {
   "cell_type": "code",
   "execution_count": 415,
   "metadata": {},
   "outputs": [],
   "source": [
    "# Employment density points"
   ]
  },
  {
   "cell_type": "code",
   "execution_count": 416,
   "metadata": {},
   "outputs": [
    {
     "name": "stdout",
     "output_type": "stream",
     "text": [
      "There are 6228 grid cells for the employment density data. Mean percent of total jobs in a grid cell is 0.016 and largest is 2.33\n"
     ]
    }
   ],
   "source": [
    "employment_points = gpd.read_file('data/jobdensity_kampala_points.shp')\n",
    "employment_points['percent_jobs'] = employment_points.density/ employment_points.density.sum() * 100\n",
    "\n",
    "print(\"There are {} grid cells for the employment density data. Mean percent of total jobs in a grid cell is {:.3f} and largest is {:.2f}\".format(\n",
    "    employment_points.shape[0], employment_points.percent_jobs.mean(), employment_points.percent_jobs.max()))"
   ]
  },
  {
   "cell_type": "markdown",
   "metadata": {},
   "source": [
    "#### 9. Snap Os and Ds to graph"
   ]
  },
  {
   "cell_type": "code",
   "execution_count": 417,
   "metadata": {},
   "outputs": [],
   "source": [
    "grid['centroid'] = grid.centroid\n",
    "grid.set_geometry('centroid',inplace=True)"
   ]
  },
  {
   "cell_type": "code",
   "execution_count": 418,
   "metadata": {},
   "outputs": [
    {
     "name": "stderr",
     "output_type": "stream",
     "text": [
      "/Users/nicholasjones/Desktop/code/network_analysis/GOSTnet.py:1572: FutureWarning: Method .as_matrix will be removed in a future version. Use .values instead.\n",
      "  G_tree = spatial.KDTree(node_gdf[['x','y']].as_matrix())\n",
      "/Users/nicholasjones/Desktop/code/network_analysis/GOSTnet.py:1574: FutureWarning: Method .as_matrix will be removed in a future version. Use .values instead.\n",
      "  distances, indices = G_tree.query(in_df[['x','y']].as_matrix())\n"
     ]
    }
   ],
   "source": [
    "# Origins\n",
    "ES_points = gn.pandana_snap(G3, ES_points)\n",
    "#grid = gn.pandana_snap(G3, grid)\n",
    "\n",
    "# Destinations\n",
    "POIs_biz = gn.pandana_snap(G3, POIs_biz)\n",
    "employment_points = gn.pandana_snap(G3, employment_points)\n",
    "POIs_health = gn.pandana_snap(G3, POIs_health)\n"
   ]
  },
  {
   "cell_type": "code",
   "execution_count": 419,
   "metadata": {},
   "outputs": [],
   "source": [
    "list_of_nearest_nodes_ES = list(ES_points_nn.NN)\n",
    "#list_of_nearest_nodes_grid = list(grid_nn.NN)\n",
    "list_of_nearest_nodes_POIs_biz = list(POIs_biz_nn.NN)\n",
    "list_of_nearest_nodes_employment_points = list(employment_points_nn.NN)"
   ]
  },
  {
   "cell_type": "markdown",
   "metadata": {},
   "source": [
    "## ANALYSIS"
   ]
  },
  {
   "cell_type": "markdown",
   "metadata": {},
   "source": [
    "#### 10. Firm connectivity: travel time between ES points"
   ]
  },
  {
   "cell_type": "code",
   "execution_count": 420,
   "metadata": {},
   "outputs": [],
   "source": [
    "baseline_OD_firms = calculate_OD(G3, list(ES_points_nn.NN), list(ES_points_nn.NN), fail_value, weight='time')"
   ]
  },
  {
   "cell_type": "code",
   "execution_count": 473,
   "metadata": {},
   "outputs": [],
   "source": [
    "flood_OD_firms_10yr = calculate_OD(G_flood10, list(ES_points_nn.NN), list(ES_points_nn.NN), fail_value, weight='time')\n",
    "flood_OD_firms_50yr = calculate_OD(G_flood50, list(ES_points_nn.NN), list(ES_points_nn.NN), fail_value, weight='time')\n",
    "flood_OD_firms_100yr = calculate_OD(G_flood100, list(ES_points_nn.NN), list(ES_points_nn.NN), fail_value, weight='time')"
   ]
  },
  {
   "cell_type": "code",
   "execution_count": 474,
   "metadata": {},
   "outputs": [],
   "source": [
    "travel_times_base = baseline_OD_firms[baseline_OD_firms < fail_value] / 60\n",
    "travel_times_10 = flood_OD_firms_10yr[flood_OD_firms_10yr < fail_value] / 60\n",
    "travel_times_50 = flood_OD_firms_50yr[flood_OD_firms_50yr < fail_value] / 60\n",
    "travel_times_100 = flood_OD_firms_100yr[flood_OD_firms_100yr < fail_value] / 60"
   ]
  },
  {
   "cell_type": "code",
   "execution_count": 475,
   "metadata": {},
   "outputs": [
    {
     "data": {
      "image/png": "[encoded data removed]",
      "text/plain": [
       "<Figure size 576x432 with 1 Axes>"
      ]
     },
     "metadata": {
      "needs_background": "light"
     },
     "output_type": "display_data"
    }
   ],
   "source": [
    "# Histogram of post-flood travel times between firms\n",
    "bins = 50\n",
    "\n",
    "fig,ax = plt.subplots(figsize=[8,6])\n",
    "ax.hist(travel_times_base,color='g',alpha=0.5,density=True,bins=bins)\n",
    "ax.hist(travel_times_10,color='y',alpha=0.5,density=True,bins=bins)\n",
    "#ax.hist(travel_times_50,color='',alpha=0.5,density=True,bins=100)\n",
    "ax.hist(travel_times_100,color='r',alpha=0.5,density=True,bins=bins)\n",
    "plt.title('Kampala: Travel times between firms')\n",
    "plt.ylabel('percent of firms')\n",
    "plt.legend(['No flood','10-year flood','100-year flood'])\n",
    "plt.xlabel('Minutes travel');\n",
    "\n",
    "plt.xlim(0,50)\n",
    "\n",
    "ticks = ax.get_yticks()*100\n",
    "ticks = [round(n,1) for n in (list(ticks))]\n",
    "ax.set_yticklabels(ticks);"
   ]
  },
  {
   "cell_type": "code",
   "execution_count": 481,
   "metadata": {},
   "outputs": [
    {
     "data": {
      "image/png": "[encoded data removed]",
      "text/plain": [
       "<Figure size 576x432 with 1 Axes>"
      ]
     },
     "metadata": {
      "needs_background": "light"
     },
     "output_type": "display_data"
    }
   ],
   "source": [
    "fig,ax = plt.subplots(figsize=[8,6])\n",
    "\n",
    "sns.kdeplot(travel_times_base,ax = ax, color = 'b', shade=True)\n",
    "sns.kdeplot(travel_times_10, ax=ax, color='g',shade=True)\n",
    "#sns.kdeplot(travel_times_50, ax=ax, color='y',shade=True)\n",
    "sns.kdeplot(travel_times_100, ax=ax, color='r',shade=True)\n",
    "\n",
    "ax.set_title('Travel times between firms within downtown Kampala')\n",
    "plt.legend(['No flood','10-year flood','100-year flood'])\n",
    "ax.set(xlabel=\"minutes\", ylabel='percent of firms');\n",
    "plt.xlim(0,50)\n",
    "\n",
    "ticks = ax.get_yticks()*100\n",
    "ticks = [round(n,1) for n in (list(ticks))]\n",
    "ax.set_yticklabels(ticks);"
   ]
  },
  {
   "cell_type": "code",
   "execution_count": 502,
   "metadata": {},
   "outputs": [],
   "source": [
    "baseline_mean = travel_times_base.mean()\n",
    "flood_10_mean = travel_times_10.mean()\n",
    "flood_50_mean = travel_times_50.mean()\n",
    "flood_100_mean = travel_times_100.mean()\n"
   ]
  },
  {
   "cell_type": "code",
   "execution_count": 488,
   "metadata": {},
   "outputs": [],
   "source": [
    "change_df = pd.DataFrame({\"mean times\":[baseline_mean, flood_10_mean, flood_100_mean]},index=\n",
    "                        ['no flood','10-year flood','100-year flood'])"
   ]
  },
  {
   "cell_type": "code",
   "execution_count": 489,
   "metadata": {},
   "outputs": [
    {
     "data": {
      "text/html": [
       "<div>\n",
       "<style scoped>\n",
       "    .dataframe tbody tr th:only-of-type {\n",
       "        vertical-align: middle;\n",
       "    }\n",
       "\n",
       "    .dataframe tbody tr th {\n",
       "        vertical-align: top;\n",
       "    }\n",
       "\n",
       "    .dataframe thead th {\n",
       "        text-align: right;\n",
       "    }\n",
       "</style>\n",
       "<table border=\"1\" class=\"dataframe\">\n",
       "  <thead>\n",
       "    <tr style=\"text-align: right;\">\n",
       "      <th></th>\n",
       "      <th>mean times</th>\n",
       "      <th>percent difference</th>\n",
       "    </tr>\n",
       "  </thead>\n",
       "  <tbody>\n",
       "    <tr>\n",
       "      <th>no flood</th>\n",
       "      <td>10.437115</td>\n",
       "      <td>0.000000</td>\n",
       "    </tr>\n",
       "    <tr>\n",
       "      <th>10-year flood</th>\n",
       "      <td>14.493512</td>\n",
       "      <td>38.865115</td>\n",
       "    </tr>\n",
       "    <tr>\n",
       "      <th>100-year flood</th>\n",
       "      <td>15.888126</td>\n",
       "      <td>52.227175</td>\n",
       "    </tr>\n",
       "  </tbody>\n",
       "</table>\n",
       "</div>"
      ],
      "text/plain": [
       "                mean times  percent difference\n",
       "no flood         10.437115            0.000000\n",
       "10-year flood    14.493512           38.865115\n",
       "100-year flood   15.888126           52.227175"
      ]
     },
     "execution_count": 489,
     "metadata": {},
     "output_type": "execute_result"
    }
   ],
   "source": [
    "change_df['percent difference'] = (change_df['mean times'] - change_df['mean times'][0]) / change_df['mean times'][0] * 100\n",
    "change_df"
   ]
  },
  {
   "cell_type": "code",
   "execution_count": 520,
   "metadata": {},
   "outputs": [],
   "source": [
    "baseline_OD_firms_DF = pd.DataFrame(baseline_OD_firms)\n",
    "flood_OD_firms_10yr_df = pd.DataFrame(flood_OD_firms_10yr)\n",
    "flood_OD_firms_50yr_df = pd.DataFrame(flood_OD_firms_50yr)\n",
    "flood_OD_firms_100yr_df = pd.DataFrame(flood_OD_firms_100yr)"
   ]
  },
  {
   "cell_type": "code",
   "execution_count": null,
   "metadata": {},
   "outputs": [],
   "source": []
  },
  {
   "cell_type": "code",
   "execution_count": 545,
   "metadata": {},
   "outputs": [],
   "source": [
    "baseline_mean = baseline_OD_firms_DF.mean(axis=1)\n",
    "flood_10yr_mean = flood_OD_firms_10yr_df[flood_OD_firms_10yr_df < 999999].mean(axis=1)\n",
    "flood_50yr_mean = flood_OD_firms_50yr_df[flood_OD_firms_50yr_df < 999999].mean(axis=1)\n",
    "flood_100yr_mean = flood_OD_firms_100yr_df[flood_OD_firms_100yr_df < 999999].mean(axis=1)\n"
   ]
  },
  {
   "cell_type": "code",
   "execution_count": 553,
   "metadata": {},
   "outputs": [],
   "source": [
    "mean_times_by_firm = pd.DataFrame({'baseline_mean' : baseline_OD_firms_DF.mean(axis=1),\n",
    "                                  'flood_10yr_mean' : flood_OD_firms_10yr_df[flood_OD_firms_10yr_df < 999999].mean(axis=1),\n",
    "                                  'flood_50yr_mean' : flood_OD_firms_50yr_df[flood_OD_firms_50yr_df < 999999].mean(axis=1),\n",
    "                                  'flood_100yr_mean' : flood_OD_firms_100yr_df[flood_OD_firms_100yr_df < 999999].mean(axis=1)})"
   ]
  },
  {
   "cell_type": "code",
   "execution_count": 561,
   "metadata": {},
   "outputs": [],
   "source": [
    "def percent_change(changed, original):\n",
    "    return (changed - original)/original * 100\n",
    "\n",
    "mean_times_by_firm['diff_10'] = percent_change(mean_times_by_firm.flood_10yr_mean, mean_times_by_firm.baseline_mean)\n",
    "mean_times_by_firm['diff_50'] = percent_change(mean_times_by_firm.flood_50yr_mean, mean_times_by_firm.baseline_mean)\n",
    "mean_times_by_firm['diff_100'] = percent_change(mean_times_by_firm.flood_100yr_mean, mean_times_by_firm.baseline_mean)"
   ]
  },
  {
   "cell_type": "code",
   "execution_count": 562,
   "metadata": {},
   "outputs": [
    {
     "data": {
      "text/html": [
       "<div>\n",
       "<style scoped>\n",
       "    .dataframe tbody tr th:only-of-type {\n",
       "        vertical-align: middle;\n",
       "    }\n",
       "\n",
       "    .dataframe tbody tr th {\n",
       "        vertical-align: top;\n",
       "    }\n",
       "\n",
       "    .dataframe thead th {\n",
       "        text-align: right;\n",
       "    }\n",
       "</style>\n",
       "<table border=\"1\" class=\"dataframe\">\n",
       "  <thead>\n",
       "    <tr style=\"text-align: right;\">\n",
       "      <th></th>\n",
       "      <th>baseline_mean</th>\n",
       "      <th>flood_10yr_mean</th>\n",
       "      <th>flood_50yr_mean</th>\n",
       "      <th>flood_100yr_mean</th>\n",
       "      <th>diff_10</th>\n",
       "      <th>diff_50</th>\n",
       "      <th>diff_100</th>\n",
       "    </tr>\n",
       "  </thead>\n",
       "  <tbody>\n",
       "    <tr>\n",
       "      <th>0</th>\n",
       "      <td>481.679127</td>\n",
       "      <td>671.280928</td>\n",
       "      <td>718.558220</td>\n",
       "      <td>719.158229</td>\n",
       "      <td>39.362677</td>\n",
       "      <td>49.177778</td>\n",
       "      <td>49.302344</td>\n",
       "    </tr>\n",
       "    <tr>\n",
       "      <th>1</th>\n",
       "      <td>545.125071</td>\n",
       "      <td>742.586802</td>\n",
       "      <td>886.864223</td>\n",
       "      <td>876.421348</td>\n",
       "      <td>36.223198</td>\n",
       "      <td>62.690045</td>\n",
       "      <td>60.774361</td>\n",
       "    </tr>\n",
       "    <tr>\n",
       "      <th>2</th>\n",
       "      <td>456.421247</td>\n",
       "      <td>570.368127</td>\n",
       "      <td>605.317678</td>\n",
       "      <td>599.755004</td>\n",
       "      <td>24.965288</td>\n",
       "      <td>32.622590</td>\n",
       "      <td>31.403831</td>\n",
       "    </tr>\n",
       "    <tr>\n",
       "      <th>3</th>\n",
       "      <td>780.649822</td>\n",
       "      <td>1071.283783</td>\n",
       "      <td>1115.318640</td>\n",
       "      <td>1100.259248</td>\n",
       "      <td>37.229748</td>\n",
       "      <td>42.870543</td>\n",
       "      <td>40.941459</td>\n",
       "    </tr>\n",
       "    <tr>\n",
       "      <th>4</th>\n",
       "      <td>521.459608</td>\n",
       "      <td>749.548894</td>\n",
       "      <td>1032.744938</td>\n",
       "      <td>1030.379789</td>\n",
       "      <td>43.740547</td>\n",
       "      <td>98.048885</td>\n",
       "      <td>97.595321</td>\n",
       "    </tr>\n",
       "  </tbody>\n",
       "</table>\n",
       "</div>"
      ],
      "text/plain": [
       "   baseline_mean  flood_10yr_mean  flood_50yr_mean  flood_100yr_mean  \\\n",
       "0     481.679127       671.280928       718.558220        719.158229   \n",
       "1     545.125071       742.586802       886.864223        876.421348   \n",
       "2     456.421247       570.368127       605.317678        599.755004   \n",
       "3     780.649822      1071.283783      1115.318640       1100.259248   \n",
       "4     521.459608       749.548894      1032.744938       1030.379789   \n",
       "\n",
       "     diff_10    diff_50   diff_100  \n",
       "0  39.362677  49.177778  49.302344  \n",
       "1  36.223198  62.690045  60.774361  \n",
       "2  24.965288  32.622590  31.403831  \n",
       "3  37.229748  42.870543  40.941459  \n",
       "4  43.740547  98.048885  97.595321  "
      ]
     },
     "execution_count": 562,
     "metadata": {},
     "output_type": "execute_result"
    }
   ],
   "source": [
    "mean_times_by_firm.head()"
   ]
  },
  {
   "cell_type": "code",
   "execution_count": 639,
   "metadata": {},
   "outputs": [
    {
     "data": {
      "image/png": "[encoded data removed]",
      "text/plain": [
       "<Figure size 432x288 with 1 Axes>"
      ]
     },
     "metadata": {
      "needs_background": "light"
     },
     "output_type": "display_data"
    }
   ],
   "source": [
    "# Histogram of post-flood travel times between firms\n",
    "bins = 100\n",
    "\n",
    "fig,ax = plt.subplots(figsize=[6,4])\n",
    "ax.hist(mean_times_by_firm.diff_10,color='g',alpha=0.5,density=True,bins=bins)\n",
    "ax.hist(mean_times_by_firm.diff_50,color='y',alpha=0.5,density=True,bins=bins)\n",
    "ax.hist(mean_times_by_firm.diff_100,color='r',alpha=0.5,density=True,bins=bins)\n",
    "plt.title('Kampala: Travel times between firms')\n",
    "plt.ylabel('percent of firms')\n",
    "plt.legend(['10-year flood','50-year flood','100-year flood'])\n",
    "plt.xlabel('percent increase travel time');\n",
    "\n",
    "plt.xlim(0,300)\n",
    "\n",
    "ticks = ax.get_yticks()*100\n",
    "ticks = [round(n,1) for n in (list(ticks))]\n",
    "ax.set_yticklabels(ticks);"
   ]
  },
  {
   "cell_type": "code",
   "execution_count": 573,
   "metadata": {},
   "outputs": [
    {
     "data": {
      "image/png": "[encoded data removed]",
      "text/plain": [
       "<Figure size 432x288 with 1 Axes>"
      ]
     },
     "metadata": {
      "needs_background": "light"
     },
     "output_type": "display_data"
    }
   ],
   "source": [
    "f,ax = plt.subplots(figsize=[6,4])\n",
    "\n",
    "cols_to_show=['diff_10','diff_50','diff_100']\n",
    "cols = ['g','y','r']\n",
    "\n",
    "for n, column in enumerate(mean_times_by_firm[cols_to_show]):\n",
    "    sns.kdeplot(mean_times_by_firm[column],shade=True,color=cols[n])\n",
    "    \n",
    "ax.set_title('Firms in Kampala: Percent increase in travel times')\n",
    "plt.legend(cols_to_show)\n",
    "#plt.legend(['No flood','50-year flood'])\n",
    "plt.xlim(0)\n",
    "\n",
    "ax.set(xlabel=\"percent increase in travel times\", ylabel='percent of firms');\n",
    "\n",
    "ticks = ax.get_yticks()*100\n",
    "ticks = [round(n,1) for n in (list(ticks))]\n",
    "ax.set_yticklabels(ticks);"
   ]
  },
  {
   "cell_type": "code",
   "execution_count": 586,
   "metadata": {},
   "outputs": [
    {
     "data": {
      "text/plain": [
       "124"
      ]
     },
     "execution_count": 586,
     "metadata": {},
     "output_type": "execute_result"
    }
   ],
   "source": [
    "n_firms = mean_times_by_firm.shape[0]\n",
    "\n",
    "sum(mean_times_by_firm.diff_10 < 25)\n"
   ]
  },
  {
   "cell_type": "code",
   "execution_count": 598,
   "metadata": {},
   "outputs": [],
   "source": [
    "d25 = sum(mean_times_by_firm.diff_10 < 25)\n",
    "d50 = sum(mean_times_by_firm.diff_10 < 50)\n",
    "d75 = sum(mean_times_by_firm.diff_10 < 75)\n",
    "d100 = sum(mean_times_by_firm.diff_10 < 100)\n",
    "d300 = sum(mean_times_by_firm.diff_10 < 300)"
   ]
  },
  {
   "cell_type": "code",
   "execution_count": null,
   "metadata": {},
   "outputs": [],
   "source": [
    "pd.DataFrame()"
   ]
  },
  {
   "cell_type": "code",
   "execution_count": 642,
   "metadata": {},
   "outputs": [
    {
     "name": "stdout",
     "output_type": "stream",
     "text": [
      "Number of firms:\n",
      "Travel times increase up to 25%: 71\n",
      "Travel times increase up to 50%: 87\n",
      "Travel times increase up to 100%: 93\n",
      "Travel times increase more than 100%: 21\n"
     ]
    }
   ],
   "source": [
    "return_period = 'diff_50'\n",
    "\n",
    "threshold1 = 25\n",
    "threshold2 = 50\n",
    "threshold3 = 100\n",
    "threshold4 = 300\n",
    "\n",
    "print(\"Number of firms:\")\n",
    "print(\"Travel times increase up to {}%: {}\".format(threshold1, sum((mean_times_by_firm[return_period] > 0) & \n",
    "                                                    (mean_times_by_firm[return_period] < threshold1))))\n",
    "print(\"Travel times increase up to {}%: {}\".format(threshold2, sum((mean_times_by_firm[return_period] > threshold1) & \n",
    "                                                    (mean_times_by_firm[return_period] < threshold2))))\n",
    "print(\"Travel times increase up to {}%: {}\".format(threshold3, sum((mean_times_by_firm[return_period] > threshold2) & \n",
    "                                                    (mean_times_by_firm[return_period] < threshold3))))\n",
    "print(\"Travel times increase more than {}%: {}\".format(threshold3, sum((mean_times_by_firm[return_period] > threshold3) & \n",
    "                                                    (mean_times_by_firm[return_period] < threshold4))))"
   ]
  },
  {
   "cell_type": "code",
   "execution_count": 643,
   "metadata": {},
   "outputs": [],
   "source": [
    "mean_times_by_firm.to_csv('data/mean_times_by_firm.csv')"
   ]
  },
  {
   "cell_type": "code",
   "execution_count": 641,
   "metadata": {},
   "outputs": [
    {
     "name": "stdout",
     "output_type": "stream",
     "text": [
      "Percent of firms:\n",
      "Travel times increase up to 25%: 23.1\n",
      "Travel times increase up to 50%: 28.3\n",
      "Travel times increase up to 100%: 30.3\n",
      "Travel times increase more than 100%: 6.8\n"
     ]
    }
   ],
   "source": [
    "return_period = 'diff_50'\n",
    "\n",
    "print(\"Percent of firms:\")\n",
    "print(\"Travel times increase up to {}%: {:.1f}\".format(threshold1, sum((mean_times_by_firm[return_period] > 0) & \n",
    "                                                    (mean_times_by_firm[return_period] < threshold1))/ n_firms * 100))\n",
    "print(\"Travel times increase up to {}%: {:.1f}\".format(threshold2, sum((mean_times_by_firm[return_period] > threshold1) & \n",
    "                                                    (mean_times_by_firm[return_period] < threshold2))/ n_firms * 100))\n",
    "print(\"Travel times increase up to {}%: {:.1f}\".format(threshold3, sum((mean_times_by_firm[return_period] > threshold2) & \n",
    "                                                    (mean_times_by_firm[return_period] < threshold3))/ n_firms * 100))\n",
    "print(\"Travel times increase more than {}%: {:.1f}\".format(threshold3, sum((mean_times_by_firm[return_period] > threshold3) & \n",
    "                                                    (mean_times_by_firm[return_period] < threshold4))/ n_firms * 100))"
   ]
  },
  {
   "cell_type": "code",
   "execution_count": 619,
   "metadata": {},
   "outputs": [
    {
     "data": {
      "text/html": [
       "<div>\n",
       "<style scoped>\n",
       "    .dataframe tbody tr th:only-of-type {\n",
       "        vertical-align: middle;\n",
       "    }\n",
       "\n",
       "    .dataframe tbody tr th {\n",
       "        vertical-align: top;\n",
       "    }\n",
       "\n",
       "    .dataframe thead th {\n",
       "        text-align: right;\n",
       "    }\n",
       "</style>\n",
       "<table border=\"1\" class=\"dataframe\">\n",
       "  <thead>\n",
       "    <tr style=\"text-align: right;\">\n",
       "      <th></th>\n",
       "      <th>Travel time change by number firms</th>\n",
       "    </tr>\n",
       "  </thead>\n",
       "  <tbody>\n",
       "    <tr>\n",
       "      <th>Up to 25% increase</th>\n",
       "      <td>124</td>\n",
       "    </tr>\n",
       "    <tr>\n",
       "      <th>Travel times increase 25% to 50%</th>\n",
       "      <td>143</td>\n",
       "    </tr>\n",
       "    <tr>\n",
       "      <th>Travel times increase 50% to 75%</th>\n",
       "      <td>25</td>\n",
       "    </tr>\n",
       "    <tr>\n",
       "      <th>Up to 100% increase</th>\n",
       "      <td>2</td>\n",
       "    </tr>\n",
       "    <tr>\n",
       "      <th>More than 100% increase</th>\n",
       "      <td>13</td>\n",
       "    </tr>\n",
       "  </tbody>\n",
       "</table>\n",
       "</div>"
      ],
      "text/plain": [
       "                                  Travel time change by number firms\n",
       "Up to 25% increase                                               124\n",
       "Travel times increase 25% to 50%                                 143\n",
       "Travel times increase 50% to 75%                                  25\n",
       "Up to 100% increase                                                2\n",
       "More than 100% increase                                           13"
      ]
     },
     "execution_count": 619,
     "metadata": {},
     "output_type": "execute_result"
    }
   ],
   "source": [
    "pd.DataFrame(data={'Up to 25% increase':sum(mean_times_by_firm.diff_10 < 25),\n",
    "              'Travel times increase 25% to 50%':sum((mean_times_by_firm.diff_10 > 25) & (mean_times_by_firm.diff_10 < 50)),\n",
    "              'Travel times increase 50% to 75%':sum((mean_times_by_firm.diff_10 > 50) & (mean_times_by_firm.diff_10 < 75)),\n",
    "              'Up to 100% increase':sum((mean_times_by_firm.diff_10 > 75) & (mean_times_by_firm.diff_10 < 100)),\n",
    "               'More than 100% increase':sum((mean_times_by_firm.diff_10 > 100) & (mean_times_by_firm.diff_10 < 400)),\n",
    "                  }, index=['Travel time change by number firms']).T"
   ]
  },
  {
   "cell_type": "code",
   "execution_count": 618,
   "metadata": {},
   "outputs": [
    {
     "data": {
      "text/html": [
       "<div>\n",
       "<style scoped>\n",
       "    .dataframe tbody tr th:only-of-type {\n",
       "        vertical-align: middle;\n",
       "    }\n",
       "\n",
       "    .dataframe tbody tr th {\n",
       "        vertical-align: top;\n",
       "    }\n",
       "\n",
       "    .dataframe thead th {\n",
       "        text-align: right;\n",
       "    }\n",
       "</style>\n",
       "<table border=\"1\" class=\"dataframe\">\n",
       "  <thead>\n",
       "    <tr style=\"text-align: right;\">\n",
       "      <th></th>\n",
       "      <th>Travel time change by percent firms</th>\n",
       "    </tr>\n",
       "  </thead>\n",
       "  <tbody>\n",
       "    <tr>\n",
       "      <th>Up to 25% increase</th>\n",
       "      <td>40.390879</td>\n",
       "    </tr>\n",
       "    <tr>\n",
       "      <th>Travel times increase 25% to 50%</th>\n",
       "      <td>46.579805</td>\n",
       "    </tr>\n",
       "    <tr>\n",
       "      <th>Travel times increase 50% to 75%</th>\n",
       "      <td>8.143322</td>\n",
       "    </tr>\n",
       "    <tr>\n",
       "      <th>Up to 100% increase</th>\n",
       "      <td>0.000000</td>\n",
       "    </tr>\n",
       "    <tr>\n",
       "      <th>More than 100% increase</th>\n",
       "      <td>4.234528</td>\n",
       "    </tr>\n",
       "  </tbody>\n",
       "</table>\n",
       "</div>"
      ],
      "text/plain": [
       "                                  Travel time change by percent firms\n",
       "Up to 25% increase                                          40.390879\n",
       "Travel times increase 25% to 50%                            46.579805\n",
       "Travel times increase 50% to 75%                             8.143322\n",
       "Up to 100% increase                                          0.000000\n",
       "More than 100% increase                                      4.234528"
      ]
     },
     "execution_count": 618,
     "metadata": {},
     "output_type": "execute_result"
    }
   ],
   "source": [
    "pd.DataFrame(data={'Up to 25% increase':sum(mean_times_by_firm.diff_10 < 25) / n_firms * 100,\n",
    "              'Travel times increase 25% to 50%':sum((mean_times_by_firm.diff_10 > 25) & (mean_times_by_firm.diff_10 < 50)) / n_firms * 100,\n",
    "              'Travel times increase 50% to 75%':sum((mean_times_by_firm.diff_10 > 50) & (mean_times_by_firm.diff_10 < 75)) / n_firms * 100,\n",
    "              'Up to 100% increase':sum((mean_times_by_firm.diff_10 > 75) & (mean_times_by_firm.diff_10 < 10)) / n_firms * 100,\n",
    "               'More than 100% increase':sum((mean_times_by_firm.diff_10 > 100) & (mean_times_by_firm.diff_10 < 400)) / n_firms * 100,\n",
    "                  }, index=['Travel time change by percent firms']).T"
   ]
  },
  {
   "cell_type": "code",
   "execution_count": null,
   "metadata": {},
   "outputs": [],
   "source": [
    "print(\"Travel times between firms in the enterprise survey (flood depth threshold: 10 cm)\")\n",
    "print()\n",
    "print(\"Pre-flood: mean travel time {:.2f} minutes\".format(PRE_travel_times.mean()))\n",
    "print(\"Post-flood: mean travel time {:.2f} minutes\".format(POST_travel_times.mean()))\n",
    "\n",
    "print(\"Mean journey time increases by {:.1f}%\".format((POST_travel_times.mean()-PRE_travel_times.mean()\n",
    "                                                     )/PRE_travel_times.mean()*100))"
   ]
  },
  {
   "cell_type": "markdown",
   "metadata": {},
   "source": [
    "#### 10. Travel times grid to hospitals"
   ]
  },
  {
   "cell_type": "code",
   "execution_count": 126,
   "metadata": {},
   "outputs": [],
   "source": [
    "baseline_OD_hosp = calculate_OD(G3, list(grid.NN), list(POIs_health.NN), fail_value, weight='time')"
   ]
  },
  {
   "cell_type": "code",
   "execution_count": 112,
   "metadata": {},
   "outputs": [],
   "source": [
    "flood_OD_hosp_access_10yr = calculate_OD(G_flood10, list(grid.NN), list(POIs_health.NN), fail_value, weight='time')\n",
    "flood_OD_hosp_access_50yr = calculate_OD(G_flood50, list(grid.NN), list(POIs_health.NN), fail_value, weight='time')\n",
    "flood_OD_hosp_access_100yr = calculate_OD(G_flood100, list(grid.NN), list(POIs_health.NN), fail_value, weight='time')"
   ]
  },
  {
   "cell_type": "code",
   "execution_count": 151,
   "metadata": {},
   "outputs": [],
   "source": [
    "baseline_df_hosp = pd.DataFrame(baseline_OD_hosp/60)\n",
    "flood_df_hosp_10 = pd.DataFrame(flood_OD_hosp_access_10yr[flood_OD_hosp_access_10yr<10000]/60)\n",
    "flood_df_hosp_50 = pd.DataFrame(flood_OD_hosp_access_50yr[flood_OD_hosp_access_50yr<10000]/60)\n",
    "flood_df_hosp_100 = pd.DataFrame(flood_OD_hosp_access_100yr[flood_OD_hosp_access_100yr<10000]/60)"
   ]
  },
  {
   "cell_type": "code",
   "execution_count": 154,
   "metadata": {},
   "outputs": [],
   "source": [
    "time_to_nearest_hospital = pd.DataFrame({\"Baseline\":baseline_df_hosp.min(axis = 1),\n",
    "              \"Flood_10\":flood_df_hosp_10.min(axis=1),\n",
    "              \"Flood_50\":flood_df_hosp_50.min(axis=1),\n",
    "              \"Flood_100\":flood_df_hosp_100.min(axis=1)})"
   ]
  },
  {
   "cell_type": "code",
   "execution_count": 156,
   "metadata": {},
   "outputs": [
    {
     "data": {
      "image/png": "[encoded data removed]",
      "text/plain": [
       "<Figure size 648x432 with 1 Axes>"
      ]
     },
     "metadata": {
      "needs_background": "light"
     },
     "output_type": "display_data"
    }
   ],
   "source": [
    "f,ax = plt.subplots(figsize=[9,6])\n",
    "cols = ['b','g','y','r']\n",
    "\n",
    "for n, column in enumerate(time_to_nearest_hospital.columns):\n",
    "    sns.kdeplot(time_to_nearest_hospital[column],shade=True,color=cols[n])\n",
    "\n",
    "ax.set_title('Travel times to nearest hospital')\n",
    "plt.legend(['No flood','10-year flood','50-year flood','100-year flood'])\n",
    "#ax.set_yticklabels([])\n",
    "ax.set(xlabel=\"time\", ylabel='frequency');"
   ]
  },
  {
   "cell_type": "markdown",
   "metadata": {},
   "source": [
    "#### 11. Firms travel to business amenities"
   ]
  },
  {
   "cell_type": "code",
   "execution_count": 161,
   "metadata": {},
   "outputs": [],
   "source": [
    "baseline_OD_biz_df = pd.DataFrame(\n",
    "    calculate_OD(G3, list(ES_points.NN), list(POIs_biz.NN), fail_value, weight='time'))"
   ]
  },
  {
   "cell_type": "code",
   "execution_count": 163,
   "metadata": {},
   "outputs": [],
   "source": [
    "flood_OD_biz_access_10yr_df = pd.DataFrame(\n",
    "        calculate_OD(G_flood10, list(ES_points.NN), list(POIs_biz.NN), fail_value, weight='time'))\n",
    "\n",
    "flood_OD_biz_access_50yr_df = pd.DataFrame(\n",
    "        calculate_OD(G_flood50, list(ES_points.NN), list(POIs_biz.NN), fail_value, weight='time'))\n",
    "\n",
    "flood_OD_biz_access_100yr_df = pd.DataFrame(\n",
    "        calculate_OD(G_flood100, list(ES_points.NN), list(POIs_biz.NN), fail_value, weight='time'))"
   ]
  },
  {
   "cell_type": "code",
   "execution_count": 187,
   "metadata": {},
   "outputs": [],
   "source": [
    "minutes = 15\n",
    "threshold = minutes * 60       # Set a threshold (minutes * 60)"
   ]
  },
  {
   "cell_type": "code",
   "execution_count": 188,
   "metadata": {},
   "outputs": [],
   "source": [
    "#baseline_n_reachable = baseline_OD_bizaccess_df[baseline_OD_bizaccess_df < threshold].count(axis=1)\n",
    "#flood_10_n_reachable = flood_OD_bizaccess_10yr_df[flood_OD_bizaccess_10yr_df < threshold].count(axis=1)\n",
    "#flood_50_n_reachable = flood_OD_bizaccess_50yr_df[flood_OD_bizaccess_50yr_df < threshold].count(axis=1)\n",
    "#flood_100_n_reachable = flood_OD_bizaccess_100yr_df[flood_OD_bizaccess_100yr_df < threshold].count(axis=1)"
   ]
  },
  {
   "cell_type": "code",
   "execution_count": 191,
   "metadata": {},
   "outputs": [],
   "source": [
    "n_reachable = pd.DataFrame({'baseline_n_reachable': baseline_OD_biz_df[baseline_OD_biz_df < threshold].count(axis=1),\n",
    "                           'flood_10_n_reachable': flood_OD_biz_access_10yr_df[flood_OD_biz_access_10yr_df < threshold].count(axis=1),\n",
    "                           'flood_50_n_reachable': flood_OD_biz_access_50yr_df[flood_OD_biz_access_50yr_df < threshold].count(axis=1),\n",
    "                           'flood_100_n_reachable': flood_OD_biz_access_100yr_df[flood_OD_biz_access_100yr_df < threshold].count(axis=1)})"
   ]
  },
  {
   "cell_type": "code",
   "execution_count": 198,
   "metadata": {},
   "outputs": [
    {
     "data": {
      "image/png": "[encoded data removed]",
      "text/plain": [
       "<Figure size 648x432 with 1 Axes>"
      ]
     },
     "metadata": {
      "needs_background": "light"
     },
     "output_type": "display_data"
    }
   ],
   "source": [
    "f,ax = plt.subplots(figsize=[9,6])\n",
    "\n",
    "cols_to_show=['baseline_n_reachable','flood_10_n_reachable','flood_50_n_reachable','flood_100_n_reachable']\n",
    "cols = ['b','g','y','r']\n",
    "\n",
    "for n, column in enumerate(n_reachable[cols_to_show]):\n",
    "    sns.kdeplot(n_reachable[column],shade=True,color=cols[n])\n",
    "    \n",
    "ax.set_title('Firms in Kampala: How many business amenities are accessible within {} minutes?'.format(minutes))\n",
    "plt.legend(cols_to_show)\n",
    "#plt.legend(['No flood','50-year flood'])\n",
    "plt.xlim(0)\n",
    "#ax.set_yticklabels([])\n",
    "ax.set(xlabel=\"number of amenities\", ylabel='percentage of firms');"
   ]
  },
  {
   "cell_type": "markdown",
   "metadata": {},
   "source": [
    "#### 11. What proportion of jobs accessible within x minutes?"
   ]
  },
  {
   "cell_type": "code",
   "execution_count": 341,
   "metadata": {},
   "outputs": [],
   "source": [
    "baseline_OD_jobs_df = pd.DataFrame(\n",
    "    calculate_OD(G3, list(grid.NN), list(employment_points.NN), fail_value, weight='time'), index = list(grid.NN), columns = list(employment_points.NN)).T"
   ]
  },
  {
   "cell_type": "code",
   "execution_count": 342,
   "metadata": {},
   "outputs": [],
   "source": [
    "flood_OD_jobs_10yr_df = pd.DataFrame(\n",
    "        calculate_OD(G_flood10, list(grid.NN), list(employment_points.NN), fail_value, weight='time'), index = list(grid.NN), columns = list(employment_points.NN))\n",
    "\n",
    "flood_OD_jobs_50yr_df = pd.DataFrame(\n",
    "        calculate_OD(G_flood50, list(grid.NN), list(employment_points.NN), fail_value, weight='time'), index = list(grid.NN), columns = list(employment_points.NN))\n",
    "\n",
    "flood_OD_jobs_100yr_df = pd.DataFrame(\n",
    "        calculate_OD(G_flood100, list(grid.NN), list(employment_points.NN), fail_value, weight='time'), index = list(grid.NN), columns = list(employment_points.NN))"
   ]
  },
  {
   "cell_type": "code",
   "execution_count": 280,
   "metadata": {},
   "outputs": [
    {
     "name": "stdout",
     "output_type": "stream",
     "text": [
      "Grid cells: 1512\n",
      "Employment points: 6228\n",
      "OD matrix shape: 6228 rows, 1512 columns\n"
     ]
    }
   ],
   "source": [
    "# STEPS\n",
    "# get list of nodes reachable from each grid point\n",
    "# get list of employment points for which NN is the nearest node\n",
    "# sum the employment in those point\n",
    "# that gives you number of jobs reachable from any grid square u\n",
    "\n",
    "print(\"Grid cells: {}\".format(grid.shape[0]))\n",
    "print(\"Employment points: {}\".format(employment_points.shape[0]))\n",
    "\n",
    "print(\"OD matrix shape: {} rows, {} columns\".format(baseline_OD_jobs_df.shape[0],baseline_OD_jobs_df.shape[1]))"
   ]
  },
  {
   "cell_type": "code",
   "execution_count": null,
   "metadata": {},
   "outputs": [],
   "source": [
    "def calculate_values_accessible(OD_matrix, gdf, field_to_sum, threshold):\n",
    "    \n",
    "    ### Calculate how many jobs (or other attributes) are accessible within a given journey time.\n",
    "    # REQUIRES:     OD_matrix    -  a df where index gives the NN of each origin, columns give the NN of each destination, and values are journey time in seconds.\n",
    "    #               gdf          -  a gdf with points and a nearest node field (NN)\n",
    "    #               field_to_sum - the gdf column to sum\n",
    "    # RETURNS:      list with the sum of accessible values for each origin point.\n",
    "    \n",
    "    OD = OD_matrix.copy()\n",
    "    \n",
    "    sum_accessible_list = []\n",
    "\n",
    "    for col in OD.columns:\n",
    "        reachable_nodes = list(OD[col][OD[col] < threshold].index) # list the reachable nodes\n",
    "\n",
    "        reachable_nodes = list(OD[col][OD[col] < threshold].index) \n",
    "        sum_accessible = gdf[field_to_sum][gdf.NN.isin(reachable_nodes)].sum()\n",
    "        sum_accessible_list.append(sum_accessible)\n",
    "        \n",
    "    return(sum_accessible_list)"
   ]
  },
  {
   "cell_type": "code",
   "execution_count": 327,
   "metadata": {},
   "outputs": [],
   "source": [
    "minutes = 15\n",
    "threshold = minutes * 60       # Set a threshold (minutes * 60)"
   ]
  },
  {
   "cell_type": "code",
   "execution_count": 333,
   "metadata": {},
   "outputs": [],
   "source": [
    "baseline_jobs_accessible = calculate_values_accessible(baseline_OD_jobs_df, employment_points, 'percent_jobs', threshold)\n",
    "flood_10_jobs_accessible = calculate_values_accessible(flood_OD_jobs_10yr_df, employment_points, 'percent_jobs', threshold)\n",
    "flood_50_jobs_accessible = calculate_values_accessible(flood_OD_jobs_50yr_df, employment_points, 'percent_jobs', threshold)\n",
    "flood_100_jobs_accessible = calculate_values_accessible(flood_OD_jobs_100yr_df, employment_points, 'percent_jobs', threshold)"
   ]
  },
  {
   "cell_type": "code",
   "execution_count": 337,
   "metadata": {},
   "outputs": [
    {
     "data": {
      "text/html": [
       "<div>\n",
       "<style scoped>\n",
       "    .dataframe tbody tr th:only-of-type {\n",
       "        vertical-align: middle;\n",
       "    }\n",
       "\n",
       "    .dataframe tbody tr th {\n",
       "        vertical-align: top;\n",
       "    }\n",
       "\n",
       "    .dataframe thead th {\n",
       "        text-align: right;\n",
       "    }\n",
       "</style>\n",
       "<table border=\"1\" class=\"dataframe\">\n",
       "  <thead>\n",
       "    <tr style=\"text-align: right;\">\n",
       "      <th></th>\n",
       "      <th>0</th>\n",
       "      <th>1</th>\n",
       "      <th>2</th>\n",
       "      <th>3</th>\n",
       "      <th>4</th>\n",
       "      <th>5</th>\n",
       "      <th>6</th>\n",
       "      <th>7</th>\n",
       "      <th>8</th>\n",
       "      <th>9</th>\n",
       "      <th>...</th>\n",
       "      <th>6218</th>\n",
       "      <th>6219</th>\n",
       "      <th>6220</th>\n",
       "      <th>6221</th>\n",
       "      <th>6222</th>\n",
       "      <th>6223</th>\n",
       "      <th>6224</th>\n",
       "      <th>6225</th>\n",
       "      <th>6226</th>\n",
       "      <th>6227</th>\n",
       "    </tr>\n",
       "  </thead>\n",
       "  <tbody>\n",
       "    <tr>\n",
       "      <th>0</th>\n",
       "      <td>2451.278841</td>\n",
       "      <td>2451.278841</td>\n",
       "      <td>3073.044867</td>\n",
       "      <td>2451.278841</td>\n",
       "      <td>2451.278841</td>\n",
       "      <td>2451.278841</td>\n",
       "      <td>2451.278841</td>\n",
       "      <td>3073.044867</td>\n",
       "      <td>2451.278841</td>\n",
       "      <td>2451.278841</td>\n",
       "      <td>...</td>\n",
       "      <td>1183.212684</td>\n",
       "      <td>1183.212684</td>\n",
       "      <td>962.850366</td>\n",
       "      <td>850.515048</td>\n",
       "      <td>821.134584</td>\n",
       "      <td>821.134584</td>\n",
       "      <td>821.134584</td>\n",
       "      <td>821.134584</td>\n",
       "      <td>2743.242339</td>\n",
       "      <td>2.000000e+15</td>\n",
       "    </tr>\n",
       "    <tr>\n",
       "      <th>1</th>\n",
       "      <td>2451.278841</td>\n",
       "      <td>2451.278841</td>\n",
       "      <td>3073.044867</td>\n",
       "      <td>2451.278841</td>\n",
       "      <td>2451.278841</td>\n",
       "      <td>2451.278841</td>\n",
       "      <td>2451.278841</td>\n",
       "      <td>3073.044867</td>\n",
       "      <td>2451.278841</td>\n",
       "      <td>2451.278841</td>\n",
       "      <td>...</td>\n",
       "      <td>1183.212684</td>\n",
       "      <td>1183.212684</td>\n",
       "      <td>962.850366</td>\n",
       "      <td>850.515048</td>\n",
       "      <td>821.134584</td>\n",
       "      <td>821.134584</td>\n",
       "      <td>821.134584</td>\n",
       "      <td>821.134584</td>\n",
       "      <td>2743.242339</td>\n",
       "      <td>2.000000e+15</td>\n",
       "    </tr>\n",
       "    <tr>\n",
       "      <th>2</th>\n",
       "      <td>2451.278841</td>\n",
       "      <td>2451.278841</td>\n",
       "      <td>3073.044867</td>\n",
       "      <td>2451.278841</td>\n",
       "      <td>2451.278841</td>\n",
       "      <td>2451.278841</td>\n",
       "      <td>2451.278841</td>\n",
       "      <td>3073.044867</td>\n",
       "      <td>2451.278841</td>\n",
       "      <td>2451.278841</td>\n",
       "      <td>...</td>\n",
       "      <td>1183.212684</td>\n",
       "      <td>1183.212684</td>\n",
       "      <td>962.850366</td>\n",
       "      <td>850.515048</td>\n",
       "      <td>821.134584</td>\n",
       "      <td>821.134584</td>\n",
       "      <td>821.134584</td>\n",
       "      <td>821.134584</td>\n",
       "      <td>2743.242339</td>\n",
       "      <td>2.000000e+15</td>\n",
       "    </tr>\n",
       "    <tr>\n",
       "      <th>3</th>\n",
       "      <td>2451.278841</td>\n",
       "      <td>2451.278841</td>\n",
       "      <td>3073.044867</td>\n",
       "      <td>2451.278841</td>\n",
       "      <td>2451.278841</td>\n",
       "      <td>2451.278841</td>\n",
       "      <td>2451.278841</td>\n",
       "      <td>3073.044867</td>\n",
       "      <td>2451.278841</td>\n",
       "      <td>2451.278841</td>\n",
       "      <td>...</td>\n",
       "      <td>1183.212684</td>\n",
       "      <td>1183.212684</td>\n",
       "      <td>962.850366</td>\n",
       "      <td>850.515048</td>\n",
       "      <td>821.134584</td>\n",
       "      <td>821.134584</td>\n",
       "      <td>821.134584</td>\n",
       "      <td>821.134584</td>\n",
       "      <td>2743.242339</td>\n",
       "      <td>2.000000e+15</td>\n",
       "    </tr>\n",
       "    <tr>\n",
       "      <th>4</th>\n",
       "      <td>2451.278841</td>\n",
       "      <td>2451.278841</td>\n",
       "      <td>3073.044867</td>\n",
       "      <td>2451.278841</td>\n",
       "      <td>2451.278841</td>\n",
       "      <td>2451.278841</td>\n",
       "      <td>2451.278841</td>\n",
       "      <td>3073.044867</td>\n",
       "      <td>2451.278841</td>\n",
       "      <td>2451.278841</td>\n",
       "      <td>...</td>\n",
       "      <td>1183.212684</td>\n",
       "      <td>1183.212684</td>\n",
       "      <td>962.850366</td>\n",
       "      <td>850.515048</td>\n",
       "      <td>821.134584</td>\n",
       "      <td>821.134584</td>\n",
       "      <td>821.134584</td>\n",
       "      <td>821.134584</td>\n",
       "      <td>2743.242339</td>\n",
       "      <td>2.000000e+15</td>\n",
       "    </tr>\n",
       "  </tbody>\n",
       "</table>\n",
       "<p>5 rows × 6228 columns</p>\n",
       "</div>"
      ],
      "text/plain": [
       "          0            1            2            3            4     \\\n",
       "0  2451.278841  2451.278841  3073.044867  2451.278841  2451.278841   \n",
       "1  2451.278841  2451.278841  3073.044867  2451.278841  2451.278841   \n",
       "2  2451.278841  2451.278841  3073.044867  2451.278841  2451.278841   \n",
       "3  2451.278841  2451.278841  3073.044867  2451.278841  2451.278841   \n",
       "4  2451.278841  2451.278841  3073.044867  2451.278841  2451.278841   \n",
       "\n",
       "          5            6            7            8            9     ...  \\\n",
       "0  2451.278841  2451.278841  3073.044867  2451.278841  2451.278841  ...   \n",
       "1  2451.278841  2451.278841  3073.044867  2451.278841  2451.278841  ...   \n",
       "2  2451.278841  2451.278841  3073.044867  2451.278841  2451.278841  ...   \n",
       "3  2451.278841  2451.278841  3073.044867  2451.278841  2451.278841  ...   \n",
       "4  2451.278841  2451.278841  3073.044867  2451.278841  2451.278841  ...   \n",
       "\n",
       "          6218         6219        6220        6221        6222        6223  \\\n",
       "0  1183.212684  1183.212684  962.850366  850.515048  821.134584  821.134584   \n",
       "1  1183.212684  1183.212684  962.850366  850.515048  821.134584  821.134584   \n",
       "2  1183.212684  1183.212684  962.850366  850.515048  821.134584  821.134584   \n",
       "3  1183.212684  1183.212684  962.850366  850.515048  821.134584  821.134584   \n",
       "4  1183.212684  1183.212684  962.850366  850.515048  821.134584  821.134584   \n",
       "\n",
       "         6224        6225         6226          6227  \n",
       "0  821.134584  821.134584  2743.242339  2.000000e+15  \n",
       "1  821.134584  821.134584  2743.242339  2.000000e+15  \n",
       "2  821.134584  821.134584  2743.242339  2.000000e+15  \n",
       "3  821.134584  821.134584  2743.242339  2.000000e+15  \n",
       "4  821.134584  821.134584  2743.242339  2.000000e+15  \n",
       "\n",
       "[5 rows x 6228 columns]"
      ]
     },
     "execution_count": 337,
     "metadata": {},
     "output_type": "execute_result"
    }
   ],
   "source": [
    "flood_OD_jobs_10yr_df.head()"
   ]
  },
  {
   "cell_type": "code",
   "execution_count": 336,
   "metadata": {},
   "outputs": [
    {
     "data": {
      "text/plain": [
       "<matplotlib.axes._subplots.AxesSubplot at 0x1a834a2198>"
      ]
     },
     "execution_count": 336,
     "metadata": {},
     "output_type": "execute_result"
    },
    {
     "data": {
      "image/png": "[encoded data removed]",
      "text/plain": [
       "<Figure size 432x288 with 1 Axes>"
      ]
     },
     "metadata": {
      "needs_background": "light"
     },
     "output_type": "display_data"
    }
   ],
   "source": [
    "pd.Series(baseline_jobs_accessible).hist(bins = 20)"
   ]
  },
  {
   "cell_type": "code",
   "execution_count": 273,
   "metadata": {},
   "outputs": [
    {
     "data": {
      "text/plain": [
       "17.294893101150475"
      ]
     },
     "execution_count": 273,
     "metadata": {},
     "output_type": "execute_result"
    }
   ],
   "source": [
    "employment_points.percent_jobs[employment_points.NN.isin(list_of_reachable_nodes)].sum()"
   ]
  },
  {
   "cell_type": "code",
   "execution_count": 224,
   "metadata": {},
   "outputs": [
    {
     "data": {
      "text/html": [
       "<div>\n",
       "<style scoped>\n",
       "    .dataframe tbody tr th:only-of-type {\n",
       "        vertical-align: middle;\n",
       "    }\n",
       "\n",
       "    .dataframe tbody tr th {\n",
       "        vertical-align: top;\n",
       "    }\n",
       "\n",
       "    .dataframe thead th {\n",
       "        text-align: right;\n",
       "    }\n",
       "</style>\n",
       "<table border=\"1\" class=\"dataframe\">\n",
       "  <thead>\n",
       "    <tr style=\"text-align: right;\">\n",
       "      <th></th>\n",
       "      <th>Id</th>\n",
       "      <th>x_centroid</th>\n",
       "      <th>y_centroid</th>\n",
       "      <th>density</th>\n",
       "      <th>geometry</th>\n",
       "      <th>percent_jobs</th>\n",
       "      <th>x</th>\n",
       "      <th>y</th>\n",
       "      <th>NN</th>\n",
       "    </tr>\n",
       "  </thead>\n",
       "  <tbody>\n",
       "    <tr>\n",
       "      <th>0</th>\n",
       "      <td>1</td>\n",
       "      <td>32.436709</td>\n",
       "      <td>0.021084</td>\n",
       "      <td>0.09</td>\n",
       "      <td>POINT (32.43670924673388 0.02108392351784156)</td>\n",
       "      <td>0.001445</td>\n",
       "      <td>32.436709</td>\n",
       "      <td>0.021084</td>\n",
       "      <td>5508792311</td>\n",
       "    </tr>\n",
       "    <tr>\n",
       "      <th>1</th>\n",
       "      <td>2</td>\n",
       "      <td>32.441201</td>\n",
       "      <td>0.021084</td>\n",
       "      <td>2.74</td>\n",
       "      <td>POINT (32.44120082315448 0.02108392351784156)</td>\n",
       "      <td>0.043996</td>\n",
       "      <td>32.441201</td>\n",
       "      <td>0.021084</td>\n",
       "      <td>5508792311</td>\n",
       "    </tr>\n",
       "    <tr>\n",
       "      <th>2</th>\n",
       "      <td>3</td>\n",
       "      <td>32.445692</td>\n",
       "      <td>0.021084</td>\n",
       "      <td>2.05</td>\n",
       "      <td>POINT (32.44569239957508 0.02108392351784156)</td>\n",
       "      <td>0.032917</td>\n",
       "      <td>32.445692</td>\n",
       "      <td>0.021084</td>\n",
       "      <td>3892127977</td>\n",
       "    </tr>\n",
       "    <tr>\n",
       "      <th>3</th>\n",
       "      <td>4</td>\n",
       "      <td>32.427726</td>\n",
       "      <td>0.025606</td>\n",
       "      <td>0.28</td>\n",
       "      <td>POINT (32.42772609389268 0.02560577053669072)</td>\n",
       "      <td>0.004496</td>\n",
       "      <td>32.427726</td>\n",
       "      <td>0.025606</td>\n",
       "      <td>5508792311</td>\n",
       "    </tr>\n",
       "    <tr>\n",
       "      <th>4</th>\n",
       "      <td>5</td>\n",
       "      <td>32.436709</td>\n",
       "      <td>0.025606</td>\n",
       "      <td>1.03</td>\n",
       "      <td>POINT (32.43670924673388 0.02560577053669072)</td>\n",
       "      <td>0.016539</td>\n",
       "      <td>32.436709</td>\n",
       "      <td>0.025606</td>\n",
       "      <td>5508792311</td>\n",
       "    </tr>\n",
       "  </tbody>\n",
       "</table>\n",
       "</div>"
      ],
      "text/plain": [
       "   Id  x_centroid  y_centroid  density  \\\n",
       "0   1   32.436709    0.021084     0.09   \n",
       "1   2   32.441201    0.021084     2.74   \n",
       "2   3   32.445692    0.021084     2.05   \n",
       "3   4   32.427726    0.025606     0.28   \n",
       "4   5   32.436709    0.025606     1.03   \n",
       "\n",
       "                                        geometry  percent_jobs          x  \\\n",
       "0  POINT (32.43670924673388 0.02108392351784156)      0.001445  32.436709   \n",
       "1  POINT (32.44120082315448 0.02108392351784156)      0.043996  32.441201   \n",
       "2  POINT (32.44569239957508 0.02108392351784156)      0.032917  32.445692   \n",
       "3  POINT (32.42772609389268 0.02560577053669072)      0.004496  32.427726   \n",
       "4  POINT (32.43670924673388 0.02560577053669072)      0.016539  32.436709   \n",
       "\n",
       "          y          NN  \n",
       "0  0.021084  5508792311  \n",
       "1  0.021084  5508792311  \n",
       "2  0.021084  3892127977  \n",
       "3  0.025606  5508792311  \n",
       "4  0.025606  5508792311  "
      ]
     },
     "execution_count": 224,
     "metadata": {},
     "output_type": "execute_result"
    }
   ],
   "source": [
    "employment_points.head()"
   ]
  },
  {
   "cell_type": "code",
   "execution_count": 221,
   "metadata": {},
   "outputs": [
    {
     "data": {
      "text/html": [
       "<div>\n",
       "<style scoped>\n",
       "    .dataframe tbody tr th:only-of-type {\n",
       "        vertical-align: middle;\n",
       "    }\n",
       "\n",
       "    .dataframe tbody tr th {\n",
       "        vertical-align: top;\n",
       "    }\n",
       "\n",
       "    .dataframe thead th {\n",
       "        text-align: right;\n",
       "    }\n",
       "</style>\n",
       "<table border=\"1\" class=\"dataframe\">\n",
       "  <thead>\n",
       "    <tr style=\"text-align: right;\">\n",
       "      <th></th>\n",
       "      <th>5508792311</th>\n",
       "      <th>5508792311</th>\n",
       "      <th>3892127977</th>\n",
       "      <th>5508792311</th>\n",
       "      <th>5508792311</th>\n",
       "      <th>5508792311</th>\n",
       "      <th>5508792311</th>\n",
       "      <th>3892127977</th>\n",
       "      <th>5508792311</th>\n",
       "      <th>5508792311</th>\n",
       "      <th>...</th>\n",
       "      <th>6216122215</th>\n",
       "      <th>6216122215</th>\n",
       "      <th>3889863642</th>\n",
       "      <th>3842552846_6830_22632</th>\n",
       "      <th>2163104626</th>\n",
       "      <th>2163104626</th>\n",
       "      <th>2163104626</th>\n",
       "      <th>2163104626</th>\n",
       "      <th>6229620127</th>\n",
       "      <th>579895174</th>\n",
       "    </tr>\n",
       "  </thead>\n",
       "  <tbody>\n",
       "    <tr>\n",
       "      <th>6220689098</th>\n",
       "      <td>1770.025308</td>\n",
       "      <td>1770.025308</td>\n",
       "      <td>2511.018477</td>\n",
       "      <td>1770.025308</td>\n",
       "      <td>1770.025308</td>\n",
       "      <td>1770.025308</td>\n",
       "      <td>1770.025308</td>\n",
       "      <td>2511.018477</td>\n",
       "      <td>1770.025308</td>\n",
       "      <td>1770.025308</td>\n",
       "      <td>...</td>\n",
       "      <td>1183.212684</td>\n",
       "      <td>1183.212684</td>\n",
       "      <td>962.850366</td>\n",
       "      <td>850.515048</td>\n",
       "      <td>821.134584</td>\n",
       "      <td>821.134584</td>\n",
       "      <td>821.134584</td>\n",
       "      <td>821.134584</td>\n",
       "      <td>1709.038404</td>\n",
       "      <td>1642.015392</td>\n",
       "    </tr>\n",
       "  </tbody>\n",
       "</table>\n",
       "<p>1 rows × 6228 columns</p>\n",
       "</div>"
      ],
      "text/plain": [
       "             5508792311   5508792311   3892127977   5508792311   5508792311  \\\n",
       "6220689098  1770.025308  1770.025308  2511.018477  1770.025308  1770.025308   \n",
       "\n",
       "             5508792311   5508792311   3892127977   5508792311   5508792311  \\\n",
       "6220689098  1770.025308  1770.025308  2511.018477  1770.025308  1770.025308   \n",
       "\n",
       "            ...   6216122215   6216122215  3889863642  3842552846_6830_22632  \\\n",
       "6220689098  ...  1183.212684  1183.212684  962.850366             850.515048   \n",
       "\n",
       "            2163104626  2163104626  2163104626  2163104626   6229620127  \\\n",
       "6220689098  821.134584  821.134584  821.134584  821.134584  1709.038404   \n",
       "\n",
       "              579895174  \n",
       "6220689098  1642.015392  \n",
       "\n",
       "[1 rows x 6228 columns]"
      ]
     },
     "execution_count": 221,
     "metadata": {},
     "output_type": "execute_result"
    }
   ],
   "source": [
    "baseline_OD_jobs_df.head(1)"
   ]
  },
  {
   "cell_type": "code",
   "execution_count": 208,
   "metadata": {},
   "outputs": [],
   "source": [
    "baseline_OD_jobs_df.index = list(grid.NN)\n",
    "baseline_OD_jobs_df.columns = list(employment_points.NN)"
   ]
  },
  {
   "cell_type": "code",
   "execution_count": 200,
   "metadata": {},
   "outputs": [],
   "source": []
  },
  {
   "cell_type": "code",
   "execution_count": 201,
   "metadata": {},
   "outputs": [],
   "source": [
    "minutes = 15\n",
    "threshold = minutes * 60       # Set a threshold (minutes * 60)"
   ]
  },
  {
   "cell_type": "code",
   "execution_count": 211,
   "metadata": {},
   "outputs": [],
   "source": [
    "jobs_reachable_baseline = pd.DataFrame({'baseline_jobs_reachable': baseline_OD_jobs_df[baseline_OD_jobs_df < threshold].sum(axis=1)})"
   ]
  },
  {
   "cell_type": "code",
   "execution_count": 202,
   "metadata": {},
   "outputs": [],
   "source": [
    "jobs_reachable = pd.DataFrame({'baseline_jobs_reachable': baseline_OD_jobs_df[baseline_OD_jobs_df < threshold].sum(axis=1),\n",
    "                           'flood_10_jobs_reachable': flood_OD_jobs_10yr_df[flood_OD_jobs_10yr_df < threshold].sum(axis=1),\n",
    "                           'flood_50_jobs_reachable': flood_OD_jobs_50yr_df[flood_OD_jobs_50yr_df < threshold].sum(axis=1),\n",
    "                           'flood_100_jobs_reachable': flood_OD_jobs_100yr_df[flood_OD_jobs_100yr_df < threshold].sum(axis=1)})"
   ]
  },
  {
   "cell_type": "code",
   "execution_count": 205,
   "metadata": {},
   "outputs": [
    {
     "data": {
      "image/png": "[encoded data removed]",
      "text/plain": [
       "<Figure size 648x432 with 1 Axes>"
      ]
     },
     "metadata": {
      "needs_background": "light"
     },
     "output_type": "display_data"
    }
   ],
   "source": [
    "f,ax = plt.subplots(figsize=[9,6])\n",
    "\n",
    "#cols_to_show=['baseline_jobs_reachable','flood_10_jobs_reachable','flood_50_jobs_reachable','flood_100_jobs_reachable']\n",
    "#cols = ['b','g','y','r']\n",
    "\n",
    "cols_to_show=['baseline_jobs_reachable','flood_50_jobs_reachable']\n",
    "cols = ['b','r']\n",
    "\n",
    "for n, column in enumerate(jobs_reachable[cols_to_show]):\n",
    "    sns.kdeplot(jobs_reachable[column],shade=True,color=cols[n])\n",
    "    \n",
    "ax.set_title('What proportion of jobs are accessible within {} minutes?'.format(minutes))\n",
    "plt.legend(cols_to_show)\n",
    "#plt.legend(['No flood','50-year flood'])\n",
    "plt.xlim(0)\n",
    "#ax.set_yticklabels([])\n",
    "ax.set(xlabel=\"percent jobs\", ylabel='percentage of city locations');"
   ]
  }
 ],
 "metadata": {
  "kernelspec": {
   "display_name": "geo5",
   "language": "python",
   "name": "geo5"
  },
  "language_info": {
   "codemirror_mode": {
    "name": "ipython",
    "version": 3
   },
   "file_extension": ".py",
   "mimetype": "text/x-python",
   "name": "python",
   "nbconvert_exporter": "python",
   "pygments_lexer": "ipython3",
   "version": "3.6.7"
  }
 },
 "nbformat": 4,
 "nbformat_minor": 2
}
