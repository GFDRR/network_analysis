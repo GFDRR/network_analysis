{
 "cells": [
  {
   "cell_type": "code",
   "execution_count": 241,
   "metadata": {},
   "outputs": [
    {
     "name": "stdout",
     "output_type": "stream",
     "text": [
      "Populating the interactive namespace from numpy and matplotlib\n"
     ]
    }
   ],
   "source": [
    "import warnings\n",
    "warnings.filterwarnings(\"ignore\")\n",
    "import pandas as pd\n",
    "from pandana.loaders import osm\n",
    "import pandana\n",
    "%pylab inline\n",
    "\n",
    "import numpy as np\n",
    "import osmnx as ox\n",
    "import networkx as nx\n",
    "import peartree\n",
    "import sys, os\n",
    "import geopandas as gpd\n",
    "import rasterio\n",
    "from pandana.loaders import osm\n",
    "from shapely.geometry import Point\n",
    "#import mplleaflet as mpll\n",
    "from osgeo import ogr\n",
    "from math import ceil, cos, pi\n",
    "import geocoder\n",
    "\n",
    "import GOSTnet as gn\n",
    "from make_fishnet import make_fishnet\n",
    "from rasterio.features import rasterize"
   ]
  },
  {
   "cell_type": "markdown",
   "metadata": {},
   "source": [
    "### Workflow to plot time to nearest N amenity for cities\n",
    "* Map it as a smooth travel time surface\n",
    "* Include walk time to nearest node\n",
    "* Do OD calculations from each pixel to the set of nearest nodes\n",
    "* Burn it back into a raster"
   ]
  },
  {
   "cell_type": "code",
   "execution_count": 103,
   "metadata": {},
   "outputs": [],
   "source": [
    "boundary_GDF = ox.gdf_from_place(\"Piedmont, California\")\n",
    "boundary_GDF.to_file('data/Piedmont_geo')\n",
    "\n",
    "# then in GIS, rasterize it and turn it into points"
   ]
  },
  {
   "cell_type": "code",
   "execution_count": 77,
   "metadata": {},
   "outputs": [],
   "source": [
    "PIED_raster = rasterio.open('data/PIED_raster.tif')"
   ]
  },
  {
   "cell_type": "code",
   "execution_count": 34,
   "metadata": {},
   "outputs": [
    {
     "data": {
      "text/plain": [
       "(37.812276, -122.249374, 37.833026, -122.210148)"
      ]
     },
     "execution_count": 34,
     "metadata": {},
     "output_type": "execute_result"
    }
   ],
   "source": [
    "boundary_poly = boundary_GDF.loc[0,'geometry']\n",
    "coords = (boundary_poly.bounds[1], boundary_poly.bounds[0], boundary_poly.bounds[3], boundary_poly.bounds[2])\n",
    "coords"
   ]
  },
  {
   "cell_type": "markdown",
   "metadata": {},
   "source": [
    "#### 2. Get POIs, road network"
   ]
  },
  {
   "cell_type": "code",
   "execution_count": 37,
   "metadata": {},
   "outputs": [],
   "source": [
    "# RESIDENTIAL AMENITIES\n",
    "\n",
    "residential_amenities = ['restaurant','bank','atm','cafe','bus_station','fast_food','pharmacy','school',\n",
    "                        'kindergarten','pub','hospital','bar','marketplace','dentist','place_of_worship']\n",
    "\n",
    "residential_shops = ['supermarket','yes','hairdresser','convenience','clothes','beauty','bakery']\n",
    "residential_leisure = ['park','playground','sports_centre','pitch']\n",
    "\n",
    "POIs_res_amenity = osm.node_query(coords[0], coords[1], coords[2], coords[3],tags = '\"amenity\"~\"{}\"'.format('|'.join(residential_amenities)))\n",
    "POIs_res_shop = osm.node_query(coords[0], coords[1], coords[2], coords[3],tags = '\"shop\"~\"{}\"'.format('|'.join(residential_shops)))\n",
    "POIs_res_leisure = osm.node_query(coords[0], coords[1], coords[2], coords[3],tags = '\"leisure\"~\"{}\"'.format('|'.join(residential_leisure)))\n",
    "\n",
    "POIs_res_amenity = POIs_res_amenity[['amenity','name','lat','lon']]\n",
    "POIs_res_amenity.rename(columns={'amenity':'type'},inplace=True)\n",
    "\n",
    "POIs_res_shop = POIs_res_shop[['shop','name','lat','lon']]\n",
    "POIs_res_shop.rename(columns={'shop':'type'},inplace=True)\n",
    "\n",
    "POIs_res_leisure = POIs_res_leisure[['leisure','name','lat','lon']]\n",
    "POIs_res_leisure.rename(columns={'leisure':'type'},inplace=True)\n",
    "\n",
    "pois_res = POIs_res_amenity.append(POIs_res_shop)\n",
    "pois_res = pois_res.append(POIs_res_leisure)"
   ]
  },
  {
   "cell_type": "code",
   "execution_count": 104,
   "metadata": {},
   "outputs": [
    {
     "data": {
      "text/html": [
       "<div>\n",
       "<style scoped>\n",
       "    .dataframe tbody tr th:only-of-type {\n",
       "        vertical-align: middle;\n",
       "    }\n",
       "\n",
       "    .dataframe tbody tr th {\n",
       "        vertical-align: top;\n",
       "    }\n",
       "\n",
       "    .dataframe thead th {\n",
       "        text-align: right;\n",
       "    }\n",
       "</style>\n",
       "<table border=\"1\" class=\"dataframe\">\n",
       "  <thead>\n",
       "    <tr style=\"text-align: right;\">\n",
       "      <th></th>\n",
       "      <th>type</th>\n",
       "      <th>name</th>\n",
       "      <th>lat</th>\n",
       "      <th>lon</th>\n",
       "      <th>geometry</th>\n",
       "      <th>NN</th>\n",
       "      <th>NN_dist</th>\n",
       "    </tr>\n",
       "    <tr>\n",
       "      <th>id</th>\n",
       "      <th></th>\n",
       "      <th></th>\n",
       "      <th></th>\n",
       "      <th></th>\n",
       "      <th></th>\n",
       "      <th></th>\n",
       "      <th></th>\n",
       "    </tr>\n",
       "  </thead>\n",
       "  <tbody>\n",
       "    <tr>\n",
       "      <th>358819251</th>\n",
       "      <td>school</td>\n",
       "      <td>Millennium Alternate High School</td>\n",
       "      <td>37.822905</td>\n",
       "      <td>-122.233678</td>\n",
       "      <td>POINT (-122.2336783 37.8229051)</td>\n",
       "      <td>53082621</td>\n",
       "      <td>0.000872</td>\n",
       "    </tr>\n",
       "  </tbody>\n",
       "</table>\n",
       "</div>"
      ],
      "text/plain": [
       "             type                              name        lat         lon  \\\n",
       "id                                                                           \n",
       "358819251  school  Millennium Alternate High School  37.822905 -122.233678   \n",
       "\n",
       "                                  geometry        NN   NN_dist  \n",
       "id                                                              \n",
       "358819251  POINT (-122.2336783 37.8229051)  53082621  0.000872  "
      ]
     },
     "execution_count": 104,
     "metadata": {},
     "output_type": "execute_result"
    }
   ],
   "source": [
    "pois_res.head(1)"
   ]
  },
  {
   "cell_type": "code",
   "execution_count": 53,
   "metadata": {},
   "outputs": [],
   "source": [
    "pois_res = gpd.GeoDataFrame(pois_res)\n",
    "pois_res['geometry'] = (list(zip(pois_res.lon,pois_res.lat)))\n",
    "pois_res['geometry'] = pois_res.geometry.apply(lambda x: Point(x))"
   ]
  },
  {
   "cell_type": "code",
   "execution_count": 41,
   "metadata": {},
   "outputs": [
    {
     "data": {
      "text/plain": [
       "restaurant     14\n",
       "hairdresser     5\n",
       "playground      3\n",
       "park            3\n",
       "school          3\n",
       "Name: type, dtype: int64"
      ]
     },
     "execution_count": 41,
     "metadata": {},
     "output_type": "execute_result"
    }
   ],
   "source": [
    "pois_res['type'].value_counts().head()"
   ]
  },
  {
   "cell_type": "code",
   "execution_count": null,
   "metadata": {},
   "outputs": [],
   "source": [
    "3. Create graph\n",
    "* Convert to time\n"
   ]
  },
  {
   "cell_type": "code",
   "execution_count": 42,
   "metadata": {},
   "outputs": [],
   "source": [
    "# Create graph\n",
    "G = ox.graph_from_polygon(boundary_poly, network_type = 'drive')"
   ]
  },
  {
   "cell_type": "code",
   "execution_count": 117,
   "metadata": {},
   "outputs": [],
   "source": [
    "G = ox.project_graph(G)"
   ]
  },
  {
   "cell_type": "code",
   "execution_count": 106,
   "metadata": {},
   "outputs": [],
   "source": [
    "G = gn.convert_network_to_time(G, distance_tag = 'length')"
   ]
  },
  {
   "cell_type": "code",
   "execution_count": 270,
   "metadata": {},
   "outputs": [
    {
     "data": {
      "image/png": "[encoded data removed]",
      "text/plain": [
       "<Figure size 322.63x216 with 1 Axes>"
      ]
     },
     "metadata": {},
     "output_type": "display_data"
    }
   ],
   "source": [
    "ox.plot_graph(G, fig_height=3);"
   ]
  },
  {
   "cell_type": "markdown",
   "metadata": {},
   "source": [
    "#### 4. Import origin points"
   ]
  },
  {
   "cell_type": "code",
   "execution_count": 43,
   "metadata": {},
   "outputs": [
    {
     "data": {
      "text/plain": [
       "(64608, 3)"
      ]
     },
     "execution_count": 43,
     "metadata": {},
     "output_type": "execute_result"
    }
   ],
   "source": [
    "area_points = gpd.read_file('data/PIED_points')\n",
    "area_points.shape"
   ]
  },
  {
   "cell_type": "markdown",
   "metadata": {},
   "source": [
    "#### 5. Attach nearest nodes to Os and Ds (plus get the walk-time to NN)"
   ]
  },
  {
   "cell_type": "code",
   "execution_count": 185,
   "metadata": {},
   "outputs": [],
   "source": [
    "# Origins\n",
    "area_points = gn.pandana_snap(G, area_points, add_dist_to_node_col=True, source_crs= 'epsg:32610', target_crs = 'epsg:32610')"
   ]
  },
  {
   "cell_type": "code",
   "execution_count": 186,
   "metadata": {},
   "outputs": [],
   "source": [
    "# Destinations\n",
    "pois_res = gn.pandana_snap(G, pois_res, add_dist_to_node_col=True, source_crs= 'epsg:32610', target_crs = 'epsg:32610')"
   ]
  },
  {
   "cell_type": "code",
   "execution_count": 267,
   "metadata": {},
   "outputs": [
    {
     "data": {
      "text/plain": [
       "0    4.223770e+06\n",
       "1    4.223770e+06\n",
       "2    4.223770e+06\n",
       "3    4.223770e+06\n",
       "4    4.223770e+06\n",
       "Name: NN_dist, dtype: float64"
      ]
     },
     "execution_count": 267,
     "metadata": {},
     "output_type": "execute_result"
    }
   ],
   "source": [
    "area_points.NN_dist[:5]    # this is clearly wrong"
   ]
  },
  {
   "cell_type": "markdown",
   "metadata": {},
   "source": [
    "#### 6. Calculate travel times"
   ]
  },
  {
   "cell_type": "code",
   "execution_count": 70,
   "metadata": {},
   "outputs": [],
   "source": [
    "OD = gn.calculate_OD(G, list(area_points.NN), list(pois_res.NN), 0, weight='time')"
   ]
  },
  {
   "cell_type": "code",
   "execution_count": 252,
   "metadata": {},
   "outputs": [],
   "source": [
    "min_travel_times = OD.min(axis = 1) / 60"
   ]
  },
  {
   "cell_type": "code",
   "execution_count": 253,
   "metadata": {},
   "outputs": [],
   "source": [
    "area_points['min_travel_time'] = min_travel_times   # add walk time to NN"
   ]
  },
  {
   "cell_type": "code",
   "execution_count": 258,
   "metadata": {},
   "outputs": [
    {
     "data": {
      "image/png": "[encoded data removed]",
      "text/plain": [
       "<Figure size 432x288 with 1 Axes>"
      ]
     },
     "metadata": {
      "needs_background": "light"
     },
     "output_type": "display_data"
    }
   ],
   "source": [
    "area_points.min_travel_time.hist()\n",
    "plt.title('Histogram of minutes drive to nearest amenity');"
   ]
  },
  {
   "cell_type": "markdown",
   "metadata": {},
   "source": [
    "#### 7. Rasterize"
   ]
  },
  {
   "cell_type": "code",
   "execution_count": null,
   "metadata": {},
   "outputs": [],
   "source": [
    "pth = 'data'"
   ]
  },
  {
   "cell_type": "code",
   "execution_count": 194,
   "metadata": {},
   "outputs": [],
   "source": [
    "rst_fn = os.path.join(pth,'PIED_raster.tif')\n",
    "out_fn = os.path.join(pth,'PIED_travel_time.tif')\n",
    "\n",
    "# Update metadata\n",
    "rst = rasterio.open(rst_fn, 'r')\n",
    "meta = rst.meta.copy()\n",
    "D_type = rasterio.float64\n",
    "meta.update(compress='lzw', dtype = D_type, count = 2)\n",
    "\n",
    "with rasterio.open(out_fn, 'w', **meta) as out:\n",
    "    with rasterio.open(rst_fn, 'r') as pop:\n",
    "        \n",
    "        # this is where we create a generator of geom, value pairs to use in rasterizing\n",
    "        shapes = ((geom,value) for geom, value in zip(area_points.geometry, area_points.min_travel_time))\n",
    "        \n",
    "        rst1 = rst.read(1).astype(D_type)\n",
    "        cpy = rst1.copy()\n",
    "\n",
    "        travel_times = rasterize(shapes=shapes, fill=0, out=cpy, transform=out.transform)\n",
    "\n",
    "        out.write_band(1, travel_times)"
   ]
  },
  {
   "cell_type": "code",
   "execution_count": 243,
   "metadata": {},
   "outputs": [],
   "source": [
    "tt = rasterio.open(os.path.join(pth, 'PIED_travel_time.tif'))"
   ]
  },
  {
   "cell_type": "code",
   "execution_count": 260,
   "metadata": {},
   "outputs": [],
   "source": [
    "rast_arr = tt.read(1)\n",
    "rast_arr[rast_arr > 1000000] = np.nan"
   ]
  },
  {
   "cell_type": "code",
   "execution_count": 261,
   "metadata": {},
   "outputs": [
    {
     "data": {
      "text/plain": [
       "<matplotlib.axes._subplots.AxesSubplot at 0x1a36e95400>"
      ]
     },
     "execution_count": 261,
     "metadata": {},
     "output_type": "execute_result"
    },
    {
     "data": {
      "image/png": "[encoded data removed]",
      "text/plain": [
       "<Figure size 432x288 with 1 Axes>"
      ]
     },
     "metadata": {
      "needs_background": "light"
     },
     "output_type": "display_data"
    }
   ],
   "source": [
    "pd.Series(rast_arr.ravel()).hist()"
   ]
  },
  {
   "cell_type": "code",
   "execution_count": 265,
   "metadata": {},
   "outputs": [
    {
     "data": {
      "text/plain": [
       "Text(0.5, 1.0, 'Random town in California - Minutes drive to nearest amenity')"
      ]
     },
     "execution_count": 265,
     "metadata": {},
     "output_type": "execute_result"
    },
    {
     "data": {
      "image/png": "[encoded data removed]",
      "text/plain": [
       "<Figure size 648x432 with 2 Axes>"
      ]
     },
     "metadata": {
      "needs_background": "light"
     },
     "output_type": "display_data"
    }
   ],
   "source": [
    "f,ax = plt.subplots(figsize = [9,6])\n",
    "\n",
    "#im = show(tt, ax = ax, cmap=plt.cm.jet)\n",
    "im = plt.imshow(rast_arr, cmap=plt.cm.jet)\n",
    "\n",
    "# Add a colorbar\n",
    "f.colorbar(im, ax=ax)\n",
    "plt.title(\"Random town in California - Minutes drive to nearest amenity\")"
   ]
  }
 ],
 "metadata": {
  "kernelspec": {
   "display_name": "geo5",
   "language": "python",
   "name": "geo5"
  },
  "language_info": {
   "codemirror_mode": {
    "name": "ipython",
    "version": 3
   },
   "file_extension": ".py",
   "mimetype": "text/x-python",
   "name": "python",
   "nbconvert_exporter": "python",
   "pygments_lexer": "ipython3",
   "version": "3.6.7"
  }
 },
 "nbformat": 4,
 "nbformat_minor": 2
}
