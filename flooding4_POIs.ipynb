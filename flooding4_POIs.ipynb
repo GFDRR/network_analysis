{
 "cells": [
  {
   "cell_type": "code",
   "execution_count": 2,
   "metadata": {},
   "outputs": [],
   "source": [
    "import importlib\n",
    "import sys,os,math,time\n",
    "\n",
    "import networkx as nx\n",
    "import geopandas as gpd\n",
    "import numpy as np\n",
    "import osmnx as ox\n",
    "import pandas as pd\n",
    "import rasterio\n",
    "#import mplleaflet as mpll\n",
    "import pylab as plt\n",
    "import json\n",
    "import pycrs\n",
    "import seaborn as sns\n",
    "\n",
    "from shapely.geometry import Point\n",
    "from rasterio.plot import show, show_hist\n",
    "from rasterio.mask import mask\n"
   ]
  },
  {
   "cell_type": "code",
   "execution_count": 23,
   "metadata": {},
   "outputs": [
    {
     "name": "stdout",
     "output_type": "stream",
     "text": [
      "Populating the interactive namespace from numpy and matplotlib\n"
     ]
    },
    {
     "name": "stderr",
     "output_type": "stream",
     "text": [
      "/anaconda3/envs/geo5/lib/python3.6/site-packages/IPython/core/magics/pylab.py:160: UserWarning: pylab import has clobbered these variables: ['show', 'plt']\n",
      "`%matplotlib` prevents importing * from pylab and numpy\n",
      "  \"\\n`%matplotlib` prevents importing * from pylab and numpy\"\n"
     ]
    }
   ],
   "source": [
    "%pylab inline"
   ]
  },
  {
   "cell_type": "code",
   "execution_count": 3,
   "metadata": {},
   "outputs": [],
   "source": [
    "from pandana.loaders import osm;"
   ]
  },
  {
   "cell_type": "markdown",
   "metadata": {},
   "source": [
    "# Flood analysis using POIs\n",
    "How does connectivity of Kampala firms with business amenities change with flooding?"
   ]
  },
  {
   "cell_type": "code",
   "execution_count": 4,
   "metadata": {},
   "outputs": [
    {
     "name": "stdout",
     "output_type": "stream",
     "text": [
      "peartree version: 0.6.1 \n",
      "networkx version: 2.2 \n",
      "matplotlib version: 3.0.2 \n",
      "osmnx version: 0.9 \n"
     ]
    }
   ],
   "source": [
    "gostNetsFolder = os.path.dirname(os.getcwd())\n",
    "sys.path.insert(0, gostNetsFolder)\n",
    "\n",
    "import GOSTnet as gn"
   ]
  },
  {
   "cell_type": "code",
   "execution_count": 5,
   "metadata": {},
   "outputs": [],
   "source": [
    "# Data \n",
    "path = 'data'\n",
    "tif = '50yrflood_Kampala.tif'\n",
    "tif_path = os.path.join(path, tif)\n"
   ]
  },
  {
   "cell_type": "markdown",
   "metadata": {},
   "source": [
    "#### 1. Import Kampala bounds and flood raster"
   ]
  },
  {
   "cell_type": "code",
   "execution_count": 6,
   "metadata": {},
   "outputs": [
    {
     "data": {
      "text/html": [
       "<div>\n",
       "<style scoped>\n",
       "    .dataframe tbody tr th:only-of-type {\n",
       "        vertical-align: middle;\n",
       "    }\n",
       "\n",
       "    .dataframe tbody tr th {\n",
       "        vertical-align: top;\n",
       "    }\n",
       "\n",
       "    .dataframe thead th {\n",
       "        text-align: right;\n",
       "    }\n",
       "</style>\n",
       "<table border=\"1\" class=\"dataframe\">\n",
       "  <thead>\n",
       "    <tr style=\"text-align: right;\">\n",
       "      <th></th>\n",
       "      <th>bbox_east</th>\n",
       "      <th>bbox_north</th>\n",
       "      <th>bbox_south</th>\n",
       "      <th>bbox_west</th>\n",
       "      <th>geometry</th>\n",
       "      <th>place_name</th>\n",
       "    </tr>\n",
       "  </thead>\n",
       "  <tbody>\n",
       "    <tr>\n",
       "      <th>0</th>\n",
       "      <td>32.668022</td>\n",
       "      <td>0.408476</td>\n",
       "      <td>0.21705</td>\n",
       "      <td>32.509629</td>\n",
       "      <td>POLYGON ((32.5096294 0.3100581, 32.5097488 0.3...</td>\n",
       "      <td>Kampala, Central Region, Uganda</td>\n",
       "    </tr>\n",
       "  </tbody>\n",
       "</table>\n",
       "</div>"
      ],
      "text/plain": [
       "   bbox_east  bbox_north  bbox_south  bbox_west  \\\n",
       "0  32.668022    0.408476     0.21705  32.509629   \n",
       "\n",
       "                                            geometry  \\\n",
       "0  POLYGON ((32.5096294 0.3100581, 32.5097488 0.3...   \n",
       "\n",
       "                        place_name  \n",
       "0  Kampala, Central Region, Uganda  "
      ]
     },
     "execution_count": 6,
     "metadata": {},
     "output_type": "execute_result"
    }
   ],
   "source": [
    "boundary_GDF = ox.gdf_from_place('Kampala',which_result=2)\n",
    "boundary_GDF"
   ]
  },
  {
   "cell_type": "code",
   "execution_count": 7,
   "metadata": {},
   "outputs": [],
   "source": [
    "def getFeatures(gdf):\n",
    "    \"\"\"Function to parse features from GeoDataFrame in such a manner that rasterio wants them\"\"\"\n",
    "    return [json.loads(gdf.to_json())['features'][0]['geometry']]"
   ]
  },
  {
   "cell_type": "code",
   "execution_count": 8,
   "metadata": {},
   "outputs": [],
   "source": [
    "raster = rasterio.open(tif_path)"
   ]
  },
  {
   "cell_type": "code",
   "execution_count": 9,
   "metadata": {},
   "outputs": [],
   "source": [
    "ax = boundary_GDF.plot(figsize=[6,6],alpha = 0.5)\n",
    "show(raster, ax = ax)\n",
    "plt.title('Kampala inner city boundary vs. flood map');"
   ]
  },
  {
   "cell_type": "markdown",
   "metadata": {},
   "source": [
    "#### 2. Import ES points and POIs"
   ]
  },
  {
   "cell_type": "code",
   "execution_count": 10,
   "metadata": {},
   "outputs": [],
   "source": [
    "boundary_JSON = getFeatures(boundary_GDF)         # boundary as json (for raster mask)\n",
    "boundary_poly = boundary_GDF.loc[0,'geometry']    # boundary as shapely polygon"
   ]
  },
  {
   "cell_type": "code",
   "execution_count": 12,
   "metadata": {},
   "outputs": [],
   "source": [
    "points_ES = gpd.read_file('SampleData/Points_ES.shp')"
   ]
  },
  {
   "cell_type": "code",
   "execution_count": 13,
   "metadata": {},
   "outputs": [],
   "source": [
    "bbox = raster.bounds"
   ]
  },
  {
   "cell_type": "code",
   "execution_count": 14,
   "metadata": {},
   "outputs": [],
   "source": [
    "business_amenities = ['bank', 'money_transfer', 'atm',\n",
    "        'bureau_de_change','fuel','marketplace','credit_institution','microfinance_bank','market_place']\n",
    "\n",
    "shops = ['convenience', 'mobile_phone','kiosk','electronics','supermarket','hardware','stationary',\n",
    "        'car_repair','travel_agency','copyshop','computer']\n",
    "\n",
    "offices = ['company','government','insurance','lawyer','accountant','administrative','telecommunication',\n",
    "          'financial','association']\n",
    "\n",
    "POIs_amenity = osm.node_query(bbox[1],bbox[0],bbox[3],bbox[2],tags = '\"amenity\"~\"{}\"'.format('|'.join(business_amenities)))\n",
    "POIs_shop = osm.node_query(bbox[1],bbox[0],bbox[3],bbox[2],tags = '\"shop\"~\"{}\"'.format('|'.join(shops)))\n",
    "POIs_office = osm.node_query(bbox[1],bbox[0],bbox[3],bbox[2],tags = '\"office\"~\"{}\"'.format('|'.join(offices)))"
   ]
  },
  {
   "cell_type": "code",
   "execution_count": 15,
   "metadata": {},
   "outputs": [],
   "source": [
    "POIs_amenity = POIs_amenity[['amenity','name','lat','lon']]\n",
    "POIs_amenity.rename(columns={'amenity':'type'},inplace=True)\n",
    "\n",
    "POIs_shop = POIs_shop[['shop','name','lat','lon']]\n",
    "POIs_shop.rename(columns={'shop':'type'},inplace=True)\n",
    "\n",
    "POIs_office = POIs_office[['office','name','lat','lon']]\n",
    "POIs_office.rename(columns={'office':'type'},inplace=True)"
   ]
  },
  {
   "cell_type": "code",
   "execution_count": 16,
   "metadata": {},
   "outputs": [],
   "source": [
    "pois = POIs_amenity.append(POIs_shop)\n",
    "pois = pois.append(POIs_office)"
   ]
  },
  {
   "cell_type": "code",
   "execution_count": 25,
   "metadata": {},
   "outputs": [
    {
     "data": {
      "image/png": "[encoded data removed]",
      "text/plain": [
       "<Figure size 432x288 with 1 Axes>"
      ]
     },
     "metadata": {
      "needs_background": "light"
     },
     "output_type": "display_data"
    }
   ],
   "source": [
    "pois.type.value_counts()[:10].plot(kind='barh',title='Top 10 categories of business amenities (Kampala)',color='g')\n",
    "plt.gca().invert_yaxis()"
   ]
  },
  {
   "cell_type": "code",
   "execution_count": 26,
   "metadata": {},
   "outputs": [],
   "source": [
    "pois = gpd.GeoDataFrame(pois)\n",
    "pois['geometry'] = (list(zip(pois.lon,pois.lat)))\n",
    "pois['geometry'] = pois.geometry.apply(lambda x: Point(x))"
   ]
  },
  {
   "cell_type": "markdown",
   "metadata": {},
   "source": [
    "#### 3. Clip raster to boundary"
   ]
  },
  {
   "cell_type": "code",
   "execution_count": 29,
   "metadata": {},
   "outputs": [
    {
     "ename": "AttributeError",
     "evalue": "module 'pycrs' has no attribute 'parse'",
     "output_type": "error",
     "traceback": [
      "\u001b[0;31m---------------------------------------------------------------------------\u001b[0m",
      "\u001b[0;31mAttributeError\u001b[0m                            Traceback (most recent call last)",
      "\u001b[0;32m<ipython-input-29-172925babb93>\u001b[0m in \u001b[0;36m<module>\u001b[0;34m\u001b[0m\n\u001b[1;32m     10\u001b[0m                      \u001b[0;34m\"width\"\u001b[0m\u001b[0;34m:\u001b[0m \u001b[0mout_img\u001b[0m\u001b[0;34m.\u001b[0m\u001b[0mshape\u001b[0m\u001b[0;34m[\u001b[0m\u001b[0;36m2\u001b[0m\u001b[0;34m]\u001b[0m\u001b[0;34m,\u001b[0m\u001b[0;34m\u001b[0m\u001b[0;34m\u001b[0m\u001b[0m\n\u001b[1;32m     11\u001b[0m                      \u001b[0;34m\"transform\"\u001b[0m\u001b[0;34m:\u001b[0m \u001b[0mout_transform\u001b[0m\u001b[0;34m,\u001b[0m\u001b[0;34m\u001b[0m\u001b[0;34m\u001b[0m\u001b[0m\n\u001b[0;32m---> 12\u001b[0;31m                      \"crs\": pycrs.parse.from_epsg_code(epsg_code).to_proj4()}\n\u001b[0m\u001b[1;32m     13\u001b[0m                              )\n",
      "\u001b[0;31mAttributeError\u001b[0m: module 'pycrs' has no attribute 'parse'"
     ]
    }
   ],
   "source": [
    "out_img, out_transform = mask(dataset=raster, shapes=boundary_JSON, crop=True)\n",
    "\n",
    "# Update the metadata\n",
    "\n",
    "out_meta = raster.meta.copy()\n",
    "out_meta\n",
    "epsg_code = int(raster.crs.data['init'][5:])\n",
    "out_meta.update({\"driver\": \"GTiff\",\n",
    "                     \"height\": out_img.shape[1],\n",
    "                     \"width\": out_img.shape[2],\n",
    "                     \"transform\": out_transform,\n",
    "                     \"crs\": pycrs.parse.from_epsg_code(epsg_code).to_proj4()}\n",
    "                             )"
   ]
  },
  {
   "cell_type": "code",
   "execution_count": 30,
   "metadata": {},
   "outputs": [],
   "source": [
    "out_tif = path + '/' + 'clipped_raster.tif'\n",
    "\n",
    "with rasterio.open(out_tif, \"w\", **out_meta) as dest:\n",
    "    dest.write(out_img)"
   ]
  },
  {
   "cell_type": "markdown",
   "metadata": {},
   "source": [
    "#### 4. Clip POIs and ES points to boundary"
   ]
  },
  {
   "cell_type": "code",
   "execution_count": 31,
   "metadata": {},
   "outputs": [
    {
     "data": {
      "image/png": "[encoded data removed]",
      "text/plain": [
       "<Figure size 576x576 with 1 Axes>"
      ]
     },
     "metadata": {
      "needs_background": "light"
     },
     "output_type": "display_data"
    }
   ],
   "source": [
    "ax = boundary_GDF.plot(figsize=[8,8],alpha=0.5)\n",
    "points_ES_clipped.plot(color='r',ax=ax,markersize=4)\n",
    "\n",
    "plt.title('Kampala: location of surveyed firms');"
   ]
  },
  {
   "cell_type": "code",
   "execution_count": 33,
   "metadata": {},
   "outputs": [
    {
     "name": "stderr",
     "output_type": "stream",
     "text": [
      "/anaconda3/envs/geo5/lib/python3.6/site-packages/geopandas/tools/sjoin.py:44: UserWarning: CRS of frames being joined does not match!\n",
      "  warn('CRS of frames being joined does not match!')\n"
     ]
    },
    {
     "data": {
      "image/png": "[encoded data removed]",
      "text/plain": [
       "<Figure size 576x576 with 1 Axes>"
      ]
     },
     "metadata": {
      "needs_background": "light"
     },
     "output_type": "display_data"
    }
   ],
   "source": [
    "pois_clipped = gpd.sjoin(pois,boundary_GDF,how='inner')\n",
    "points_ES_clipped = gpd.sjoin(points_ES,boundary_GDF,how='inner')\n",
    "\n",
    "ax = boundary_GDF.plot(figsize=[8,8],alpha=0.5)\n",
    "pois_clipped.plot(ax=ax, color='g',markersize=2)\n",
    "points_ES_clipped.plot(color='r',ax=ax,markersize=4)\n",
    "\n",
    "#clipped_raster = rasterio.open(out_tif)\n",
    "#show(raster, ax = ax)\n",
    "\n",
    "plt.legend(['business amenities','firms'])\n",
    "plt.title('Kampala: location of amenities and firms');"
   ]
  },
  {
   "cell_type": "code",
   "execution_count": 40,
   "metadata": {},
   "outputs": [
    {
     "name": "stderr",
     "output_type": "stream",
     "text": [
      "/anaconda3/envs/geo5/lib/python3.6/site-packages/geopandas/io/file.py:108: FionaDeprecationWarning: Use fiona.Env() instead.\n",
      "  with fiona.drivers():\n"
     ]
    }
   ],
   "source": [
    "pois_clipped.to_file('data/KM_pois/KM_biz_amenities1')"
   ]
  },
  {
   "cell_type": "code",
   "execution_count": 37,
   "metadata": {},
   "outputs": [
    {
     "name": "stderr",
     "output_type": "stream",
     "text": [
      "/anaconda3/envs/geo5/lib/python3.6/site-packages/geopandas/io/file.py:108: FionaDeprecationWarning: Use fiona.Env() instead.\n",
      "  with fiona.drivers():\n"
     ]
    }
   ],
   "source": [
    "points_ES_clipped.to_file('data/points_ES_clipped')"
   ]
  },
  {
   "cell_type": "code",
   "execution_count": 38,
   "metadata": {},
   "outputs": [
    {
     "data": {
      "text/plain": [
       "(3307, 11)"
      ]
     },
     "execution_count": 38,
     "metadata": {},
     "output_type": "execute_result"
    }
   ],
   "source": [
    "pois_clipped.shape"
   ]
  },
  {
   "cell_type": "markdown",
   "metadata": {},
   "source": [
    "#### 5. Get road network"
   ]
  },
  {
   "cell_type": "code",
   "execution_count": 125,
   "metadata": {},
   "outputs": [],
   "source": [
    "G = ox.graph_from_polygon(boundary_poly, network_type = 'drive')"
   ]
  },
  {
   "cell_type": "markdown",
   "metadata": {},
   "source": [
    "## ANALYSIS\n",
    "#### 6. Road network to time"
   ]
  },
  {
   "cell_type": "code",
   "execution_count": 126,
   "metadata": {},
   "outputs": [],
   "source": [
    "speed_dict = {  'residential': 20,  # kmph\n",
    "                'primary': 40, # kmph\n",
    "                'primary_link':35,\n",
    "                'motorway':45,\n",
    "                'motorway_link': 40,\n",
    "                'trunk': 40,\n",
    "                'trunk_link':35,\n",
    "                'secondary': 30, # kmph\n",
    "                'secondary_link':25,\n",
    "                'tertiary':30,\n",
    "                'tertiary_link': 25,\n",
    "                'unclassified':20, \n",
    "                'road':20,\n",
    "                'crossing':20,\n",
    "                'living_street':20\n",
    "                }"
   ]
  },
  {
   "cell_type": "code",
   "execution_count": 127,
   "metadata": {},
   "outputs": [],
   "source": [
    "G = gn.convert_network_to_time(G, distance_tag = 'length', speed_dict = speed_dict)"
   ]
  },
  {
   "cell_type": "markdown",
   "metadata": {},
   "source": [
    "#### 7. Snap firms and POIs to graph"
   ]
  },
  {
   "cell_type": "code",
   "execution_count": 129,
   "metadata": {},
   "outputs": [
    {
     "name": "stderr",
     "output_type": "stream",
     "text": [
      "/nfshome/nj935/Kampala/GOSTnet.py:1568: FutureWarning: Method .as_matrix will be removed in a future version. Use .values instead.\n",
      "  G_tree = spatial.KDTree(node_gdf[['x','y']].as_matrix())\n",
      "/nfshome/nj935/Kampala/GOSTnet.py:1570: FutureWarning: Method .as_matrix will be removed in a future version. Use .values instead.\n",
      "  distances, indices = G_tree.query(in_df[['x','y']].as_matrix())\n"
     ]
    },
    {
     "name": "stdout",
     "output_type": "stream",
     "text": [
      "ES shape: (307, 16), pois shape: (5321, 14)\n"
     ]
    }
   ],
   "source": [
    "point_df_with_nearest_node_field = gn.pandana_snap(G, points_ES_clipped)\n",
    "pois_df_with_nearest_node_field = gn.pandana_snap(G, pois_clipped)\n",
    "print(\"ES shape: {}, pois shape: {}\".format(point_df_with_nearest_node_field.shape, pois_df_with_nearest_node_field.shape))"
   ]
  },
  {
   "cell_type": "markdown",
   "metadata": {},
   "source": [
    "#### 8. Map flooding onto graph"
   ]
  },
  {
   "cell_type": "code",
   "execution_count": 130,
   "metadata": {},
   "outputs": [],
   "source": [
    "list_of_nearest_nodes_ES = list(point_df_with_nearest_node_field.NN)\n",
    "list_of_nearest_nodes_pois = list(pois_df_with_nearest_node_field.NN)"
   ]
  },
  {
   "cell_type": "code",
   "execution_count": 131,
   "metadata": {},
   "outputs": [
    {
     "name": "stdout",
     "output_type": "stream",
     "text": [
      "peartree version: 0.6.0 \n",
      "networkx version: 2.2 \n",
      "matplotlib version: 2.2.2 \n",
      "osmnx version: 0.8.2 \n"
     ]
    }
   ],
   "source": [
    "importlib.reload(gn)\n",
    "G = gn.sample_raster(G, out_tif, property_name = 'flood_depth')"
   ]
  },
  {
   "cell_type": "code",
   "execution_count": 132,
   "metadata": {},
   "outputs": [
    {
     "name": "stdout",
     "output_type": "stream",
     "text": [
      "Flooding is positive in 4.1% of nodes.\n",
      "Flooding exceeds 15 centimeters for 3.0% of nodes and exceeds 40 centimeters for 0.6% of nodes.\n"
     ]
    }
   ],
   "source": [
    "G_node_gdf = gn.node_gdf_from_graph(G)\n",
    "\n",
    "print(\"Flooding is positive in {:.1f}% of nodes.\".format(\n",
    "    (G_node_gdf[G_node_gdf.flood_depth > 0].shape[0] / G_node_gdf.shape[0])*100))\n",
    "\n",
    "print(\"Flooding exceeds 15 centimeters for {:.1f}% of nodes and exceeds 40 centimeters for {:.1f}% of nodes.\".format(\n",
    "    ((G_node_gdf[G_node_gdf.flood_depth > 0.15].shape[0] / G_node_gdf.shape[0]*100)),\n",
    "    (G_node_gdf[G_node_gdf.flood_depth > 0.4].shape[0] / G_node_gdf.shape[0])*100))"
   ]
  },
  {
   "cell_type": "markdown",
   "metadata": {},
   "source": [
    "#### 9. Calculate baseline OD matrix"
   ]
  },
  {
   "cell_type": "code",
   "execution_count": 133,
   "metadata": {},
   "outputs": [],
   "source": [
    "fail_value = 999999999999999\n",
    "baseline_OD = gn.calculate_OD(G, list_of_nearest_nodes_ES, list_of_nearest_nodes_pois, fail_value)\n"
   ]
  },
  {
   "cell_type": "code",
   "execution_count": 93,
   "metadata": {},
   "outputs": [],
   "source": [
    "baseline_OD_distance = gn.calculate_OD(G, list_of_nearest_nodes, list_of_nearest_nodes, fail_value, weight='length')"
   ]
  },
  {
   "cell_type": "markdown",
   "metadata": {},
   "source": [
    "#### 10. Disrupt network, calculate flooded OD matrix"
   ]
  },
  {
   "cell_type": "code",
   "execution_count": 190,
   "metadata": {},
   "outputs": [],
   "source": [
    "my_flood_depth = 0.15"
   ]
  },
  {
   "cell_type": "code",
   "execution_count": 191,
   "metadata": {},
   "outputs": [
    {
     "name": "stdout",
     "output_type": "stream",
     "text": [
      "peartree version: 0.6.0 \n",
      "networkx version: 2.2 \n",
      "matplotlib version: 2.2.2 \n",
      "osmnx version: 0.8.2 \n",
      "nodes disrupted: 412\n",
      "edges disrupted: 1195\n"
     ]
    }
   ],
   "source": [
    "importlib.reload(gn)\n",
    "G_flood = G.copy()\n",
    "G_flood = gn.disrupt_network(G_flood, 'flood_depth', my_flood_depth, fail_value)"
   ]
  },
  {
   "cell_type": "code",
   "execution_count": 192,
   "metadata": {},
   "outputs": [],
   "source": [
    "flood_OD = gn.calculate_OD(G_flood, list_of_nearest_nodes_ES, list_of_nearest_nodes_pois, fail_value)"
   ]
  },
  {
   "cell_type": "code",
   "execution_count": 193,
   "metadata": {},
   "outputs": [],
   "source": [
    "flood_OD_df = pd.DataFrame(flood_OD)"
   ]
  },
  {
   "cell_type": "markdown",
   "metadata": {},
   "source": [
    "#### 11. Plot how access to amenities differs"
   ]
  },
  {
   "cell_type": "code",
   "execution_count": 194,
   "metadata": {},
   "outputs": [
    {
     "data": {
      "text/html": [
       "<div>\n",
       "<style scoped>\n",
       "    .dataframe tbody tr th:only-of-type {\n",
       "        vertical-align: middle;\n",
       "    }\n",
       "\n",
       "    .dataframe tbody tr th {\n",
       "        vertical-align: top;\n",
       "    }\n",
       "\n",
       "    .dataframe thead th {\n",
       "        text-align: right;\n",
       "    }\n",
       "</style>\n",
       "<table border=\"1\" class=\"dataframe\">\n",
       "  <thead>\n",
       "    <tr style=\"text-align: right;\">\n",
       "      <th></th>\n",
       "      <th>0</th>\n",
       "      <th>1</th>\n",
       "      <th>2</th>\n",
       "      <th>3</th>\n",
       "      <th>4</th>\n",
       "      <th>5</th>\n",
       "      <th>6</th>\n",
       "      <th>7</th>\n",
       "      <th>8</th>\n",
       "      <th>9</th>\n",
       "      <th>...</th>\n",
       "      <th>5311</th>\n",
       "      <th>5312</th>\n",
       "      <th>5313</th>\n",
       "      <th>5314</th>\n",
       "      <th>5315</th>\n",
       "      <th>5316</th>\n",
       "      <th>5317</th>\n",
       "      <th>5318</th>\n",
       "      <th>5319</th>\n",
       "      <th>5320</th>\n",
       "    </tr>\n",
       "  </thead>\n",
       "  <tbody>\n",
       "    <tr>\n",
       "      <th>0</th>\n",
       "      <td>771.15039</td>\n",
       "      <td>656.85699</td>\n",
       "      <td>143.31570</td>\n",
       "      <td>18.88836</td>\n",
       "      <td>89.10339</td>\n",
       "      <td>102.94242</td>\n",
       "      <td>291.77121</td>\n",
       "      <td>395.21757</td>\n",
       "      <td>438.91821</td>\n",
       "      <td>797.595600</td>\n",
       "      <td>...</td>\n",
       "      <td>531.514860</td>\n",
       "      <td>441.381900</td>\n",
       "      <td>445.692240</td>\n",
       "      <td>445.692240</td>\n",
       "      <td>445.358914</td>\n",
       "      <td>476.695989</td>\n",
       "      <td>1079.278380</td>\n",
       "      <td>43.62900</td>\n",
       "      <td>418.331280</td>\n",
       "      <td>503.418030</td>\n",
       "    </tr>\n",
       "    <tr>\n",
       "      <th>1</th>\n",
       "      <td>1112.27481</td>\n",
       "      <td>994.25010</td>\n",
       "      <td>533.23560</td>\n",
       "      <td>464.81499</td>\n",
       "      <td>342.25197</td>\n",
       "      <td>444.06684</td>\n",
       "      <td>658.49736</td>\n",
       "      <td>753.01176</td>\n",
       "      <td>796.71240</td>\n",
       "      <td>468.669210</td>\n",
       "      <td>...</td>\n",
       "      <td>315.943560</td>\n",
       "      <td>452.964420</td>\n",
       "      <td>403.657380</td>\n",
       "      <td>403.657380</td>\n",
       "      <td>370.485900</td>\n",
       "      <td>340.191630</td>\n",
       "      <td>649.227990</td>\n",
       "      <td>477.10611</td>\n",
       "      <td>450.021870</td>\n",
       "      <td>107.531889</td>\n",
       "    </tr>\n",
       "    <tr>\n",
       "      <th>2</th>\n",
       "      <td>877.25442</td>\n",
       "      <td>483.49980</td>\n",
       "      <td>120.31809</td>\n",
       "      <td>226.48536</td>\n",
       "      <td>305.42037</td>\n",
       "      <td>319.25940</td>\n",
       "      <td>314.59140</td>\n",
       "      <td>407.49888</td>\n",
       "      <td>451.19952</td>\n",
       "      <td>923.106771</td>\n",
       "      <td>...</td>\n",
       "      <td>330.656807</td>\n",
       "      <td>223.103319</td>\n",
       "      <td>227.038899</td>\n",
       "      <td>227.038899</td>\n",
       "      <td>226.705573</td>\n",
       "      <td>258.042647</td>\n",
       "      <td>878.113449</td>\n",
       "      <td>200.36784</td>\n",
       "      <td>200.052699</td>\n",
       "      <td>606.023289</td>\n",
       "    </tr>\n",
       "    <tr>\n",
       "      <th>3</th>\n",
       "      <td>1397.20899</td>\n",
       "      <td>1279.18428</td>\n",
       "      <td>818.16978</td>\n",
       "      <td>749.74917</td>\n",
       "      <td>627.18615</td>\n",
       "      <td>729.00102</td>\n",
       "      <td>943.43154</td>\n",
       "      <td>1037.94594</td>\n",
       "      <td>1081.64658</td>\n",
       "      <td>607.303950</td>\n",
       "      <td>...</td>\n",
       "      <td>600.877740</td>\n",
       "      <td>737.898600</td>\n",
       "      <td>688.591560</td>\n",
       "      <td>688.591560</td>\n",
       "      <td>655.420080</td>\n",
       "      <td>625.125810</td>\n",
       "      <td>538.802280</td>\n",
       "      <td>762.04029</td>\n",
       "      <td>734.956050</td>\n",
       "      <td>392.466069</td>\n",
       "    </tr>\n",
       "    <tr>\n",
       "      <th>4</th>\n",
       "      <td>985.25079</td>\n",
       "      <td>867.22608</td>\n",
       "      <td>406.21158</td>\n",
       "      <td>337.79097</td>\n",
       "      <td>215.22795</td>\n",
       "      <td>317.04282</td>\n",
       "      <td>531.47334</td>\n",
       "      <td>625.98774</td>\n",
       "      <td>669.68838</td>\n",
       "      <td>560.281140</td>\n",
       "      <td>...</td>\n",
       "      <td>326.470204</td>\n",
       "      <td>463.491064</td>\n",
       "      <td>414.184024</td>\n",
       "      <td>414.184024</td>\n",
       "      <td>381.012544</td>\n",
       "      <td>350.718274</td>\n",
       "      <td>874.233724</td>\n",
       "      <td>350.08209</td>\n",
       "      <td>460.548514</td>\n",
       "      <td>298.373374</td>\n",
       "    </tr>\n",
       "  </tbody>\n",
       "</table>\n",
       "<p>5 rows × 5321 columns</p>\n",
       "</div>"
      ],
      "text/plain": [
       "         0           1          2          3          4          5     \\\n",
       "0   771.15039   656.85699  143.31570   18.88836   89.10339  102.94242   \n",
       "1  1112.27481   994.25010  533.23560  464.81499  342.25197  444.06684   \n",
       "2   877.25442   483.49980  120.31809  226.48536  305.42037  319.25940   \n",
       "3  1397.20899  1279.18428  818.16978  749.74917  627.18615  729.00102   \n",
       "4   985.25079   867.22608  406.21158  337.79097  215.22795  317.04282   \n",
       "\n",
       "        6           7           8           9        ...            5311  \\\n",
       "0  291.77121   395.21757   438.91821  797.595600     ...      531.514860   \n",
       "1  658.49736   753.01176   796.71240  468.669210     ...      315.943560   \n",
       "2  314.59140   407.49888   451.19952  923.106771     ...      330.656807   \n",
       "3  943.43154  1037.94594  1081.64658  607.303950     ...      600.877740   \n",
       "4  531.47334   625.98774   669.68838  560.281140     ...      326.470204   \n",
       "\n",
       "         5312        5313        5314        5315        5316         5317  \\\n",
       "0  441.381900  445.692240  445.692240  445.358914  476.695989  1079.278380   \n",
       "1  452.964420  403.657380  403.657380  370.485900  340.191630   649.227990   \n",
       "2  223.103319  227.038899  227.038899  226.705573  258.042647   878.113449   \n",
       "3  737.898600  688.591560  688.591560  655.420080  625.125810   538.802280   \n",
       "4  463.491064  414.184024  414.184024  381.012544  350.718274   874.233724   \n",
       "\n",
       "        5318        5319        5320  \n",
       "0   43.62900  418.331280  503.418030  \n",
       "1  477.10611  450.021870  107.531889  \n",
       "2  200.36784  200.052699  606.023289  \n",
       "3  762.04029  734.956050  392.466069  \n",
       "4  350.08209  460.548514  298.373374  \n",
       "\n",
       "[5 rows x 5321 columns]"
      ]
     },
     "execution_count": 194,
     "metadata": {},
     "output_type": "execute_result"
    }
   ],
   "source": [
    "baseline_OD_df = pd.DataFrame(baseline_OD)\n",
    "baseline_OD_df.head()"
   ]
  },
  {
   "cell_type": "code",
   "execution_count": 232,
   "metadata": {},
   "outputs": [
    {
     "data": {
      "text/plain": [
       "25.427551212178162"
      ]
     },
     "execution_count": 232,
     "metadata": {},
     "output_type": "execute_result"
    }
   ],
   "source": [
    "minutes = 15\n",
    "threshold = minutes * 60\n",
    "\n",
    "sample_origin = baseline_OD_df.loc[101,:]\n",
    "sample_origin[sample_origin > threshold].count() / sample_origin.shape[0] * 100"
   ]
  },
  {
   "cell_type": "code",
   "execution_count": 233,
   "metadata": {},
   "outputs": [],
   "source": [
    "percent_reachable = baseline_OD_df[baseline_OD_df < threshold].count(axis=1) / baseline_OD_df.shape[1] * 100\n",
    "percent_reachable_flood = flood_OD_df[flood_OD_df < threshold].count(axis=1) / flood_OD_df.shape[1] * 100"
   ]
  },
  {
   "cell_type": "code",
   "execution_count": 234,
   "metadata": {},
   "outputs": [
    {
     "data": {
      "image/png": "[encoded data removed]",
      "text/plain": [
       "<Figure size 576x432 with 1 Axes>"
      ]
     },
     "metadata": {},
     "output_type": "display_data"
    }
   ],
   "source": [
    "fig,ax = plt.subplots(figsize=[8,6])\n",
    "ax.hist(percent_reachable,color='g',alpha=0.5,density=True,bins=30)\n",
    "ax.hist(percent_reachable_flood,color='r',alpha=0.5,density=True,bins=30)\n",
    "plt.title('Firms in Kampala: What proportion of business amenities are accessible within 10 minutes?')\n",
    "plt.ylabel('Frequency')\n",
    "plt.legend(['No flood','50-year flood'])\n",
    "plt.xlabel('Percent amenities');"
   ]
  },
  {
   "cell_type": "code",
   "execution_count": 235,
   "metadata": {},
   "outputs": [
    {
     "data": {
      "image/png": "[encoded data removed]",
      "text/plain": [
       "<Figure size 432x288 with 1 Axes>"
      ]
     },
     "metadata": {},
     "output_type": "display_data"
    }
   ],
   "source": [
    "ax = sns.kdeplot(percent_reachable,shade=True)\n",
    "sns.kdeplot(percent_reachable_flood, ax=ax, color='r',shade=True)\n",
    "ax.set_title('Firms in Kampala: What proportion of key business amenities are accessible within {} minutes?'.format(minutes))\n",
    "plt.legend(['No flood','50-year flood'])\n",
    "ax.set(xlabel=\"percent amenities\", ylabel='frequency (%)');"
   ]
  }
 ],
 "metadata": {
  "kernelspec": {
   "display_name": "geo5",
   "language": "python",
   "name": "geo5"
  },
  "language_info": {
   "codemirror_mode": {
    "name": "ipython",
    "version": 3
   },
   "file_extension": ".py",
   "mimetype": "text/x-python",
   "name": "python",
   "nbconvert_exporter": "python",
   "pygments_lexer": "ipython3",
   "version": "3.6.7"
  }
 },
 "nbformat": 4,
 "nbformat_minor": 2
}
