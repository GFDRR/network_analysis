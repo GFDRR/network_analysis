{
 "cells": [
  {
   "cell_type": "code",
   "execution_count": 1,
   "metadata": {},
   "outputs": [
    {
     "name": "stdout",
     "output_type": "stream",
     "text": [
      "peartree version: 0.6.1 \n",
      "networkx version: 2.2 \n",
      "matplotlib version: 3.0.2 \n",
      "osmnx version: 0.9 \n"
     ]
    }
   ],
   "source": [
    "import importlib\n",
    "import sys,os,math,time\n",
    "\n",
    "import networkx as nx\n",
    "import geopandas as gpd\n",
    "import numpy as np\n",
    "import osmnx as ox\n",
    "import pandas as pd\n",
    "import rasterio\n",
    "#import mplleaflet as mpll\n",
    "import pylab as plt\n",
    "import json\n",
    "import pycrs\n",
    "import seaborn as sns\n",
    "\n",
    "from shapely.geometry import Point\n",
    "from rasterio.plot import show, show_hist\n",
    "from rasterio.mask import mask\n",
    "\n",
    "gostNetsFolder = os.path.dirname(os.getcwd())\n",
    "sys.path.insert(0, gostNetsFolder)\n",
    "import GOSTnet as gn\n",
    "\n",
    "from pandana.loaders import osm;\n",
    "import arcgis\n",
    "from arcgis import GIS\n",
    "from arcgis.raster.functions import clip\n",
    "from arcgis import geocode\n",
    "from arcgis.raster.functions import clip\n",
    "\n",
    "from osgeo import gdal, gdalconst, gdal_array\n",
    "from IPython.display import display"
   ]
  },
  {
   "cell_type": "code",
   "execution_count": 2,
   "metadata": {},
   "outputs": [
    {
     "name": "stdout",
     "output_type": "stream",
     "text": [
      "Logged on as nj935_\n"
     ]
    }
   ],
   "source": [
    "gis = GIS(url='https://nkwjones.maps.arcgis.com',username='nj935_',password='Bemelmans1')\n",
    "print(\"Logged on as {}\".format(gis.properties.user[\"username\"]))"
   ]
  },
  {
   "cell_type": "markdown",
   "metadata": {},
   "source": [
    "#### 1. Import boundaries and population raster"
   ]
  },
  {
   "cell_type": "code",
   "execution_count": 9,
   "metadata": {},
   "outputs": [
    {
     "data": {
      "text/html": [
       "<div>\n",
       "<style scoped>\n",
       "    .dataframe tbody tr th:only-of-type {\n",
       "        vertical-align: middle;\n",
       "    }\n",
       "\n",
       "    .dataframe tbody tr th {\n",
       "        vertical-align: top;\n",
       "    }\n",
       "\n",
       "    .dataframe thead th {\n",
       "        text-align: right;\n",
       "    }\n",
       "</style>\n",
       "<table border=\"1\" class=\"dataframe\">\n",
       "  <thead>\n",
       "    <tr style=\"text-align: right;\">\n",
       "      <th></th>\n",
       "      <th>bbox_east</th>\n",
       "      <th>bbox_north</th>\n",
       "      <th>bbox_south</th>\n",
       "      <th>bbox_west</th>\n",
       "      <th>geometry</th>\n",
       "      <th>place_name</th>\n",
       "    </tr>\n",
       "  </thead>\n",
       "  <tbody>\n",
       "    <tr>\n",
       "      <th>0</th>\n",
       "      <td>32.668022</td>\n",
       "      <td>0.408476</td>\n",
       "      <td>0.21705</td>\n",
       "      <td>32.509629</td>\n",
       "      <td>POLYGON ((32.5096294 0.3100581, 32.5097488 0.3...</td>\n",
       "      <td>Kampala, Central Region, Uganda</td>\n",
       "    </tr>\n",
       "  </tbody>\n",
       "</table>\n",
       "</div>"
      ],
      "text/plain": [
       "   bbox_east  bbox_north  bbox_south  bbox_west  \\\n",
       "0  32.668022    0.408476     0.21705  32.509629   \n",
       "\n",
       "                                            geometry  \\\n",
       "0  POLYGON ((32.5096294 0.3100581, 32.5097488 0.3...   \n",
       "\n",
       "                        place_name  \n",
       "0  Kampala, Central Region, Uganda  "
      ]
     },
     "execution_count": 9,
     "metadata": {},
     "output_type": "execute_result"
    }
   ],
   "source": [
    "boundary_GDF = ox.gdf_from_place('Kampala',which_result=2)\n",
    "boundary_GDF"
   ]
  },
  {
   "cell_type": "code",
   "execution_count": null,
   "metadata": {},
   "outputs": [],
   "source": []
  },
  {
   "cell_type": "code",
   "execution_count": 4,
   "metadata": {},
   "outputs": [],
   "source": [
    "pop_raster = rasterio.open('data/kampala_pop_2.tiff')"
   ]
  },
  {
   "cell_type": "code",
   "execution_count": 5,
   "metadata": {},
   "outputs": [
    {
     "data": {
      "image/png": "[encoded data removed]",
      "text/plain": [
       "<Figure size 432x288 with 1 Axes>"
      ]
     },
     "metadata": {
      "needs_background": "light"
     },
     "output_type": "display_data"
    },
    {
     "data": {
      "text/plain": [
       "<matplotlib.axes._subplots.AxesSubplot at 0x1a257c8e10>"
      ]
     },
     "execution_count": 5,
     "metadata": {},
     "output_type": "execute_result"
    }
   ],
   "source": [
    "show(pop_raster,title = \"population density of Kampala\")"
   ]
  },
  {
   "cell_type": "markdown",
   "metadata": {},
   "source": [
    "#### 2. Get boundary, create fishnet covering it"
   ]
  },
  {
   "cell_type": "code",
   "execution_count": 18,
   "metadata": {},
   "outputs": [
    {
     "data": {
      "text/html": [
       "<div>\n",
       "<style scoped>\n",
       "    .dataframe tbody tr th:only-of-type {\n",
       "        vertical-align: middle;\n",
       "    }\n",
       "\n",
       "    .dataframe tbody tr th {\n",
       "        vertical-align: top;\n",
       "    }\n",
       "\n",
       "    .dataframe thead th {\n",
       "        text-align: right;\n",
       "    }\n",
       "</style>\n",
       "<table border=\"1\" class=\"dataframe\">\n",
       "  <thead>\n",
       "    <tr style=\"text-align: right;\">\n",
       "      <th></th>\n",
       "      <th>Id</th>\n",
       "      <th>x_centroid</th>\n",
       "      <th>y_centroid</th>\n",
       "      <th>density</th>\n",
       "      <th>geometry</th>\n",
       "    </tr>\n",
       "  </thead>\n",
       "  <tbody>\n",
       "    <tr>\n",
       "      <th>0</th>\n",
       "      <td>1</td>\n",
       "      <td>32.436709</td>\n",
       "      <td>0.021084</td>\n",
       "      <td>0.09</td>\n",
       "      <td>POINT (32.43670924673388 0.02108392351784156)</td>\n",
       "    </tr>\n",
       "    <tr>\n",
       "      <th>1</th>\n",
       "      <td>2</td>\n",
       "      <td>32.441201</td>\n",
       "      <td>0.021084</td>\n",
       "      <td>2.74</td>\n",
       "      <td>POINT (32.44120082315448 0.02108392351784156)</td>\n",
       "    </tr>\n",
       "    <tr>\n",
       "      <th>2</th>\n",
       "      <td>3</td>\n",
       "      <td>32.445692</td>\n",
       "      <td>0.021084</td>\n",
       "      <td>2.05</td>\n",
       "      <td>POINT (32.44569239957508 0.02108392351784156)</td>\n",
       "    </tr>\n",
       "    <tr>\n",
       "      <th>3</th>\n",
       "      <td>4</td>\n",
       "      <td>32.427726</td>\n",
       "      <td>0.025606</td>\n",
       "      <td>0.28</td>\n",
       "      <td>POINT (32.42772609389268 0.02560577053669072)</td>\n",
       "    </tr>\n",
       "    <tr>\n",
       "      <th>4</th>\n",
       "      <td>5</td>\n",
       "      <td>32.436709</td>\n",
       "      <td>0.025606</td>\n",
       "      <td>1.03</td>\n",
       "      <td>POINT (32.43670924673388 0.02560577053669072)</td>\n",
       "    </tr>\n",
       "  </tbody>\n",
       "</table>\n",
       "</div>"
      ],
      "text/plain": [
       "   Id  x_centroid  y_centroid  density  \\\n",
       "0   1   32.436709    0.021084     0.09   \n",
       "1   2   32.441201    0.021084     2.74   \n",
       "2   3   32.445692    0.021084     2.05   \n",
       "3   4   32.427726    0.025606     0.28   \n",
       "4   5   32.436709    0.025606     1.03   \n",
       "\n",
       "                                        geometry  \n",
       "0  POINT (32.43670924673388 0.02108392351784156)  \n",
       "1  POINT (32.44120082315448 0.02108392351784156)  \n",
       "2  POINT (32.44569239957508 0.02108392351784156)  \n",
       "3  POINT (32.42772609389268 0.02560577053669072)  \n",
       "4  POINT (32.43670924673388 0.02560577053669072)  "
      ]
     },
     "execution_count": 18,
     "metadata": {},
     "output_type": "execute_result"
    }
   ],
   "source": [
    "points_ED = gpd.read_file(\"data/jobdensity_kampala_points.shp\")\n",
    "points_ED.head()"
   ]
  },
  {
   "cell_type": "code",
   "execution_count": 22,
   "metadata": {},
   "outputs": [
    {
     "data": {
      "image/png": "[encoded data removed]",
      "text/plain": [
       "<Figure size 432x288 with 1 Axes>"
      ]
     },
     "metadata": {
      "needs_background": "light"
     },
     "output_type": "display_data"
    }
   ],
   "source": [
    "ED_clipped = gpd.sjoin(points_ED,boundary_GDF,how='inner')\n",
    "ax = ED_clipped.plot(column='density')\n",
    "plt.title('Employment density points (clipped)');"
   ]
  },
  {
   "cell_type": "code",
   "execution_count": 25,
   "metadata": {},
   "outputs": [
    {
     "data": {
      "text/plain": [
       "\u001b[0;31mDocstring:\u001b[0m\n",
       "Get the values of a dataset at certain positions\n",
       "\n",
       "Values are from the nearest pixel. They are not interpolated.\n",
       "\n",
       "Parameters\n",
       "----------\n",
       "xy : iterable, pairs of floats\n",
       "    A sequence or generator of (x, y) pairs.\n",
       "\n",
       "indexes : list of ints or a single int, optional\n",
       "    If `indexes` is a list, the result is a 3D array, but is\n",
       "    a 2D array if it is a band index number.\n",
       "\n",
       "Returns\n",
       "-------\n",
       "Iterable, yielding dataset values for the specified `indexes`\n",
       "as an ndarray.\n",
       "\u001b[0;31mType:\u001b[0m      builtin_function_or_method\n"
      ]
     },
     "metadata": {},
     "output_type": "display_data"
    }
   ],
   "source": [
    "sample_point = points_ED.loc[0,'geometry']\n",
    "pop_raster.sample?"
   ]
  }
 ],
 "metadata": {
  "kernelspec": {
   "display_name": "geo5",
   "language": "python",
   "name": "geo5"
  },
  "language_info": {
   "codemirror_mode": {
    "name": "ipython",
    "version": 3
   },
   "file_extension": ".py",
   "mimetype": "text/x-python",
   "name": "python",
   "nbconvert_exporter": "python",
   "pygments_lexer": "ipython3",
   "version": "3.6.7"
  }
 },
 "nbformat": 4,
 "nbformat_minor": 2
}
