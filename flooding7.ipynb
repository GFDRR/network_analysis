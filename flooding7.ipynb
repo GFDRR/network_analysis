{
 "cells": [
  {
   "cell_type": "code",
   "execution_count": 1,
   "metadata": {},
   "outputs": [
    {
     "name": "stdout",
     "output_type": "stream",
     "text": [
      "peartree version: 0.6.1 \n",
      "networkx version: 2.2 \n",
      "matplotlib version: 3.0.2 \n",
      "osmnx version: 0.9 \n"
     ]
    }
   ],
   "source": [
    "import importlib\n",
    "import sys,os,math,time\n",
    "\n",
    "import networkx as nx\n",
    "import geopandas as gpd\n",
    "import numpy as np\n",
    "import osmnx as ox\n",
    "import pandas as pd\n",
    "import rasterio\n",
    "import pylab as plt\n",
    "import json\n",
    "import pycrs\n",
    "import seaborn as sns\n",
    "\n",
    "from shapely.geometry import Point\n",
    "from rasterio.plot import show, show_hist\n",
    "from rasterio.mask import mask\n",
    "\n",
    "import GOSTnet as gn\n",
    "\n",
    "from pandana.loaders import osm;\n",
    "\n",
    "from osgeo import gdal, gdalconst, gdal_array\n",
    "from rasterstats import point_query, zonal_stats\n",
    "from make_fishnet import make_fishnet"
   ]
  },
  {
   "cell_type": "code",
   "execution_count": 6,
   "metadata": {},
   "outputs": [],
   "source": [
    "boundary_GDF = ox.gdf_from_place('Kampala',which_result=2)\n",
    "boundary_GDF\n",
    "boundary_poly = boundary_GDF.loc[0,'geometry']    # boundary as shapely polygon"
   ]
  },
  {
   "cell_type": "code",
   "execution_count": 4,
   "metadata": {},
   "outputs": [],
   "source": [
    "pop_raster = rasterio.open('data/kampala_pop_2.tiff')\n",
    "coords = (pop_raster.bounds[1], pop_raster.bounds[0], pop_raster.bounds[3], pop_raster.bounds[2])"
   ]
  },
  {
   "cell_type": "code",
   "execution_count": 208,
   "metadata": {},
   "outputs": [
    {
     "data": {
      "image/svg+xml": [
       "<svg xmlns=\"http://www.w3.org/2000/svg\" xmlns:xlink=\"http://www.w3.org/1999/xlink\" width=\"100.0\" height=\"100.0\" viewBox=\"32.501972344 0.209392544 0.1737072119999965 0.206740512\" preserveAspectRatio=\"xMinYMin meet\"><g transform=\"matrix(1,0,0,-1,0,0.6255256)\"><path fill-rule=\"evenodd\" fill=\"#66cc99\" stroke=\"#555555\" stroke-width=\"0.00413481024\" opacity=\"0.6\" d=\"M 32.5096294,0.3100581 L 32.5097488,0.3098681 L 32.5098932,0.309271 L 32.510467,0.3082216 L 32.511398,0.3069822 L 32.5122203,0.3062856 L 32.5129822,0.3059057 L 32.5142437,0.3054353 L 32.5169114,0.30467 L 32.5171133,0.3046113 L 32.5175882,0.3044796 L 32.517932,0.3043813 L 32.5179936,0.3043569 L 32.5181223,0.3043227 L 32.5192175,0.3037347 L 32.5194093,0.3035409 L 32.5196421,0.3033221 L 32.5197421,0.3032281 L 32.5202348,0.3016901 L 32.5212276,0.3015587 L 32.5224424,0.301394 L 32.5245695,0.3011056 L 32.5259435,0.3009214 L 32.5287008,0.2955389 L 32.5297288,0.2930305 L 32.5297849,0.2928938 L 32.5303233,0.2915801 L 32.5312579,0.2879934 L 32.5319682,0.2861207 L 32.5323791,0.2853062 L 32.5340861,0.281923 L 32.5349278,0.2807288 L 32.5359013,0.2789285 L 32.5386108,0.2756717 L 32.5401369,0.2745318 L 32.5403186,0.2745206 L 32.5424911,0.2743871 L 32.5431224,0.2743872 L 32.5438065,0.2743058 L 32.5448063,0.2742787 L 32.5453262,0.2743791 L 32.5455165,0.2744144 L 32.5463125,0.2746124 L 32.548489,0.2751564 L 32.5492518,0.2751021 L 32.5499359,0.2748579 L 32.5510407,0.2747313 L 32.5533182,0.2751233 L 32.5554469,0.2754823 L 32.5593513,0.276278 L 32.5595641,0.2763202 L 32.5619788,0.2768111 L 32.5643121,0.2773102 L 32.5644596,0.2774406 L 32.564574,0.2775417 L 32.5647988,0.2777716 L 32.565746,0.277853 L 32.5672568,0.2784212 L 32.5677188,0.278595 L 32.5684681,0.2788169 L 32.5685607,0.2788443 L 32.5694932,0.2791205 L 32.569613,0.279156 L 32.5698782,0.2792788 L 32.5709809,0.2797893 L 32.5714419,0.2801582 L 32.5714638,0.2801757 L 32.5715313,0.2802297 L 32.5716141,0.280296 L 32.5716254,0.280305 L 32.5719297,0.2802991 L 32.5732301,0.2803051 L 32.5735155,0.2803242 L 32.5742295,0.2803594 L 32.5750449,0.2805649 L 32.575233,0.2805884 L 32.5752465,0.2805925 L 32.5752669,0.2805989 L 32.5753933,0.280638 L 32.5757292,0.2807032 L 32.5760256,0.2807429 L 32.5766015,0.2808002 L 32.5767346,0.2807978 L 32.5769918,0.280839 L 32.5771999,0.2804006 L 32.5772721,0.2802485 L 32.5776231,0.2795091 L 32.5786708,0.2786278 L 32.5790964,0.2782697 L 32.5793282,0.2777343 L 32.5794646,0.2774193 L 32.5798067,0.2768403 L 32.5808854,0.2763337 L 32.5815017,0.2756494 L 32.5821876,0.2748862 L 32.582924,0.2739363 L 32.5835606,0.2732764 L 32.5865809,0.2702814 L 32.588738,0.2693044 L 32.5897771,0.2685445 L 32.5914082,0.2677031 L 32.5917764,0.266907 L 32.5921448,0.2665361 L 32.594223,0.26593 L 32.5947229,0.2655048 L 32.595512,0.2651068 L 32.596459,0.2647901 L 32.5973799,0.2641026 L 32.5977684,0.2637578 L 32.5981954,0.2633789 L 32.5995602,0.2626279 L 32.599708,0.2625466 L 32.6001026,0.2621214 L 32.6011813,0.26109 L 32.6022072,0.2602939 L 32.6028911,0.2595792 L 32.6036277,0.2582312 L 32.6040487,0.2565937 L 32.6046933,0.2550105 L 32.6048776,0.2540877 L 32.6049829,0.2521245 L 32.6057982,0.2503513 L 32.6071137,0.2492657 L 32.6086131,0.2478634 L 32.6097182,0.2461445 L 32.6103139,0.2445522 L 32.6103636,0.2445703 L 32.6112795,0.2421729 L 32.6119625,0.2397573 L 32.6148149,0.2306922 L 32.614813,0.2299051 L 32.6151868,0.2290456 L 32.615594,0.2286838 L 32.6173495,0.2276524 L 32.6314166,0.2186057 L 32.6331957,0.217502 L 32.6335142,0.2170496 L 32.6360129,0.2233012 L 32.6366093,0.2264678 L 32.637414,0.2313532 L 32.6387652,0.237062 L 32.6406661,0.2413685 L 32.6429017,0.2455031 L 32.6431381,0.2457564 L 32.6493196,0.2555999 L 32.657013,0.2648282 L 32.6680225,0.2773226 L 32.6675445,0.2781097 L 32.6659468,0.2796838 L 32.6653503,0.2804438 L 32.6627028,0.2832936 L 32.6621046,0.28403 L 32.6619852,0.2847501 L 32.6621031,0.2850125 L 32.6630523,0.2855916 L 32.6637401,0.2862068 L 32.6646084,0.2871929 L 32.6647466,0.2872744 L 32.6655174,0.2880434 L 32.665903,0.2886224 L 32.666771,0.2897895 L 32.6667348,0.2901695 L 32.6669066,0.2919699 L 32.6669158,0.2935803 L 32.6653093,0.2970182 L 32.6638723,0.2986738 L 32.6626439,0.2997051 L 32.663049,0.3028083 L 32.6638721,0.3042559 L 32.6636631,0.3057034 L 32.6628523,0.3065176 L 32.6626436,0.3079652 L 32.6620291,0.3094127 L 32.6607667,0.311403 L 32.660995,0.3122173 L 32.6648617,0.3157458 L 32.666049,0.3177362 L 32.6661402,0.3209298 L 32.6646785,0.3266295 L 32.6606594,0.3290178 L 32.6601343,0.329181 L 32.659594,0.329302 L 32.6532,0.3310079 L 32.65031,0.3301421 L 32.6500396,0.3300626 L 32.6499949,0.3300463 L 32.6447664,0.3284925 L 32.6446024,0.3286072 L 32.6443546,0.3290017 L 32.6435075,0.3293722 L 32.6423814,0.3299487 L 32.6423826,0.330286 L 32.642387,0.3304616 L 32.6423795,0.3308801 L 32.6423896,0.3309528 L 32.6423858,0.3311694 L 32.6420563,0.3366529 L 32.6403881,0.3373098 L 32.6391637,0.3377837 L 32.6391402,0.3388749 L 32.6391398,0.3388927 L 32.6391373,0.3390099 L 32.6391337,0.3391756 L 32.6391317,0.3392676 L 32.6391299,0.3393517 L 32.6391258,0.3395419 L 32.6391229,0.3396769 L 32.6391075,0.3403946 L 32.6391029,0.3406064 L 32.6374283,0.3410949 L 32.6365756,0.3429586 L 32.6371844,0.3437909 L 32.6374669,0.3440995 L 32.637976,0.3447138 L 32.6376716,0.3457813 L 32.6392549,0.3464599 L 32.6400463,0.3467314 L 32.6397115,0.3482332 L 32.6384631,0.3482693 L 32.6383719,0.3484231 L 32.6386456,0.3494274 L 32.6387675,0.3507482 L 32.6387674,0.3522229 L 32.6387977,0.3530462 L 32.6375189,0.3585921 L 32.6361485,0.3637127 L 32.6354786,0.3647893 L 32.6349001,0.3656125 L 32.6348543,0.3656397 L 32.6349088,0.3656668 L 32.6339755,0.3670691 L 32.6335086,0.370127 L 32.6331584,0.3715926 L 32.6330997,0.3772923 L 32.6339749,0.3806398 L 32.6315828,0.3799973 L 32.630241,0.3794092 L 32.6298308,0.3790332 L 32.6295993,0.3788211 L 32.628244,0.3788949 L 32.628039,0.3789061 L 32.6244965,0.3790989 L 32.6242299,0.3791134 L 32.6234784,0.3791544 L 32.6231235,0.3791737 L 32.6215483,0.3794631 L 32.6207897,0.3794631 L 32.6185486,0.3800691 L 32.6181643,0.3831089 L 32.6174056,0.3863387 L 32.6168803,0.3904461 L 32.6152067,0.3894655 L 32.6147802,0.3892156 L 32.6118048,0.3886907 L 32.6073125,0.3900928 L 32.6043369,0.3934401 L 32.6043952,0.3962628 L 32.6057369,0.3989679 L 32.6057951,0.4021344 L 32.6041029,0.4058979 L 32.6021777,0.4079515 L 32.5994356,0.4083585 L 32.5982103,0.408476 L 32.5956435,0.4078336 L 32.5950511,0.4077392 L 32.5944182,0.4076526 L 32.594178,0.4076094 L 32.5941551,0.4076052 L 32.5937063,0.4075257 L 32.593445,0.4074771 L 32.5882343,0.4065395 L 32.5879214,0.4063314 L 32.5876384,0.4062837 L 32.5838507,0.4057974 L 32.5833081,0.4057906 L 32.583225,0.4057895 L 32.5816804,0.4057701 L 32.5813741,0.4057567 L 32.5793964,0.4056705 L 32.5776553,0.4053085 L 32.5760383,0.4047674 L 32.5757625,0.4046751 L 32.5739202,0.4041412 L 32.5730117,0.4038155 L 32.5703848,0.4034897 L 32.5698953,0.4036072 L 32.5679673,0.4043671 L 32.5668139,0.4044665 L 32.5661449,0.4045632 L 32.566029,0.404566 L 32.5648402,0.4046112 L 32.5643173,0.4045569 L 32.5619398,0.4045477 L 32.5617162,0.4045748 L 32.5619788,0.4042673 L 32.5620271,0.4040049 L 32.5620542,0.4029826 L 32.5621499,0.402675 L 32.5628414,0.4020779 L 32.56363,0.400748 L 32.5643462,0.3997891 L 32.5646335,0.3991287 L 32.564899,0.3977716 L 32.5652815,0.3970569 L 32.5654742,0.3962699 L 32.5647272,0.3956365 L 32.5641594,0.3947499 L 32.5639658,0.3919181 L 32.5639672,0.3914929 L 32.5638505,0.3908234 L 32.5638703,0.3906671 L 32.5639235,0.3901811 L 32.5637823,0.3897287 L 32.5631661,0.3891045 L 32.5617182,0.3883173 L 32.560484,0.3877111 L 32.5596249,0.3871592 L 32.5556238,0.3841282 L 32.555494,0.3840558 L 32.5544505,0.3831963 L 32.5541245,0.381604 L 32.5535101,0.3806631 L 32.5496934,0.3789258 L 32.549243,0.3785187 L 32.549243,0.3784463 L 32.5491604,0.3782925 L 32.5491144,0.3777407 L 32.5490436,0.3775778 L 32.5499744,0.3764108 L 32.5520884,0.3730906 L 32.5531876,0.3712632 L 32.5537393,0.369689 L 32.5539926,0.3684858 L 32.5542842,0.366405 L 32.5545508,0.3647404 L 32.5550986,0.3623158 L 32.5553488,0.3617911 L 32.5555758,0.361203 L 32.5555867,0.3611593 L 32.5556111,0.3610616 L 32.5557195,0.3606279 L 32.5557272,0.3605969 L 32.5557272,0.3604477 L 32.5557272,0.3603092 L 32.5557272,0.3602038 L 32.5557272,0.3595836 L 32.5554751,0.3590498 L 32.555349,0.358896 L 32.5547691,0.3580066 L 32.5543521,0.357367 L 32.5542004,0.3570972 L 32.5539736,0.3567066 L 32.5539516,0.3566601 L 32.5534942,0.3556933 L 32.5532418,0.3549785 L 32.5533429,0.3545714 L 32.5532671,0.3537391 L 32.5530147,0.3524363 L 32.5529898,0.3515768 L 32.5529119,0.351197 L 32.5520599,0.3513082 L 32.5515018,0.3513811 L 32.5507485,0.3514732 L 32.5495824,0.3516316 L 32.5492948,0.3516671 L 32.5492755,0.3516415 L 32.5481171,0.3497853 L 32.5460073,0.3486543 L 32.5439954,0.3485004 L 32.5426213,0.3496403 L 32.5418852,0.3496855 L 32.5409295,0.3491426 L 32.540581,0.3492783 L 32.5402502,0.3490611 L 32.5396813,0.3485816 L 32.5384473,0.3477673 L 32.53726,0.3473059 L 32.536215,0.3469711 L 32.5344576,0.3465277 L 32.5330807,0.3457858 L 32.5319981,0.3449047 L 32.5319344,0.3448615 L 32.530899,0.3440125 L 32.5289791,0.3420944 L 32.5285773,0.3413073 L 32.5278464,0.3393802 L 32.5260846,0.3363042 L 32.5255651,0.3351099 L 32.5250683,0.3342776 L 32.5227399,0.3299168 L 32.5218172,0.328415 L 32.5188021,0.3230952 L 32.5169092,0.3201548 L 32.5157961,0.3187887 L 32.5144681,0.317694 L 32.5126663,0.315993 L 32.5108801,0.3131341 L 32.5102751,0.3118968 L 32.5099821,0.3112975 L 32.5097474,0.3103476 L 32.5096294,0.3100581 z\" /></g></svg>"
      ],
      "text/plain": [
       "<shapely.geometry.polygon.Polygon at 0x1a2c236080>"
      ]
     },
     "execution_count": 208,
     "metadata": {},
     "output_type": "execute_result"
    }
   ],
   "source": [
    "boundary_poly"
   ]
  },
  {
   "cell_type": "markdown",
   "metadata": {},
   "source": [
    "#### 2. Reproject rasters"
   ]
  },
  {
   "cell_type": "code",
   "execution_count": 9,
   "metadata": {},
   "outputs": [],
   "source": [
    "from osgeo import gdal"
   ]
  },
  {
   "cell_type": "code",
   "execution_count": 15,
   "metadata": {},
   "outputs": [],
   "source": [
    "path = 'data'\n",
    "tif_10_path = os.path.join(path, '10yr_Kampala.tif')\n",
    "tif_50_path = os.path.join(path, '50yr_Kampala.tif')\n",
    "tif_100_path = os.path.join(path, '100yr_Kampala.tif')\n",
    "\n",
    "tif_10_proj_path = os.path.join(path, '10yr_Kampala_proj.tif')\n",
    "tif_50_proj_path = os.path.join(path, '50yr_Kampala_proj.tif')\n",
    "tif_100_proj_path = os.path.join(path, '100yr_Kampala_proj.tif')"
   ]
  },
  {
   "cell_type": "code",
   "execution_count": 13,
   "metadata": {},
   "outputs": [
    {
     "data": {
      "text/plain": [
       "CRS.from_dict(init='epsg:21096')"
      ]
     },
     "execution_count": 13,
     "metadata": {},
     "output_type": "execute_result"
    }
   ],
   "source": [
    "test = rasterio.open(tif_10_path)\n",
    "test.crs"
   ]
  },
  {
   "cell_type": "code",
   "execution_count": 17,
   "metadata": {},
   "outputs": [
    {
     "data": {
      "text/plain": [
       "<osgeo.gdal.Dataset; proxy of <Swig Object of type 'GDALDatasetShadow *' at 0x1a400737e0> >"
      ]
     },
     "execution_count": 17,
     "metadata": {},
     "output_type": "execute_result"
    }
   ],
   "source": [
    "# Reproject rasters\n",
    "\n",
    "input_raster = gdal.Open(tif_10_path)\n",
    "output_raster = os.path.join(tif_10_proj_path)\n",
    "gdal.Warp(output_raster,input_raster,dstSRS='EPSG:4326')\n",
    "\n",
    "input_raster = gdal.Open(tif_50_path)\n",
    "output_raster = os.path.join(tif_50_proj_path)\n",
    "gdal.Warp(output_raster,input_raster,dstSRS='EPSG:4326')\n",
    "\n",
    "input_raster = gdal.Open(tif_100_path)\n",
    "output_raster = os.path.join(tif_100_proj_path)\n",
    "gdal.Warp(output_raster,input_raster,dstSRS='EPSG:4326')"
   ]
  },
  {
   "cell_type": "markdown",
   "metadata": {},
   "source": [
    "#### 3. Sample rasters for flood depth"
   ]
  },
  {
   "cell_type": "code",
   "execution_count": 252,
   "metadata": {},
   "outputs": [],
   "source": [
    "# Create graph\n",
    "G = ox.graph_from_polygon(boundary_poly, network_type = 'drive')"
   ]
  },
  {
   "cell_type": "code",
   "execution_count": 253,
   "metadata": {},
   "outputs": [],
   "source": [
    "from shapely.geometry import Point\n",
    "from shapely.geometry import LineString\n",
    "\n",
    "node_dict = {}\n",
    "\n",
    "G2 = G.copy()\n",
    "\n",
    "for u, data in G2.nodes(data = True):\n",
    "    node_dict[u] = Point(data['x'],data['y'])\n",
    "        \n",
    "for u, v, data in G2.edges(data = True):\n",
    "    \n",
    "    if 'Wkt' not in data.keys():\n",
    "        strt = node_dict[u]\n",
    "        fini = node_dict[v]\n",
    "        data['Wkt'] = LineString([strt, fini])\n",
    "    \n",
    "    if 'geometry' in data.keys():\n",
    "        data['Wkt'] = data['geometry']\n",
    "        data.pop('geometry')"
   ]
  },
  {
   "cell_type": "code",
   "execution_count": 244,
   "metadata": {},
   "outputs": [
    {
     "name": "stdout",
     "output_type": "stream",
     "text": [
      "(6241026052, 577386967, {'osmid': 278571313, 'highway': 'residential', 'oneway': False, 'length': 42.742000000000004, 'Wkt': <shapely.geometry.linestring.LineString object at 0x1a4093e0f0>})\n",
      "(6241026052, 2829219868, {'osmid': 278571313, 'highway': 'residential', 'oneway': False, 'length': 131.63500000000002, 'Wkt': <shapely.geometry.linestring.LineString object at 0x1a48920438>})\n",
      "(6241026052, 6240996975, {'osmid': 666585325, 'highway': 'residential', 'oneway': False, 'length': 167.02300000000002, 'Wkt': <shapely.geometry.linestring.LineString object at 0x1a5ddd0f98>})\n",
      "(1470693384, 579992568, {'osmid': 45512650, 'highway': 'residential', 'oneway': False, 'length': 24.194, 'Wkt': <shapely.geometry.linestring.LineString object at 0x1a4804e7f0>})\n",
      "(1470693384, 6227375328, {'osmid': 665305898, 'highway': 'residential', 'oneway': False, 'length': 5.359, 'Wkt': <shapely.geometry.linestring.LineString object at 0x1a4804e4e0>})\n"
     ]
    }
   ],
   "source": [
    "gn.example_edge(G2, 5)"
   ]
  },
  {
   "cell_type": "code",
   "execution_count": 245,
   "metadata": {},
   "outputs": [
    {
     "data": {
      "text/plain": [
       "<matplotlib.axes._subplots.AxesSubplot at 0x1a61ac3e48>"
      ]
     },
     "execution_count": 245,
     "metadata": {},
     "output_type": "execute_result"
    },
    {
     "data": {
      "image/png": "[encoded data removed]",
      "text/plain": [
       "<Figure size 432x288 with 1 Axes>"
      ]
     },
     "metadata": {
      "needs_background": "light"
     },
     "output_type": "display_data"
    }
   ],
   "source": [
    "edge_gdf = edge_gdf.sort_values(by = 'length', ascending = False)\n",
    "edge_gdf['length'].hist(bins = 50)"
   ]
  },
  {
   "cell_type": "code",
   "execution_count": 270,
   "metadata": {},
   "outputs": [
    {
     "name": "stdout",
     "output_type": "stream",
     "text": [
      "peartree version: 0.6.1 \n",
      "networkx version: 2.2 \n",
      "matplotlib version: 3.0.2 \n",
      "osmnx version: 0.9 \n",
      "Identified 6830 unique edge(s) longer than 100. \n",
      "Beginning new node creation...\n",
      "33796 new edges added and 13401 removed to bring total edges to 52015\n",
      "10068 new nodes added to bring total nodes to 23764\n"
     ]
    }
   ],
   "source": [
    "import importlib\n",
    "importlib.reload(gn)\n",
    "G3 = gn.salt_long_lines(G2,\n",
    "                       source = 'epsg:4326',\n",
    "                      target = 'epsg:32636',\n",
    "                      thresh = 100,\n",
    "                      factor = 1)"
   ]
  },
  {
   "cell_type": "code",
   "execution_count": 255,
   "metadata": {},
   "outputs": [
    {
     "data": {
      "text/plain": [
       "13696"
      ]
     },
     "execution_count": 255,
     "metadata": {},
     "output_type": "execute_result"
    }
   ],
   "source": [
    "G2.number_of_nodes()"
   ]
  },
  {
   "cell_type": "code",
   "execution_count": 256,
   "metadata": {},
   "outputs": [
    {
     "data": {
      "text/plain": [
       "23199"
      ]
     },
     "execution_count": 256,
     "metadata": {},
     "output_type": "execute_result"
    }
   ],
   "source": [
    "G3.number_of_nodes()"
   ]
  },
  {
   "cell_type": "code",
   "execution_count": 257,
   "metadata": {},
   "outputs": [
    {
     "data": {
      "text/plain": [
       "31620"
      ]
     },
     "execution_count": 257,
     "metadata": {},
     "output_type": "execute_result"
    }
   ],
   "source": [
    "G2.number_of_edges()"
   ]
  },
  {
   "cell_type": "code",
   "execution_count": 258,
   "metadata": {},
   "outputs": [
    {
     "data": {
      "text/plain": [
       "18219"
      ]
     },
     "execution_count": 258,
     "metadata": {},
     "output_type": "execute_result"
    }
   ],
   "source": [
    "G3.number_of_edges()"
   ]
  },
  {
   "cell_type": "code",
   "execution_count": 266,
   "metadata": {},
   "outputs": [
    {
     "name": "stdout",
     "output_type": "stream",
     "text": [
      "LINESTRING (32.5916098 0.3487386, 32.5915968 0.3485911, 32.5915749 0.3483558)\n"
     ]
    }
   ],
   "source": [
    "print(list(G2.edges(data = True))[0][2]['Wkt'])"
   ]
  },
  {
   "cell_type": "code",
   "execution_count": 109,
   "metadata": {},
   "outputs": [],
   "source": [
    "G = gn.sample_raster(G, tif_10_proj_path, property_name = 'flood_depth_10_yr')\n",
    "G = gn.sample_raster(G, tif_50_proj_path, property_name = 'flood_depth_50_yr')\n",
    "G = gn.sample_raster(G, tif_100_proj_path, property_name = 'flood_depth_100_yr')"
   ]
  },
  {
   "cell_type": "code",
   "execution_count": 110,
   "metadata": {},
   "outputs": [],
   "source": [
    "node_gdf = gn.node_gdf_from_graph(G)\n",
    "edge_gdf = gn.edge_gdf_from_graph(G)"
   ]
  },
  {
   "cell_type": "code",
   "execution_count": 67,
   "metadata": {},
   "outputs": [
    {
     "data": {
      "text/plain": [
       "[Text(0, 0.5, 'number of junctions'),\n",
       " Text(0.5, 0, 'water depth (meters)'),\n",
       " Text(0.5, 1.0, 'Water depths for flooded junctions')]"
      ]
     },
     "execution_count": 67,
     "metadata": {},
     "output_type": "execute_result"
    },
    {
     "data": {
      "image/png": "[encoded data removed]",
      "text/plain": [
       "<Figure size 648x432 with 1 Axes>"
      ]
     },
     "metadata": {
      "needs_background": "light"
     },
     "output_type": "display_data"
    }
   ],
   "source": [
    "bins = 50\n",
    "\n",
    "f,ax = plt.subplots(figsize=[9,6])\n",
    "flood_df.flood_depth_100_yr[(flood_df.flood_depth_100_yr>0) & (flood_df.flood_depth_100_yr<1)].hist(ax=ax,label='100 year',alpha=0.5,bins=bins)\n",
    "flood_df.flood_depth_50_yr[(flood_df.flood_depth_50_yr>0) & (flood_df.flood_depth_50_yr<1)].hist(ax=ax,label='50 year',alpha=0.5,bins=bins)\n",
    "flood_df.flood_depth_10_yr[(flood_df.flood_depth_10_yr>0) & (flood_df.flood_depth_10_yr<1)].hist(ax=ax,label='10 year',alpha=0.5,bins=bins)\n",
    "plt.legend()\n",
    "ax.set(xlabel=\"water depth (meters)\", ylabel='number of junctions',title = 'Water depths for flooded junctions')\n"
   ]
  },
  {
   "cell_type": "code",
   "execution_count": null,
   "metadata": {},
   "outputs": [],
   "source": [
    "f,ax = plt.subplots(figsize=[9,6])\n",
    "sns.distplot(flood_df.flood_depth_100_yr[(flood_df.flood_depth_100_yr>0) & (flood_df.flood_depth_100_yr<1)],bins=bins,ax = ax, color = 'b')\n",
    "sns.distplot(flood_df.flood_depth_50_yr[(flood_df.flood_depth_50_yr>0) & (flood_df.flood_depth_50_yr<1)], bins=bins,ax=ax, color='g')\n",
    "sns.distplot(flood_df.flood_depth_10_yr[(flood_df.flood_depth_10_yr>0) & (flood_df.flood_depth_10_yr<1)], bins=bins,ax=ax, color='r')\n",
    "#ax.set_title('Firms in Kampala: What proportion of key business amenities are accessible within {} minutes?'.format(minutes))\n",
    "plt.legend(['100 yr','50 yr', '10 yr'])\n",
    "ax.set(xlabel=\"water depth\", ylabel='percent of junctions',title = 'Water depths for flooded junctions');"
   ]
  },
  {
   "cell_type": "markdown",
   "metadata": {},
   "source": [
    "#### 4. How much of the network does this affect?\n",
    "Is it a big effect, or are only a small minority of junctions flooded, hence not much of the network degrades?"
   ]
  },
  {
   "cell_type": "code",
   "execution_count": 111,
   "metadata": {},
   "outputs": [],
   "source": [
    "n_nodes = flood_df.shape[0]\n",
    "n_edges = edge_gdf.shape[0]"
   ]
  },
  {
   "cell_type": "code",
   "execution_count": 305,
   "metadata": {},
   "outputs": [
    {
     "data": {
      "text/plain": [
       "[Text(0, 0.5, '%'),\n",
       " Text(0.5, 1.0, 'Percent nodes where water level > 0.4 meters')]"
      ]
     },
     "execution_count": 305,
     "metadata": {},
     "output_type": "execute_result"
    },
    {
     "data": {
      "image/png": "[encoded data removed]",
      "text/plain": [
       "<Figure size 432x288 with 1 Axes>"
      ]
     },
     "metadata": {
      "needs_background": "light"
     },
     "output_type": "display_data"
    },
    {
     "data": {
      "image/png": "[encoded data removed]",
      "text/plain": [
       "<Figure size 432x288 with 1 Axes>"
      ]
     },
     "metadata": {
      "needs_background": "light"
     },
     "output_type": "display_data"
    },
    {
     "data": {
      "image/png": "[encoded data removed]",
      "text/plain": [
       "<Figure size 432x288 with 1 Axes>"
      ]
     },
     "metadata": {
      "needs_background": "light"
     },
     "output_type": "display_data"
    }
   ],
   "source": [
    "threshold1 = 0.15\n",
    "threshold2 = 0.4\n",
    "\n",
    "positive_10yr_percent =  flood_df.flood_depth_10_yr[flood_df.flood_depth_10_yr>0].count()\n",
    "positive_50yr_percent =  flood_df.flood_depth_50_yr[flood_df.flood_depth_50_yr>0].count()\n",
    "positive_100yr_percent =  flood_df.flood_depth_100_yr[flood_df.flood_depth_100_yr>0].count()\n",
    "\n",
    "above_threshold1_10yr_percent =  flood_df.flood_depth_10_yr[flood_df.flood_depth_10_yr>threshold1].count() / n_nodes * 100\n",
    "above_threshold1_50yr_percent =  flood_df.flood_depth_50_yr[flood_df.flood_depth_50_yr>threshold1].count() / n_nodes * 100\n",
    "above_threshold1_100yr_percent =  flood_df.flood_depth_100_yr[flood_df.flood_depth_100_yr>threshold1].count() / n_nodes * 100\n",
    "\n",
    "above_threshold2_10yr_percent =  flood_df.flood_depth_10_yr[flood_df.flood_depth_10_yr>threshold2].count() / n_nodes * 100\n",
    "above_threshold2_50yr_percent =  flood_df.flood_depth_50_yr[flood_df.flood_depth_50_yr>threshold2].count() / n_nodes * 100\n",
    "above_threshold2_100yr_percent =  flood_df.flood_depth_100_yr[flood_df.flood_depth_100_yr>threshold2].count() / n_nodes * 100\n",
    "\n",
    "f,ax = plt.subplots()\n",
    "labels = ['10 year','50 year','100 year']\n",
    "values = [positive_10yr_percent,positive_50yr_percent,positive_100yr_percent]\n",
    "plt.bar(labels,values)\n",
    "ax.set(title = 'Percent nodes where water level > 0', ylabel = '%')\n",
    "\n",
    "f1,ax1 = plt.subplots()\n",
    "labels = ['10 year','50 year','100 year']\n",
    "values = [above_threshold1_10yr_percent,above_threshold1_50yr_percent,above_threshold1_100yr_percent]\n",
    "ax1.bar(labels,values,color='g')\n",
    "ax1.set(title = 'Percent nodes where water level > {} meters'.format(threshold1), ylabel = '%')\n",
    "\n",
    "f2,ax2 = plt.subplots()\n",
    "labels = ['10 year','50 year','100 year']\n",
    "values = [above_threshold2_10yr_percent,above_threshold2_50yr_percent,above_threshold2_100yr_percent]\n",
    "ax2.bar(labels,values,color='orange')\n",
    "ax2.set(title = 'Percent nodes where water level > {} meters'.format(threshold2), ylabel = '%')\n"
   ]
  },
  {
   "cell_type": "markdown",
   "metadata": {},
   "source": [
    "### --> Basically it doesn't affect that many of the nodes.\n",
    "* Only 4% of nodes have any water at all.\n",
    "* Only 2% have more than 15 centimeters in a 10-yr event (3% in a 100-yr event)\n",
    "* Less than 1% are knocked out according to a 40-centimeter threshold.\n",
    "\n",
    "Should we buffer the nodes and take the largest value within the surrounding x pixels?"
   ]
  },
  {
   "cell_type": "markdown",
   "metadata": {},
   "source": [
    "#### 5. Create the degraded road networks"
   ]
  },
  {
   "cell_type": "code",
   "execution_count": 113,
   "metadata": {},
   "outputs": [],
   "source": [
    "speed_dict = {  'residential': 20,  # kmph\n",
    "                'primary': 40, # kmph\n",
    "                'primary_link':35,\n",
    "                'motorway':45,\n",
    "                'motorway_link': 40,\n",
    "                'trunk': 40,\n",
    "                'trunk_link':35,\n",
    "                'secondary': 30, # kmph\n",
    "                'secondary_link':25,\n",
    "                'tertiary':30,\n",
    "                'tertiary_link': 25,\n",
    "                'unclassified':20, \n",
    "                'road':20,\n",
    "                'crossing':20,\n",
    "                'living_street':20\n",
    "                }"
   ]
  },
  {
   "cell_type": "code",
   "execution_count": 114,
   "metadata": {},
   "outputs": [],
   "source": [
    "G = gn.convert_network_to_time(G, distance_tag = 'length', speed_dict = speed_dict)"
   ]
  },
  {
   "cell_type": "code",
   "execution_count": 115,
   "metadata": {},
   "outputs": [
    {
     "name": "stdout",
     "output_type": "stream",
     "text": [
      "(6241026052, {'y': 0.3487386, 'x': 32.5916098, 'osmid': 6241026052, 'flood_depth_10_yr': -32767.0, 'flood_depth_50_yr': -32767.0, 'flood_depth_100_yr': -32767.0})\n"
     ]
    }
   ],
   "source": [
    "gn.example_node(G)"
   ]
  },
  {
   "cell_type": "code",
   "execution_count": 130,
   "metadata": {},
   "outputs": [
    {
     "name": "stdout",
     "output_type": "stream",
     "text": [
      "10 year:\n",
      "nodes disrupted: 49\n",
      "edges disrupted: 155\n",
      "\n",
      "50 year:\n",
      "nodes disrupted: 95\n",
      "edges disrupted: 295\n",
      "\n",
      "100 year:\n",
      "nodes disrupted: 120\n",
      "edges disrupted: 364\n"
     ]
    }
   ],
   "source": [
    "my_flood_depth = 0.4\n",
    "fail_value = 999999999999999\n",
    "\n",
    "G_flood10 = G.copy()\n",
    "G_flood50 = G.copy()\n",
    "G_flood100 = G.copy()\n",
    "\n",
    "print(\"10 year:\")\n",
    "G_flood10 = gn.disrupt_network(G_flood10, 'flood_depth_10_yr', my_flood_depth, fail_value)\n",
    "\n",
    "print()\n",
    "print(\"50 year:\")\n",
    "G_flood50 = gn.disrupt_network(G_flood50, 'flood_depth_50_yr', my_flood_depth, fail_value)\n",
    "\n",
    "print()\n",
    "print(\"100 year:\")\n",
    "G_flood100 = gn.disrupt_network(G_flood100, 'flood_depth_100_yr', my_flood_depth, fail_value)\n"
   ]
  },
  {
   "cell_type": "code",
   "execution_count": 120,
   "metadata": {},
   "outputs": [
    {
     "name": "stdout",
     "output_type": "stream",
     "text": [
      "15 centimeter threshold:\n",
      "10-year flood disrupts 2.22 % of nodes and 2.91 % of edges\n",
      "50-year flood disrupts 3.03 % of nodes and 3.84 % of edges\n",
      "100-year flood disrupts 3.35 % of nodes and 4.26 % of edges\n"
     ]
    }
   ],
   "source": [
    "print(\"15 centimeter threshold:\")\n",
    "print(\"10-year flood disrupts {:.2f} % of nodes and {:.2f} % of edges\".format (304/n_nodes * 100, 921/n_edges * 100))\n",
    "print(\"50-year flood disrupts {:.2f} % of nodes and {:.2f} % of edges\".format (415/n_nodes * 100, 1213/n_edges * 100))\n",
    "print(\"100-year flood disrupts {:.2f} % of nodes and {:.2f} % of edges\".format (459/n_nodes * 100, 1347/n_edges * 100))"
   ]
  },
  {
   "cell_type": "code",
   "execution_count": 129,
   "metadata": {},
   "outputs": [
    {
     "name": "stdout",
     "output_type": "stream",
     "text": [
      "25 centimeter threshold:\n",
      "10-year flood disrupts 1.15 % of nodes and 1.50 % of edges\n",
      "50-year flood disrupts 1.61 % of nodes and 2.08 % of edges\n",
      "100-year flood disrupts 2.01 % of nodes and 2.49 % of edges\n"
     ]
    }
   ],
   "source": [
    "print(\"25 centimeter threshold:\")\n",
    "print(\"10-year flood disrupts {:.2f} % of nodes and {:.2f} % of edges\".format (157/n_nodes * 100, 474/n_edges * 100))\n",
    "print(\"50-year flood disrupts {:.2f} % of nodes and {:.2f} % of edges\".format (221/n_nodes * 100, 658/n_edges * 100))\n",
    "print(\"100-year flood disrupts {:.2f} % of nodes and {:.2f} % of edges\".format (275/n_nodes * 100, 788/n_edges * 100))"
   ]
  },
  {
   "cell_type": "code",
   "execution_count": 131,
   "metadata": {},
   "outputs": [
    {
     "name": "stdout",
     "output_type": "stream",
     "text": [
      "40 centimeter threshold:\n",
      "10-year flood disrupts 0.36 % of nodes and 0.49 % of edges\n",
      "50-year flood disrupts 0.69 % of nodes and 0.93 % of edges\n",
      "100-year flood disrupts 0.88 % of nodes and 1.15 % of edges\n"
     ]
    }
   ],
   "source": [
    "print(\"40 centimeter threshold:\")\n",
    "print(\"10-year flood disrupts {:.2f} % of nodes and {:.2f} % of edges\".format (49/n_nodes * 100, 155/n_edges * 100))\n",
    "print(\"50-year flood disrupts {:.2f} % of nodes and {:.2f} % of edges\".format (95/n_nodes * 100, 295/n_edges * 100))\n",
    "print(\"100-year flood disrupts {:.2f} % of nodes and {:.2f} % of edges\".format (120/n_nodes * 100, 364/n_edges * 100))"
   ]
  },
  {
   "cell_type": "markdown",
   "metadata": {},
   "source": [
    "#### 6. Get POIs (destination points)"
   ]
  },
  {
   "cell_type": "code",
   "execution_count": null,
   "metadata": {},
   "outputs": [],
   "source": [
    "# Hospitals"
   ]
  },
  {
   "cell_type": "code",
   "execution_count": 137,
   "metadata": {},
   "outputs": [],
   "source": [
    "bbox = pop_raster.bounds\n",
    "\n",
    "amenities_hospital = ['hospital']\n",
    "amenities_hospital = ['hospital']\n",
    "POIs_health = osm.node_query(bbox[1],bbox[0],bbox[3],bbox[2],tags = '\"amenity\"~\"{}\"'.format('|'.join(amenities_hospital)))"
   ]
  },
  {
   "cell_type": "code",
   "execution_count": 138,
   "metadata": {},
   "outputs": [
    {
     "name": "stderr",
     "output_type": "stream",
     "text": [
      "/anaconda3/envs/geo5/lib/python3.6/site-packages/geopandas/tools/sjoin.py:44: UserWarning: CRS of frames being joined does not match!\n",
      "  warn('CRS of frames being joined does not match!')\n"
     ]
    }
   ],
   "source": [
    "POIs_health = POIs_health[['amenity','name','lat','lon']]\n",
    "\n",
    "POIs_health = gpd.GeoDataFrame(POIs_health)\n",
    "POIs_health['geometry'] = (list(zip(POIs_health.lon,POIs_health.lat)))\n",
    "POIs_health['geometry'] = POIs_health.geometry.apply(lambda x: Point(x))\n",
    "\n",
    "POIs_health = gpd.sjoin(POIs_health,boundary_GDF,how='inner')"
   ]
  },
  {
   "cell_type": "code",
   "execution_count": null,
   "metadata": {},
   "outputs": [],
   "source": [
    "# Business amenities (3300 businesses, stores, gas or mobile phone suppliers, from notebook 4)"
   ]
  },
  {
   "cell_type": "code",
   "execution_count": 151,
   "metadata": {},
   "outputs": [],
   "source": [
    "POIs_biz = gpd.read_file('data/KM_pois/KM_biz_amenities1')"
   ]
  },
  {
   "cell_type": "markdown",
   "metadata": {},
   "source": [
    "#### 7. Get origin points\n",
    "* fishnet of the city\n",
    "* sample of 307 firms from the employment survey"
   ]
  },
  {
   "cell_type": "code",
   "execution_count": 142,
   "metadata": {},
   "outputs": [],
   "source": [
    "make_fishnet('grid_KM.shp',coords[1], coords[3], coords[0], coords[2],500,500) # takes xmin, xmax, ymin, ymax"
   ]
  },
  {
   "cell_type": "code",
   "execution_count": 146,
   "metadata": {},
   "outputs": [],
   "source": [
    "grid=gpd.read_file('grid_KM.shp')"
   ]
  },
  {
   "cell_type": "code",
   "execution_count": 143,
   "metadata": {},
   "outputs": [],
   "source": [
    "ES_points = gpd.read_file('data/points_ES_clipped')"
   ]
  },
  {
   "cell_type": "markdown",
   "metadata": {},
   "source": [
    "#### 8. Visualize Os and Ds"
   ]
  },
  {
   "cell_type": "code",
   "execution_count": 157,
   "metadata": {},
   "outputs": [
    {
     "data": {
      "text/plain": [
       "<matplotlib.legend.Legend at 0x1a49dc9e80>"
      ]
     },
     "execution_count": 157,
     "metadata": {},
     "output_type": "execute_result"
    },
    {
     "data": {
      "image/png": "[encoded data removed]",
      "text/plain": [
       "<Figure size 576x576 with 1 Axes>"
      ]
     },
     "metadata": {
      "needs_background": "light"
     },
     "output_type": "display_data"
    }
   ],
   "source": [
    "f,ax = plt.subplots(figsize=[8,8])\n",
    "grid.plot(ax = ax, color=None, edgecolor='b', alpha = 0.5)\n",
    "show(pop_raster, ax=ax)\n",
    "POIs_biz.plot(ax=ax, color='b', label = 'biz amenity')\n",
    "ES_points.plot(ax=ax, color='r', label = 'firm')\n",
    "plt.title(\"Firms' access to business amenities\")\n",
    "plt.legend()"
   ]
  },
  {
   "cell_type": "markdown",
   "metadata": {},
   "source": [
    "#### 9. Calculate travel times"
   ]
  },
  {
   "cell_type": "code",
   "execution_count": 159,
   "metadata": {},
   "outputs": [
    {
     "name": "stderr",
     "output_type": "stream",
     "text": [
      "/Users/nicholasjones/Desktop/code/network_analysis/GOSTnet.py:1574: FutureWarning: Method .as_matrix will be removed in a future version. Use .values instead.\n",
      "  G_tree = spatial.KDTree(node_gdf[['x','y']].as_matrix())\n",
      "/Users/nicholasjones/Desktop/code/network_analysis/GOSTnet.py:1576: FutureWarning: Method .as_matrix will be removed in a future version. Use .values instead.\n",
      "  distances, indices = G_tree.query(in_df[['x','y']].as_matrix())\n"
     ]
    }
   ],
   "source": [
    "ES_points_nn = gn.pandana_snap(G, ES_points)\n",
    "POIs_biz_nn = gn.pandana_snap(G, POIs_biz)"
   ]
  },
  {
   "cell_type": "code",
   "execution_count": 160,
   "metadata": {},
   "outputs": [],
   "source": [
    "fail_value = 999999999999999"
   ]
  },
  {
   "cell_type": "code",
   "execution_count": 161,
   "metadata": {},
   "outputs": [],
   "source": [
    "list_of_nearest_nodes_ES = list(ES_points_nn.NN)\n",
    "list_of_nearest_nodes_POIs_biz = list(POIs_biz_nn.NN)"
   ]
  },
  {
   "cell_type": "code",
   "execution_count": 167,
   "metadata": {},
   "outputs": [],
   "source": [
    "def calculate_OD(G, origins, destinations, fail_value, weight = 'time'):\n",
    "    #### Function for generating an origin: destination matrix  ####\n",
    "    # REQUIRED: G - a graph containing one or more nodes\n",
    "    #           fail_value - the value to return if the trip cannot be completed (implies some sort of disruption / disconnected nodes)\n",
    "    #           origins - a list of the node IDs to treat as origins points\n",
    "    #           destinations - a list of the node IDs to treat as destination points\n",
    "    # OPTIONAL: weight - use edge weight of 'time' unless otherwise specified\n",
    "    # RETURNS:  a numpy matrix of format OD[o][d] = shortest time possible\n",
    "    # -------------------------------------------------------------------------#\n",
    "\n",
    "    OD = np.zeros((len(origins), len(destinations)))\n",
    "\n",
    "    for o in range(0, len(origins)):\n",
    "        origin = origins[o]\n",
    "        results_dict = nx.single_source_dijkstra_path_length(G, origin, cutoff = None, weight = weight)\n",
    "\n",
    "        for d in range(0, len(destinations)):\n",
    "            destination = destinations[d]\n",
    "            if destination in results_dict.keys():\n",
    "                OD[o][d] = results_dict[destination]\n",
    "            else:\n",
    "                OD[o][d] = fail_value\n",
    "\n",
    "    return OD"
   ]
  },
  {
   "cell_type": "code",
   "execution_count": 170,
   "metadata": {},
   "outputs": [],
   "source": [
    "baseline_OD_bizaccess = calculate_OD(G, list_of_nearest_nodes_ES, list_of_nearest_nodes_POIs_biz, fail_value, weight='time')"
   ]
  },
  {
   "cell_type": "code",
   "execution_count": 171,
   "metadata": {},
   "outputs": [],
   "source": [
    "flood_OD_bizaccess_10yr = calculate_OD(G_flood10, list_of_nearest_nodes_ES, list_of_nearest_nodes_POIs_biz, fail_value, weight='time')\n",
    "flood_OD_bizaccess_50yr = calculate_OD(G_flood50, list_of_nearest_nodes_ES, list_of_nearest_nodes_POIs_biz, fail_value, weight='time')\n",
    "flood_OD_bizaccess_100yr = calculate_OD(G_flood100, list_of_nearest_nodes_ES, list_of_nearest_nodes_POIs_biz, fail_value, weight='time')"
   ]
  },
  {
   "cell_type": "code",
   "execution_count": 273,
   "metadata": {},
   "outputs": [],
   "source": [
    "baseline_OD_bizaccess_df = pd.DataFrame(baseline_OD_bizaccess, index = list_of_nearest_nodes_ES, columns = list_of_nearest_nodes_POIs_biz)\n",
    "flood_OD_bizaccess_10yr_df = pd.DataFrame(flood_OD_bizaccess_10yr)\n",
    "flood_OD_bizaccess_50yr_df = pd.DataFrame(flood_OD_bizaccess_50yr)\n",
    "flood_OD_bizaccess_100yr_df = pd.DataFrame(flood_OD_bizaccess_100yr)"
   ]
  },
  {
   "cell_type": "code",
   "execution_count": 188,
   "metadata": {},
   "outputs": [
    {
     "data": {
      "image/png": "[encoded data removed]",
      "text/plain": [
       "<Figure size 432x288 with 1 Axes>"
      ]
     },
     "metadata": {
      "needs_background": "light"
     },
     "output_type": "display_data"
    }
   ],
   "source": [
    "pd.Series(baseline_OD.ravel()).hist(bins=20)\n",
    "plt.title(\"Travel times are around 5-20 minutes\");"
   ]
  },
  {
   "cell_type": "code",
   "execution_count": 191,
   "metadata": {},
   "outputs": [
    {
     "data": {
      "text/plain": [
       "900"
      ]
     },
     "execution_count": 191,
     "metadata": {},
     "output_type": "execute_result"
    }
   ],
   "source": [
    "threshold"
   ]
  },
  {
   "cell_type": "markdown",
   "metadata": {},
   "source": [
    "#### 10. How many amenities accessible within x minutes?"
   ]
  },
  {
   "cell_type": "code",
   "execution_count": 185,
   "metadata": {},
   "outputs": [
    {
     "data": {
      "text/html": [
       "<div>\n",
       "<style scoped>\n",
       "    .dataframe tbody tr th:only-of-type {\n",
       "        vertical-align: middle;\n",
       "    }\n",
       "\n",
       "    .dataframe tbody tr th {\n",
       "        vertical-align: top;\n",
       "    }\n",
       "\n",
       "    .dataframe thead th {\n",
       "        text-align: right;\n",
       "    }\n",
       "</style>\n",
       "<table border=\"1\" class=\"dataframe\">\n",
       "  <thead>\n",
       "    <tr style=\"text-align: right;\">\n",
       "      <th></th>\n",
       "      <th>0</th>\n",
       "      <th>1</th>\n",
       "      <th>2</th>\n",
       "      <th>3</th>\n",
       "      <th>4</th>\n",
       "      <th>5</th>\n",
       "      <th>6</th>\n",
       "      <th>7</th>\n",
       "      <th>8</th>\n",
       "      <th>9</th>\n",
       "      <th>...</th>\n",
       "      <th>3297</th>\n",
       "      <th>3298</th>\n",
       "      <th>3299</th>\n",
       "      <th>3300</th>\n",
       "      <th>3301</th>\n",
       "      <th>3302</th>\n",
       "      <th>3303</th>\n",
       "      <th>3304</th>\n",
       "      <th>3305</th>\n",
       "      <th>3306</th>\n",
       "    </tr>\n",
       "  </thead>\n",
       "  <tbody>\n",
       "    <tr>\n",
       "      <th>count</th>\n",
       "      <td>307.000000</td>\n",
       "      <td>307.000000</td>\n",
       "      <td>307.000000</td>\n",
       "      <td>307.000000</td>\n",
       "      <td>307.000000</td>\n",
       "      <td>307.000000</td>\n",
       "      <td>307.000000</td>\n",
       "      <td>307.000000</td>\n",
       "      <td>307.000000</td>\n",
       "      <td>307.000000</td>\n",
       "      <td>...</td>\n",
       "      <td>307.000000</td>\n",
       "      <td>307.000000</td>\n",
       "      <td>307.000000</td>\n",
       "      <td>307.000000</td>\n",
       "      <td>307.000000</td>\n",
       "      <td>307.000000</td>\n",
       "      <td>307.000000</td>\n",
       "      <td>307.000000</td>\n",
       "      <td>307.000000</td>\n",
       "      <td>307.000000</td>\n",
       "    </tr>\n",
       "    <tr>\n",
       "      <th>mean</th>\n",
       "      <td>1013.149236</td>\n",
       "      <td>779.777926</td>\n",
       "      <td>457.838311</td>\n",
       "      <td>490.838021</td>\n",
       "      <td>465.098382</td>\n",
       "      <td>499.395602</td>\n",
       "      <td>561.793610</td>\n",
       "      <td>641.405239</td>\n",
       "      <td>678.659190</td>\n",
       "      <td>877.247337</td>\n",
       "      <td>...</td>\n",
       "      <td>521.724805</td>\n",
       "      <td>509.223158</td>\n",
       "      <td>493.645825</td>\n",
       "      <td>493.645825</td>\n",
       "      <td>481.068086</td>\n",
       "      <td>485.659577</td>\n",
       "      <td>881.733101</td>\n",
       "      <td>486.231028</td>\n",
       "      <td>500.958964</td>\n",
       "      <td>588.736254</td>\n",
       "    </tr>\n",
       "    <tr>\n",
       "      <th>std</th>\n",
       "      <td>324.249214</td>\n",
       "      <td>316.825771</td>\n",
       "      <td>260.931509</td>\n",
       "      <td>277.261255</td>\n",
       "      <td>260.606822</td>\n",
       "      <td>287.137595</td>\n",
       "      <td>291.643322</td>\n",
       "      <td>301.583221</td>\n",
       "      <td>307.386784</td>\n",
       "      <td>234.659734</td>\n",
       "      <td>...</td>\n",
       "      <td>206.521071</td>\n",
       "      <td>210.966590</td>\n",
       "      <td>213.913992</td>\n",
       "      <td>213.913992</td>\n",
       "      <td>214.609985</td>\n",
       "      <td>217.351952</td>\n",
       "      <td>367.715635</td>\n",
       "      <td>271.583669</td>\n",
       "      <td>209.707425</td>\n",
       "      <td>226.484231</td>\n",
       "    </tr>\n",
       "    <tr>\n",
       "      <th>min</th>\n",
       "      <td>11.995560</td>\n",
       "      <td>57.040800</td>\n",
       "      <td>0.000000</td>\n",
       "      <td>18.888360</td>\n",
       "      <td>17.608200</td>\n",
       "      <td>31.418884</td>\n",
       "      <td>89.661420</td>\n",
       "      <td>42.111300</td>\n",
       "      <td>42.074160</td>\n",
       "      <td>243.978840</td>\n",
       "      <td>...</td>\n",
       "      <td>94.094730</td>\n",
       "      <td>80.749980</td>\n",
       "      <td>87.324960</td>\n",
       "      <td>87.324960</td>\n",
       "      <td>86.991634</td>\n",
       "      <td>100.686600</td>\n",
       "      <td>66.835560</td>\n",
       "      <td>43.629000</td>\n",
       "      <td>57.699360</td>\n",
       "      <td>90.106560</td>\n",
       "    </tr>\n",
       "    <tr>\n",
       "      <th>25%</th>\n",
       "      <td>787.437630</td>\n",
       "      <td>558.632629</td>\n",
       "      <td>223.462860</td>\n",
       "      <td>248.271004</td>\n",
       "      <td>240.737329</td>\n",
       "      <td>240.447201</td>\n",
       "      <td>308.528280</td>\n",
       "      <td>380.258700</td>\n",
       "      <td>415.478790</td>\n",
       "      <td>778.066860</td>\n",
       "      <td>...</td>\n",
       "      <td>369.654930</td>\n",
       "      <td>394.825995</td>\n",
       "      <td>362.031150</td>\n",
       "      <td>362.031150</td>\n",
       "      <td>335.599110</td>\n",
       "      <td>330.848659</td>\n",
       "      <td>601.763970</td>\n",
       "      <td>250.912410</td>\n",
       "      <td>392.633430</td>\n",
       "      <td>419.221500</td>\n",
       "    </tr>\n",
       "    <tr>\n",
       "      <th>50%</th>\n",
       "      <td>929.447100</td>\n",
       "      <td>744.879810</td>\n",
       "      <td>435.286800</td>\n",
       "      <td>467.052300</td>\n",
       "      <td>480.162737</td>\n",
       "      <td>485.122607</td>\n",
       "      <td>529.832760</td>\n",
       "      <td>593.090220</td>\n",
       "      <td>631.944030</td>\n",
       "      <td>842.993820</td>\n",
       "      <td>...</td>\n",
       "      <td>504.540420</td>\n",
       "      <td>452.972310</td>\n",
       "      <td>442.167390</td>\n",
       "      <td>442.167390</td>\n",
       "      <td>432.151174</td>\n",
       "      <td>451.088289</td>\n",
       "      <td>933.513000</td>\n",
       "      <td>466.802310</td>\n",
       "      <td>444.195120</td>\n",
       "      <td>557.848230</td>\n",
       "    </tr>\n",
       "    <tr>\n",
       "      <th>75%</th>\n",
       "      <td>1367.323140</td>\n",
       "      <td>995.122635</td>\n",
       "      <td>621.547200</td>\n",
       "      <td>742.792719</td>\n",
       "      <td>713.669220</td>\n",
       "      <td>764.360310</td>\n",
       "      <td>815.820510</td>\n",
       "      <td>908.727990</td>\n",
       "      <td>952.428630</td>\n",
       "      <td>1018.025745</td>\n",
       "      <td>...</td>\n",
       "      <td>600.877740</td>\n",
       "      <td>604.052925</td>\n",
       "      <td>592.031295</td>\n",
       "      <td>592.031295</td>\n",
       "      <td>568.901241</td>\n",
       "      <td>572.083230</td>\n",
       "      <td>1108.074120</td>\n",
       "      <td>720.015510</td>\n",
       "      <td>587.190420</td>\n",
       "      <td>726.051981</td>\n",
       "    </tr>\n",
       "    <tr>\n",
       "      <th>max</th>\n",
       "      <td>1772.385840</td>\n",
       "      <td>1759.697310</td>\n",
       "      <td>1375.945440</td>\n",
       "      <td>1310.688030</td>\n",
       "      <td>1276.971990</td>\n",
       "      <td>1238.428050</td>\n",
       "      <td>1354.063710</td>\n",
       "      <td>1395.673530</td>\n",
       "      <td>1403.375190</td>\n",
       "      <td>1688.936580</td>\n",
       "      <td>...</td>\n",
       "      <td>1635.798390</td>\n",
       "      <td>1633.321080</td>\n",
       "      <td>1653.851700</td>\n",
       "      <td>1653.851700</td>\n",
       "      <td>1653.518374</td>\n",
       "      <td>1660.046460</td>\n",
       "      <td>2183.561910</td>\n",
       "      <td>1319.815950</td>\n",
       "      <td>1610.270460</td>\n",
       "      <td>1607.701560</td>\n",
       "    </tr>\n",
       "  </tbody>\n",
       "</table>\n",
       "<p>8 rows × 3307 columns</p>\n",
       "</div>"
      ],
      "text/plain": [
       "              0            1            2            3            4     \\\n",
       "count   307.000000   307.000000   307.000000   307.000000   307.000000   \n",
       "mean   1013.149236   779.777926   457.838311   490.838021   465.098382   \n",
       "std     324.249214   316.825771   260.931509   277.261255   260.606822   \n",
       "min      11.995560    57.040800     0.000000    18.888360    17.608200   \n",
       "25%     787.437630   558.632629   223.462860   248.271004   240.737329   \n",
       "50%     929.447100   744.879810   435.286800   467.052300   480.162737   \n",
       "75%    1367.323140   995.122635   621.547200   742.792719   713.669220   \n",
       "max    1772.385840  1759.697310  1375.945440  1310.688030  1276.971990   \n",
       "\n",
       "              5            6            7            8            9     ...  \\\n",
       "count   307.000000   307.000000   307.000000   307.000000   307.000000  ...   \n",
       "mean    499.395602   561.793610   641.405239   678.659190   877.247337  ...   \n",
       "std     287.137595   291.643322   301.583221   307.386784   234.659734  ...   \n",
       "min      31.418884    89.661420    42.111300    42.074160   243.978840  ...   \n",
       "25%     240.447201   308.528280   380.258700   415.478790   778.066860  ...   \n",
       "50%     485.122607   529.832760   593.090220   631.944030   842.993820  ...   \n",
       "75%     764.360310   815.820510   908.727990   952.428630  1018.025745  ...   \n",
       "max    1238.428050  1354.063710  1395.673530  1403.375190  1688.936580  ...   \n",
       "\n",
       "              3297         3298         3299         3300         3301  \\\n",
       "count   307.000000   307.000000   307.000000   307.000000   307.000000   \n",
       "mean    521.724805   509.223158   493.645825   493.645825   481.068086   \n",
       "std     206.521071   210.966590   213.913992   213.913992   214.609985   \n",
       "min      94.094730    80.749980    87.324960    87.324960    86.991634   \n",
       "25%     369.654930   394.825995   362.031150   362.031150   335.599110   \n",
       "50%     504.540420   452.972310   442.167390   442.167390   432.151174   \n",
       "75%     600.877740   604.052925   592.031295   592.031295   568.901241   \n",
       "max    1635.798390  1633.321080  1653.851700  1653.851700  1653.518374   \n",
       "\n",
       "              3302         3303         3304         3305         3306  \n",
       "count   307.000000   307.000000   307.000000   307.000000   307.000000  \n",
       "mean    485.659577   881.733101   486.231028   500.958964   588.736254  \n",
       "std     217.351952   367.715635   271.583669   209.707425   226.484231  \n",
       "min     100.686600    66.835560    43.629000    57.699360    90.106560  \n",
       "25%     330.848659   601.763970   250.912410   392.633430   419.221500  \n",
       "50%     451.088289   933.513000   466.802310   444.195120   557.848230  \n",
       "75%     572.083230  1108.074120   720.015510   587.190420   726.051981  \n",
       "max    1660.046460  2183.561910  1319.815950  1610.270460  1607.701560  \n",
       "\n",
       "[8 rows x 3307 columns]"
      ]
     },
     "execution_count": 185,
     "metadata": {},
     "output_type": "execute_result"
    }
   ],
   "source": [
    "baseline_OD_bizaccess_df.describe()"
   ]
  },
  {
   "cell_type": "code",
   "execution_count": 205,
   "metadata": {},
   "outputs": [],
   "source": [
    "minutes = 15\n",
    "threshold = minutes * 60       # Set a threshold (minutes * 60)"
   ]
  },
  {
   "cell_type": "code",
   "execution_count": 200,
   "metadata": {},
   "outputs": [],
   "source": [
    "baseline_number_reachable = baseline_OD_bizaccess_df[baseline_OD_bizaccess_df < threshold].count(axis=1)\n",
    "flood_10_number_reachable = flood_OD_bizaccess_10yr_df[flood_OD_bizaccess_10yr_df < threshold].count(axis=1)\n",
    "flood_50_number_reachable = flood_OD_bizaccess_50yr_df[flood_OD_bizaccess_50yr_df < threshold].count(axis=1)\n",
    "flood_100_number_reachable = flood_OD_bizaccess_100yr_df[flood_OD_bizaccess_100yr_df < threshold].count(axis=1)"
   ]
  },
  {
   "cell_type": "code",
   "execution_count": 206,
   "metadata": {},
   "outputs": [
    {
     "data": {
      "image/png": "[encoded data removed]",
      "text/plain": [
       "<Figure size 648x432 with 1 Axes>"
      ]
     },
     "metadata": {
      "needs_background": "light"
     },
     "output_type": "display_data"
    }
   ],
   "source": [
    "f,ax = plt.subplots(figsize=[9,6])\n",
    "ax = sns.kdeplot(baseline_number_reachable,shade=True)\n",
    "\n",
    "sns.kdeplot(flood_10_number_reachable, ax=ax, color='g',shade=True)\n",
    "#sns.kdeplot(flood_50_number_reachable, ax=ax, color='y',shade=True)\n",
    "sns.kdeplot(flood_100_number_reachable, ax=ax, color='r',shade=True)\n",
    "ax.set_title('Firms in Kampala: What proportion of key business amenities are accessible within {} minutes?'.format(minutes))\n",
    "plt.legend(['No flood','10-year flood','50-year flood'])\n",
    "ax.set_yticklabels([])\n",
    "ax.set(xlabel=\"number of amenities\", ylabel='percentage of firms');"
   ]
  },
  {
   "cell_type": "code",
   "execution_count": 304,
   "metadata": {},
   "outputs": [
    {
     "name": "stdout",
     "output_type": "stream",
     "text": [
      "6247482371\n",
      "Index([6247482371, 'dummy'], dtype='object')\n",
      "560478218\n",
      "Index([560478218, 560478218, 560478218, 560478218, 560478218, 560478218,\n",
      "       560478218, 560478218, 560478218, 560478218,   'dummy'],\n",
      "      dtype='object')\n"
     ]
    },
    {
     "ename": "ValueError",
     "evalue": "Length mismatch: Expected axis has 11 elements, new values have 2 elements",
     "output_type": "error",
     "traceback": [
      "\u001b[0;31m---------------------------------------------------------------------------\u001b[0m",
      "\u001b[0;31mValueError\u001b[0m                                Traceback (most recent call last)",
      "\u001b[0;32m<ipython-input-304-1ad9cb04a0fa>\u001b[0m in \u001b[0;36m<module>\u001b[0;34m\u001b[0m\n\u001b[1;32m      9\u001b[0m     \u001b[0ma\u001b[0m \u001b[0;34m=\u001b[0m \u001b[0mnew\u001b[0m\u001b[0;34m[\u001b[0m\u001b[0;34m[\u001b[0m\u001b[0mc\u001b[0m\u001b[0;34m,\u001b[0m \u001b[0;34m'dummy'\u001b[0m\u001b[0;34m]\u001b[0m\u001b[0;34m]\u001b[0m\u001b[0;34m\u001b[0m\u001b[0;34m\u001b[0m\u001b[0m\n\u001b[1;32m     10\u001b[0m     \u001b[0mprint\u001b[0m\u001b[0;34m(\u001b[0m\u001b[0ma\u001b[0m\u001b[0;34m.\u001b[0m\u001b[0mcolumns\u001b[0m\u001b[0;34m)\u001b[0m\u001b[0;34m\u001b[0m\u001b[0;34m\u001b[0m\u001b[0m\n\u001b[0;32m---> 11\u001b[0;31m     \u001b[0ma\u001b[0m\u001b[0;34m.\u001b[0m\u001b[0mcolumns\u001b[0m \u001b[0;34m=\u001b[0m \u001b[0;34m[\u001b[0m\u001b[0;34m'real'\u001b[0m\u001b[0;34m,\u001b[0m\u001b[0;34m'dummy'\u001b[0m\u001b[0;34m]\u001b[0m\u001b[0;34m\u001b[0m\u001b[0;34m\u001b[0m\u001b[0m\n\u001b[0m\u001b[1;32m     12\u001b[0m     \u001b[0ma\u001b[0m \u001b[0;34m=\u001b[0m \u001b[0ma\u001b[0m\u001b[0;34m.\u001b[0m\u001b[0msort_values\u001b[0m\u001b[0;34m(\u001b[0m\u001b[0mby\u001b[0m \u001b[0;34m=\u001b[0m \u001b[0;34m'real'\u001b[0m\u001b[0;34m,\u001b[0m \u001b[0mascending\u001b[0m \u001b[0;34m=\u001b[0m \u001b[0;32mTrue\u001b[0m\u001b[0;34m)\u001b[0m\u001b[0;34m\u001b[0m\u001b[0;34m\u001b[0m\u001b[0m\n\u001b[1;32m     13\u001b[0m     \u001b[0ma\u001b[0m \u001b[0;34m=\u001b[0m \u001b[0ma\u001b[0m\u001b[0;34m[\u001b[0m\u001b[0;34m:\u001b[0m\u001b[0;36m5\u001b[0m\u001b[0;34m]\u001b[0m\u001b[0;34m\u001b[0m\u001b[0;34m\u001b[0m\u001b[0m\n",
      "\u001b[0;32m/anaconda3/envs/geo5/lib/python3.6/site-packages/pandas/core/generic.py\u001b[0m in \u001b[0;36m__setattr__\u001b[0;34m(self, name, value)\u001b[0m\n\u001b[1;32m   5078\u001b[0m         \u001b[0;32mtry\u001b[0m\u001b[0;34m:\u001b[0m\u001b[0;34m\u001b[0m\u001b[0;34m\u001b[0m\u001b[0m\n\u001b[1;32m   5079\u001b[0m             \u001b[0mobject\u001b[0m\u001b[0;34m.\u001b[0m\u001b[0m__getattribute__\u001b[0m\u001b[0;34m(\u001b[0m\u001b[0mself\u001b[0m\u001b[0;34m,\u001b[0m \u001b[0mname\u001b[0m\u001b[0;34m)\u001b[0m\u001b[0;34m\u001b[0m\u001b[0;34m\u001b[0m\u001b[0m\n\u001b[0;32m-> 5080\u001b[0;31m             \u001b[0;32mreturn\u001b[0m \u001b[0mobject\u001b[0m\u001b[0;34m.\u001b[0m\u001b[0m__setattr__\u001b[0m\u001b[0;34m(\u001b[0m\u001b[0mself\u001b[0m\u001b[0;34m,\u001b[0m \u001b[0mname\u001b[0m\u001b[0;34m,\u001b[0m \u001b[0mvalue\u001b[0m\u001b[0;34m)\u001b[0m\u001b[0;34m\u001b[0m\u001b[0;34m\u001b[0m\u001b[0m\n\u001b[0m\u001b[1;32m   5081\u001b[0m         \u001b[0;32mexcept\u001b[0m \u001b[0mAttributeError\u001b[0m\u001b[0;34m:\u001b[0m\u001b[0;34m\u001b[0m\u001b[0;34m\u001b[0m\u001b[0m\n\u001b[1;32m   5082\u001b[0m             \u001b[0;32mpass\u001b[0m\u001b[0;34m\u001b[0m\u001b[0;34m\u001b[0m\u001b[0m\n",
      "\u001b[0;32mpandas/_libs/properties.pyx\u001b[0m in \u001b[0;36mpandas._libs.properties.AxisProperty.__set__\u001b[0;34m()\u001b[0m\n",
      "\u001b[0;32m/anaconda3/envs/geo5/lib/python3.6/site-packages/pandas/core/generic.py\u001b[0m in \u001b[0;36m_set_axis\u001b[0;34m(self, axis, labels)\u001b[0m\n\u001b[1;32m    636\u001b[0m \u001b[0;34m\u001b[0m\u001b[0m\n\u001b[1;32m    637\u001b[0m     \u001b[0;32mdef\u001b[0m \u001b[0m_set_axis\u001b[0m\u001b[0;34m(\u001b[0m\u001b[0mself\u001b[0m\u001b[0;34m,\u001b[0m \u001b[0maxis\u001b[0m\u001b[0;34m,\u001b[0m \u001b[0mlabels\u001b[0m\u001b[0;34m)\u001b[0m\u001b[0;34m:\u001b[0m\u001b[0;34m\u001b[0m\u001b[0;34m\u001b[0m\u001b[0m\n\u001b[0;32m--> 638\u001b[0;31m         \u001b[0mself\u001b[0m\u001b[0;34m.\u001b[0m\u001b[0m_data\u001b[0m\u001b[0;34m.\u001b[0m\u001b[0mset_axis\u001b[0m\u001b[0;34m(\u001b[0m\u001b[0maxis\u001b[0m\u001b[0;34m,\u001b[0m \u001b[0mlabels\u001b[0m\u001b[0;34m)\u001b[0m\u001b[0;34m\u001b[0m\u001b[0;34m\u001b[0m\u001b[0m\n\u001b[0m\u001b[1;32m    639\u001b[0m         \u001b[0mself\u001b[0m\u001b[0;34m.\u001b[0m\u001b[0m_clear_item_cache\u001b[0m\u001b[0;34m(\u001b[0m\u001b[0;34m)\u001b[0m\u001b[0;34m\u001b[0m\u001b[0;34m\u001b[0m\u001b[0m\n\u001b[1;32m    640\u001b[0m \u001b[0;34m\u001b[0m\u001b[0m\n",
      "\u001b[0;32m/anaconda3/envs/geo5/lib/python3.6/site-packages/pandas/core/internals/managers.py\u001b[0m in \u001b[0;36mset_axis\u001b[0;34m(self, axis, new_labels)\u001b[0m\n\u001b[1;32m    153\u001b[0m             raise ValueError(\n\u001b[1;32m    154\u001b[0m                 \u001b[0;34m'Length mismatch: Expected axis has {old} elements, new '\u001b[0m\u001b[0;34m\u001b[0m\u001b[0;34m\u001b[0m\u001b[0m\n\u001b[0;32m--> 155\u001b[0;31m                 'values have {new} elements'.format(old=old_len, new=new_len))\n\u001b[0m\u001b[1;32m    156\u001b[0m \u001b[0;34m\u001b[0m\u001b[0m\n\u001b[1;32m    157\u001b[0m         \u001b[0mself\u001b[0m\u001b[0;34m.\u001b[0m\u001b[0maxes\u001b[0m\u001b[0;34m[\u001b[0m\u001b[0maxis\u001b[0m\u001b[0;34m]\u001b[0m \u001b[0;34m=\u001b[0m \u001b[0mnew_labels\u001b[0m\u001b[0;34m\u001b[0m\u001b[0;34m\u001b[0m\u001b[0m\n",
      "\u001b[0;31mValueError\u001b[0m: Length mismatch: Expected axis has 11 elements, new values have 2 elements"
     ]
    }
   ],
   "source": [
    "new = baseline_OD_bizaccess_df.transpose()\n",
    "times = []\n",
    "ids = []\n",
    "\n",
    "new['dummy'] = 1\n",
    "\n",
    "for c in range(0, len(new.columns)):\n",
    "    c = new\n",
    "    a = new[[c, 'dummy']]\n",
    "    print(a.columns)\n",
    "    a.columns = ['real','dummy']\n",
    "    a = a.sort_values(by = 'real', ascending = True)\n",
    "    a = a[:5]\n",
    "    times.append(list(a['real']))\n",
    "    ids.append(list(a.index))"
   ]
  },
  {
   "cell_type": "code",
   "execution_count": 301,
   "metadata": {},
   "outputs": [
    {
     "name": "stdout",
     "output_type": "stream",
     "text": [
      "6247482371\n",
      "560478218\n",
      "1691717651\n",
      "353700888\n",
      "579895322\n",
      "1471935516\n",
      "293956129\n",
      "560563709\n",
      "33648167\n",
      "5652114985\n",
      "1600640043\n",
      "2829219887\n",
      "1692890671\n",
      "4003314737\n",
      "1600640050\n",
      "669207543\n",
      "293923382\n",
      "1691717690\n",
      "1416523323\n",
      "1425846334\n",
      "6230806592\n",
      "6229722689\n",
      "2081049669\n",
      "560478279\n",
      "3381466184\n",
      "2292399186\n",
      "293968982\n",
      "6112576093\n",
      "4911454815\n",
      "2096629344\n",
      "576559201\n",
      "4915640929\n",
      "6229407841\n",
      "6229727844\n",
      "556859488\n",
      "6232846947\n",
      "467025513\n",
      "576559721\n",
      "2082532460\n",
      "6240996975\n",
      "3548095601\n",
      "4911401074\n",
      "295065203\n",
      "292841585\n",
      "292861045\n",
      "2192755320\n",
      "669207672\n",
      "560477817\n",
      "1694553724\n",
      "556857469\n",
      "1676610687\n",
      "2080950400\n",
      "6227046017\n",
      "3808231045\n",
      "467025541\n",
      "2521199752\n",
      "3808231049\n",
      "6219819660\n",
      "467020429\n",
      "579896465\n",
      "576404114\n",
      "2082531989\n",
      "292840599\n",
      "579997847\n",
      "576559770\n",
      "2162925210\n",
      "577387165\n",
      "576559777\n",
      "2092077218\n",
      "1423546020\n",
      "294013094\n",
      "294023847\n",
      "6244744870\n",
      "3983347369\n",
      "2081963178\n",
      "1416513703\n",
      "475047598\n",
      "2081945263\n",
      "2080923825\n",
      "6194775730\n",
      "6218700465\n",
      "579997878\n",
      "294023863\n",
      "294023873\n",
      "5232104134\n",
      "565626567\n",
      "556986056\n",
      "2162925260\n",
      "3942793420\n",
      "6243617486\n",
      "2358781135\n",
      "6227375313\n",
      "2082915026\n",
      "1490333906\n",
      "dummy\n",
      "1313207511\n",
      "4957290718\n",
      "2082595039\n",
      "3893455070\n",
      "4964004065\n",
      "4001755876\n",
      "475034342\n",
      "5174138599\n",
      "6229621991\n",
      "6010569450\n",
      "579997941\n",
      "579997942\n",
      "3341955833\n",
      "1732619515\n",
      "5556274427\n",
      "1565135613\n",
      "1313474813\n",
      "3800502529\n",
      "6227732226\n",
      "6010569482\n",
      "6236325130\n",
      "2081952012\n",
      "1806381327\n",
      "353707792\n",
      "6244704022\n",
      "1313437463\n",
      "4427590935\n",
      "565626650\n",
      "560540445\n",
      "292843293\n",
      "4234701598\n",
      "4234701597\n",
      "557330722\n",
      "3381058855\n",
      "579895591\n",
      "353711914\n",
      "4902237995\n",
      "2082612016\n",
      "558115633\n",
      "2082612018\n",
      "2082612017\n",
      "6233745208\n",
      "292841793\n",
      "560478018\n",
      "3983235907\n",
      "292862789\n",
      "5555163977\n",
      "292861257\n",
      "292863824\n",
      "6224618323\n",
      "5573611348\n",
      "565536085\n",
      "3808219478\n",
      "1471811931\n",
      "6230478684\n",
      "6226654558\n",
      "3799573857\n",
      "2080805220\n",
      "2080941927\n",
      "577607016\n",
      "353910634\n",
      "292841322\n",
      "6225197420\n",
      "4412253037\n",
      "292841323\n",
      "576559475\n",
      "467122552\n",
      "6229520252\n",
      "6225506173\n",
      "1694545282\n",
      "576404866\n",
      "4003314563\n",
      "2082920837\n",
      "2082916743\n",
      "6149037449\n",
      "459697548\n",
      "4933371284\n",
      "2097697690\n",
      "560563613\n",
      "2348295072\n",
      "6230470048\n",
      "560477090\n",
      "475032994\n",
      "5183330721\n",
      "479223210\n",
      "560540587\n",
      "576404394\n",
      "602019246\n",
      "2341566384\n",
      "3942871988\n",
      "292851128\n",
      "560477116\n",
      "1755123138\n",
      "353726404\n",
      "579895239\n",
      "3804314569\n",
      "579895753\n",
      "5459055049\n",
      "3406755788\n",
      "2082614221\n",
      "6182558670\n",
      "2560874965\n",
      "1795722205\n",
      "3804314087\n",
      "560478185\n",
      "560477164\n",
      "3804314093\n",
      "1676596718\n",
      "6225456623\n",
      "1697637873\n",
      "2069894643\n",
      "6199032819\n",
      "292862965\n",
      "560477686\n",
      "583284215\n",
      "583284216\n",
      "583284219\n",
      "6192360445\n"
     ]
    }
   ],
   "source": [
    "for c in list(set(new.columns)):\n",
    "    print(c)"
   ]
  },
  {
   "cell_type": "code",
   "execution_count": null,
   "metadata": {},
   "outputs": [],
   "source": []
  },
  {
   "cell_type": "code",
   "execution_count": null,
   "metadata": {},
   "outputs": [],
   "source": []
  }
 ],
 "metadata": {
  "kernelspec": {
   "display_name": "geo5",
   "language": "python",
   "name": "geo5"
  },
  "language_info": {
   "codemirror_mode": {
    "name": "ipython",
    "version": 3
   },
   "file_extension": ".py",
   "mimetype": "text/x-python",
   "name": "python",
   "nbconvert_exporter": "python",
   "pygments_lexer": "ipython3",
   "version": "3.6.7"
  }
 },
 "nbformat": 4,
 "nbformat_minor": 2
}
