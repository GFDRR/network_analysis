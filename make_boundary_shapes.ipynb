{
 "cells": [
  {
   "cell_type": "code",
   "execution_count": 1,
   "metadata": {},
   "outputs": [
    {
     "name": "stdout",
     "output_type": "stream",
     "text": [
      "Populating the interactive namespace from numpy and matplotlib\n",
      "peartree version: 0.6.1 \n",
      "networkx version: 2.2 \n",
      "matplotlib version: 3.0.2 \n",
      "osmnx version: 0.9 \n"
     ]
    }
   ],
   "source": [
    "import warnings\n",
    "warnings.filterwarnings(\"ignore\")\n",
    "import pandas as pd\n",
    "from pandana.loaders import osm\n",
    "import pandana\n",
    "%pylab inline\n",
    "\n",
    "import numpy as np\n",
    "import osmnx as ox\n",
    "import networkx as nx\n",
    "import peartree\n",
    "import sys, os\n",
    "import geopandas as gpd\n",
    "import rasterio\n",
    "from pandana.loaders import osm\n",
    "from shapely.geometry import Point\n",
    "#import mplleaflet as mpll\n",
    "from osgeo import ogr\n",
    "from math import ceil, cos, pi\n",
    "import geocoder\n",
    "\n",
    "import GOSTnet as gn\n",
    "from make_fishnet import make_fishnet\n",
    "from rasterio.features import rasterize\n",
    "from rasterio.plot import show"
   ]
  },
  {
   "cell_type": "markdown",
   "metadata": {},
   "source": [
    "## Create data for city access maps"
   ]
  },
  {
   "cell_type": "code",
   "execution_count": 33,
   "metadata": {},
   "outputs": [],
   "source": [
    "city_data = pd.DataFrame({\"city\":\n",
    "        [\"Ulaan Baatar\",\n",
    "          \"Montevideo\",\n",
    "          \"Lima, Peru\"],\n",
    "             \"which\":\n",
    "            [0,0,0],\n",
    "            \"file_name\":\n",
    "            ['UB', 'Montevideo', 'Lima']})"
   ]
  },
  {
   "cell_type": "code",
   "execution_count": 34,
   "metadata": {},
   "outputs": [
    {
     "data": {
      "text/html": [
       "<div>\n",
       "<style scoped>\n",
       "    .dataframe tbody tr th:only-of-type {\n",
       "        vertical-align: middle;\n",
       "    }\n",
       "\n",
       "    .dataframe tbody tr th {\n",
       "        vertical-align: top;\n",
       "    }\n",
       "\n",
       "    .dataframe thead th {\n",
       "        text-align: right;\n",
       "    }\n",
       "</style>\n",
       "<table border=\"1\" class=\"dataframe\">\n",
       "  <thead>\n",
       "    <tr style=\"text-align: right;\">\n",
       "      <th></th>\n",
       "      <th>city</th>\n",
       "      <th>which</th>\n",
       "      <th>file_name</th>\n",
       "    </tr>\n",
       "  </thead>\n",
       "  <tbody>\n",
       "    <tr>\n",
       "      <th>0</th>\n",
       "      <td>Ulaan Baatar</td>\n",
       "      <td>0</td>\n",
       "      <td>UB</td>\n",
       "    </tr>\n",
       "    <tr>\n",
       "      <th>1</th>\n",
       "      <td>Montevideo</td>\n",
       "      <td>0</td>\n",
       "      <td>Montevideo</td>\n",
       "    </tr>\n",
       "    <tr>\n",
       "      <th>2</th>\n",
       "      <td>Lima, Peru</td>\n",
       "      <td>0</td>\n",
       "      <td>Lima</td>\n",
       "    </tr>\n",
       "  </tbody>\n",
       "</table>\n",
       "</div>"
      ],
      "text/plain": [
       "           city  which   file_name\n",
       "0  Ulaan Baatar      0          UB\n",
       "1    Montevideo      0  Montevideo\n",
       "2    Lima, Peru      0        Lima"
      ]
     },
     "execution_count": 34,
     "metadata": {},
     "output_type": "execute_result"
    }
   ],
   "source": [
    "city_data.head()"
   ]
  },
  {
   "cell_type": "code",
   "execution_count": 49,
   "metadata": {},
   "outputs": [],
   "source": [
    "def get_gdf(row):\n",
    "    gdf = ox.gdf_from_place(row['city'], which_result = row['which'])\n",
    "    return(gdf)"
   ]
  },
  {
   "cell_type": "code",
   "execution_count": 50,
   "metadata": {},
   "outputs": [],
   "source": [
    "city_data['gdf'] = city_data.apply(get_gdf, axis=1)"
   ]
  },
  {
   "cell_type": "code",
   "execution_count": 51,
   "metadata": {},
   "outputs": [
    {
     "data": {
      "text/html": [
       "<div>\n",
       "<style scoped>\n",
       "    .dataframe tbody tr th:only-of-type {\n",
       "        vertical-align: middle;\n",
       "    }\n",
       "\n",
       "    .dataframe tbody tr th {\n",
       "        vertical-align: top;\n",
       "    }\n",
       "\n",
       "    .dataframe thead th {\n",
       "        text-align: right;\n",
       "    }\n",
       "</style>\n",
       "<table border=\"1\" class=\"dataframe\">\n",
       "  <thead>\n",
       "    <tr style=\"text-align: right;\">\n",
       "      <th></th>\n",
       "      <th>city</th>\n",
       "      <th>which</th>\n",
       "      <th>file_name</th>\n",
       "      <th>gdf</th>\n",
       "    </tr>\n",
       "  </thead>\n",
       "  <tbody>\n",
       "    <tr>\n",
       "      <th>0</th>\n",
       "      <td>Ulaan Baatar</td>\n",
       "      <td>0</td>\n",
       "      <td>UB</td>\n",
       "      <td>bbox_east  bbox_north  bbox_south   bbox_w...</td>\n",
       "    </tr>\n",
       "    <tr>\n",
       "      <th>1</th>\n",
       "      <td>Montevideo</td>\n",
       "      <td>0</td>\n",
       "      <td>Montevideo</td>\n",
       "      <td>bbox_east  bbox_north  bbox_south  bbox_wes...</td>\n",
       "    </tr>\n",
       "    <tr>\n",
       "      <th>2</th>\n",
       "      <td>Lima, Peru</td>\n",
       "      <td>0</td>\n",
       "      <td>Lima</td>\n",
       "      <td>bbox_east  bbox_north  bbox_south  bbox_wes...</td>\n",
       "    </tr>\n",
       "  </tbody>\n",
       "</table>\n",
       "</div>"
      ],
      "text/plain": [
       "           city  which   file_name  \\\n",
       "0  Ulaan Baatar      0          UB   \n",
       "1    Montevideo      0  Montevideo   \n",
       "2    Lima, Peru      0        Lima   \n",
       "\n",
       "                                                 gdf  \n",
       "0      bbox_east  bbox_north  bbox_south   bbox_w...  \n",
       "1     bbox_east  bbox_north  bbox_south  bbox_wes...  \n",
       "2     bbox_east  bbox_north  bbox_south  bbox_wes...  "
      ]
     },
     "execution_count": 51,
     "metadata": {},
     "output_type": "execute_result"
    }
   ],
   "source": [
    "city_data.head()"
   ]
  },
  {
   "cell_type": "code",
   "execution_count": 64,
   "metadata": {},
   "outputs": [
    {
     "data": {
      "text/html": [
       "<div>\n",
       "<style scoped>\n",
       "    .dataframe tbody tr th:only-of-type {\n",
       "        vertical-align: middle;\n",
       "    }\n",
       "\n",
       "    .dataframe tbody tr th {\n",
       "        vertical-align: top;\n",
       "    }\n",
       "\n",
       "    .dataframe thead th {\n",
       "        text-align: right;\n",
       "    }\n",
       "</style>\n",
       "<table border=\"1\" class=\"dataframe\">\n",
       "  <thead>\n",
       "    <tr style=\"text-align: right;\">\n",
       "      <th></th>\n",
       "      <th>bbox_east</th>\n",
       "      <th>bbox_north</th>\n",
       "      <th>bbox_south</th>\n",
       "      <th>bbox_west</th>\n",
       "      <th>geometry</th>\n",
       "      <th>place_name</th>\n",
       "    </tr>\n",
       "  </thead>\n",
       "  <tbody>\n",
       "    <tr>\n",
       "      <th>0</th>\n",
       "      <td>107.578164</td>\n",
       "      <td>48.257157</td>\n",
       "      <td>47.635288</td>\n",
       "      <td>106.356383</td>\n",
       "      <td>POLYGON ((106.356383 48.257157, 106.376367 48....</td>\n",
       "      <td>Ulaanbaatar, Mongolia</td>\n",
       "    </tr>\n",
       "  </tbody>\n",
       "</table>\n",
       "</div>"
      ],
      "text/plain": [
       "    bbox_east  bbox_north  bbox_south   bbox_west  \\\n",
       "0  107.578164   48.257157   47.635288  106.356383   \n",
       "\n",
       "                                            geometry             place_name  \n",
       "0  POLYGON ((106.356383 48.257157, 106.376367 48....  Ulaanbaatar, Mongolia  "
      ]
     },
     "execution_count": 64,
     "metadata": {},
     "output_type": "execute_result"
    }
   ],
   "source": [
    "city_data.loc[0,'gdf']"
   ]
  },
  {
   "cell_type": "code",
   "execution_count": 62,
   "metadata": {},
   "outputs": [],
   "source": [
    "city_data.to_csv('data/city_access/cities_gdfs.csv',index=False)"
   ]
  },
  {
   "cell_type": "code",
   "execution_count": 57,
   "metadata": {},
   "outputs": [],
   "source": [
    "def make_shp(row):\n",
    "    file_name = 'data/city_access/' + city_data.loc[row, 'file_name']\n",
    "    gdf = gpd.GeoDataFrame(city_data.loc[row,'gdf'])\n",
    "    gdf.to_file(file_name)\n"
   ]
  },
  {
   "cell_type": "code",
   "execution_count": 60,
   "metadata": {},
   "outputs": [],
   "source": [
    "for i in range(city_data.shape[0]):\n",
    "    make_shp(i)"
   ]
  },
  {
   "cell_type": "code",
   "execution_count": null,
   "metadata": {},
   "outputs": [],
   "source": []
  }
 ],
 "metadata": {
  "kernelspec": {
   "display_name": "geo5",
   "language": "python",
   "name": "geo5"
  },
  "language_info": {
   "codemirror_mode": {
    "name": "ipython",
    "version": 3
   },
   "file_extension": ".py",
   "mimetype": "text/x-python",
   "name": "python",
   "nbconvert_exporter": "python",
   "pygments_lexer": "ipython3",
   "version": "3.6.7"
  }
 },
 "nbformat": 4,
 "nbformat_minor": 2
}
